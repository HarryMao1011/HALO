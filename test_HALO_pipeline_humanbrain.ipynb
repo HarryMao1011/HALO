{
 "cells": [
  {
   "cell_type": "code",
   "execution_count": 1,
   "metadata": {},
   "outputs": [
    {
     "name": "stderr",
     "output_type": "stream",
     "text": [
      "Global seed set to 0\n"
     ]
    }
   ],
   "source": [
    "from typing import Dict, Iterable, Optional\n",
    "\n",
    "import numpy as np\n",
    "import torch\n",
    "import scanpy as sc\n",
    "\n",
    "from torch.distributions import Normal, Poisson\n",
    "from torch.distributions import kl_divergence as kld\n",
    "from torch import tensor\n",
    "from complementary_models import HALOMASKVIR as HALOVI\n",
    "from complementary_models import HALOMASKVAE as HALOVAE\n",
    "import scvi\n",
    "import pandas as pd\n"
   ]
  },
  {
   "cell_type": "code",
   "execution_count": 2,
   "metadata": {},
   "outputs": [],
   "source": [
    "### test whole data with RNA only \n",
    "path = \"/mnt/data0/halo/BH/humanbrain_multome.h5ad\"\n",
    "adata_multi = sc.read_h5ad(path)\n",
    "adata_multi.obs[\"batch_id\"] = 1\n",
    "adata_multi.var[\"modality\"] =adata_multi.var[\"feature_types\"]\n",
    "adata_mvi = scvi.data.organize_multiome_anndatas(adata_multi)\n",
    "sc.pp.filter_genes(adata_mvi, min_cells=int(adata_mvi.shape[0] * 0.01))"
   ]
  },
  {
   "cell_type": "code",
   "execution_count": 3,
   "metadata": {},
   "outputs": [
    {
     "name": "stdout",
     "output_type": "stream",
     "text": [
      "n_genes :1584\n",
      "fine tune is False\n",
      "gate decoder initialization n_input 10, n_output 156781,         n_hidden_local 20, n_hidden_global 128, n_cat_list [1], *cat_list 1\n"
     ]
    }
   ],
   "source": [
    "HALOVI.setup_anndata(adata_mvi, batch_key=\"modality\", time_key='latent_time')\n",
    "model = HALOVI(\n",
    "    adata_mvi,\n",
    "    n_genes=(adata_mvi.var['modality']=='Gene Expression').sum(),\n",
    "    n_regions=(adata_mvi.var['modality']=='Peaks').sum()\n",
    ")"
   ]
  },
  {
   "cell_type": "code",
   "execution_count": 11,
   "metadata": {},
   "outputs": [
    {
     "name": "stdout",
     "output_type": "stream",
     "text": [
      "\u001b[34mINFO    \u001b[0m File model_humanbrain_causal002/model.pt already downloaded                         \n",
      "n_genes :1584\n",
      "fine tune is False\n",
      "gate decoder initialization n_input 10, n_output 156781,         n_hidden_local 20, n_hidden_global 128, n_cat_list [1], *cat_list 1\n"
     ]
    }
   ],
   "source": [
    "## load pre-trained models\n",
    "model = model.load(\"model_humanbrain_causal002\", adata_mvi)\n",
    "# model = model.load(\"model_humanbrain_causal01\", adata_mvi)\n",
    "\n",
    "# model = model.load(\"model_multivelo_fig5_nocausal\", adata_mvi)\n",
    "\n",
    "# model = model.load(\"model_multivelo_fig5_causal_0065_softmax\", adata_mvi)\n",
    "# model = model.load(\"model_myeloid_data_nocausal\", adata_mvi)"
   ]
  },
  {
   "cell_type": "code",
   "execution_count": 12,
   "metadata": {},
   "outputs": [],
   "source": [
    "latent_expr, latent_acc,latent_expr_dep, latent_atac_dep, latent_expr_indep, latent_atac_indep, times  = model.get_latent_representation()"
   ]
  },
  {
   "cell_type": "code",
   "execution_count": 22,
   "metadata": {},
   "outputs": [],
   "source": [
    "# model = model.load(\"model_humanbrain_causal01\",adata_mvi)\n",
    "from complementary_models import torch_infer_nonsta_dir\n",
    "\n",
    "\n",
    "latent_atac_indep_t = torch.tensor(latent_atac_indep).to('cuda')\n",
    "latent_expr_indep_t = torch.tensor(latent_expr_indep).to('cuda')\n",
    "times = torch.tensor(times).to('cuda')\n",
    "\n",
    "# times = np.array(times.detach().cpu())\n",
    "score3 = []\n",
    "score4=[]\n",
    "\n",
    "latent_atac_dep_t = torch.tensor(latent_atac_dep).to('cuda')\n",
    "latent_expr_dep_t = torch.tensor(latent_expr_dep).to('cuda')\n",
    "\n",
    "score1 = []\n",
    "score2=[]\n",
    "sample_num = 700\n",
    "iterations = 30\n",
    "\n",
    "for i in range(iterations):\n",
    "    index = np.random.choice(latent_acc.shape[0] , sample_num)\n",
    "    score3.append(torch_infer_nonsta_dir(latent_atac_indep_t[index,:], latent_expr_indep_t[index,:], times[index])[0].detach().cpu())\n",
    "    score4.append(torch_infer_nonsta_dir(latent_expr_indep_t[index,:], latent_atac_indep_t[index,:], times[index])[0].detach().cpu())\n",
    "    score1.append(torch_infer_nonsta_dir(latent_atac_dep_t[index,:], latent_expr_dep_t[index,:], times[index])[0].detach().cpu())\n",
    "    score2.append(torch_infer_nonsta_dir(latent_expr_dep_t[index,:], latent_atac_dep_t[index,:], times[index])[0].detach().cpu())\n",
    "\n",
    "\n",
    "\n",
    "\n",
    "\n",
    "score3 = np.array(score3)\n",
    "score4 = np.array(score4)\n",
    "\n",
    "score1 = np.array(score1)\n",
    "score2 = np.array(score2)"
   ]
  },
  {
   "cell_type": "code",
   "execution_count": 23,
   "metadata": {},
   "outputs": [
    {
     "data": {
      "text/html": [
       "<div>\n",
       "<style scoped>\n",
       "    .dataframe tbody tr th:only-of-type {\n",
       "        vertical-align: middle;\n",
       "    }\n",
       "\n",
       "    .dataframe tbody tr th {\n",
       "        vertical-align: top;\n",
       "    }\n",
       "\n",
       "    .dataframe thead th {\n",
       "        text-align: right;\n",
       "    }\n",
       "</style>\n",
       "<table border=\"1\" class=\"dataframe\">\n",
       "  <thead>\n",
       "    <tr style=\"text-align: right;\">\n",
       "      <th></th>\n",
       "      <th>decouple_atac_to_rna</th>\n",
       "      <th>decouple_rna_to_atac</th>\n",
       "      <th>couple_atac_to_rna</th>\n",
       "      <th>couple_rna_to_atac</th>\n",
       "    </tr>\n",
       "  </thead>\n",
       "  <tbody>\n",
       "    <tr>\n",
       "      <th>0</th>\n",
       "      <td>0.043176</td>\n",
       "      <td>0.057463</td>\n",
       "      <td>0.067735</td>\n",
       "      <td>0.067614</td>\n",
       "    </tr>\n",
       "    <tr>\n",
       "      <th>1</th>\n",
       "      <td>0.044317</td>\n",
       "      <td>0.057837</td>\n",
       "      <td>0.065637</td>\n",
       "      <td>0.065558</td>\n",
       "    </tr>\n",
       "    <tr>\n",
       "      <th>2</th>\n",
       "      <td>0.043625</td>\n",
       "      <td>0.056944</td>\n",
       "      <td>0.065067</td>\n",
       "      <td>0.065033</td>\n",
       "    </tr>\n",
       "    <tr>\n",
       "      <th>3</th>\n",
       "      <td>0.043506</td>\n",
       "      <td>0.057297</td>\n",
       "      <td>0.066451</td>\n",
       "      <td>0.066417</td>\n",
       "    </tr>\n",
       "    <tr>\n",
       "      <th>4</th>\n",
       "      <td>0.048065</td>\n",
       "      <td>0.057825</td>\n",
       "      <td>0.068100</td>\n",
       "      <td>0.068036</td>\n",
       "    </tr>\n",
       "  </tbody>\n",
       "</table>\n",
       "</div>"
      ],
      "text/plain": [
       "   decouple_atac_to_rna  decouple_rna_to_atac  couple_atac_to_rna  \\\n",
       "0              0.043176              0.057463            0.067735   \n",
       "1              0.044317              0.057837            0.065637   \n",
       "2              0.043625              0.056944            0.065067   \n",
       "3              0.043506              0.057297            0.066451   \n",
       "4              0.048065              0.057825            0.068100   \n",
       "\n",
       "   couple_rna_to_atac  \n",
       "0            0.067614  \n",
       "1            0.065558  \n",
       "2            0.065033  \n",
       "3            0.066417  \n",
       "4            0.068036  "
      ]
     },
     "execution_count": 23,
     "metadata": {},
     "output_type": "execute_result"
    }
   ],
   "source": [
    "scores = pd.DataFrame({\"decouple_atac_to_rna\":score3, \"decouple_rna_to_atac\":score4, \"couple_atac_to_rna\":score1, \"couple_rna_to_atac\":score2})\n",
    "scores.to_csv(\"results/BH_065_causal.csv\")\n",
    "scores.head()\n"
   ]
  },
  {
   "cell_type": "code",
   "execution_count": 24,
   "metadata": {},
   "outputs": [
    {
     "data": {
      "image/png": "[encoded data removed]",
      "text/plain": [
       "<Figure size 640x480 with 1 Axes>"
      ]
     },
     "metadata": {},
     "output_type": "display_data"
    }
   ],
   "source": [
    "import seaborn as sns\n",
    "import matplotlib.pyplot as plt\n",
    "\n",
    "\n",
    "ax = sns.violinplot(data=scores, palette=\"muted\",inner=\"points\", linewidth=0.001, edgecolor = \"none\")\n",
    "\n",
    "plt.xticks(rotation=15)\n",
    "sns.despine()\n"
   ]
  },
  {
   "cell_type": "code",
   "execution_count": 25,
   "metadata": {},
   "outputs": [
    {
     "data": {
      "text/html": [
       "<div>\n",
       "<style scoped>\n",
       "    .dataframe tbody tr th:only-of-type {\n",
       "        vertical-align: middle;\n",
       "    }\n",
       "\n",
       "    .dataframe tbody tr th {\n",
       "        vertical-align: top;\n",
       "    }\n",
       "\n",
       "    .dataframe thead th {\n",
       "        text-align: right;\n",
       "    }\n",
       "</style>\n",
       "<table border=\"1\" class=\"dataframe\">\n",
       "  <thead>\n",
       "    <tr style=\"text-align: right;\">\n",
       "      <th></th>\n",
       "      <th>decouple</th>\n",
       "      <th>couple</th>\n",
       "    </tr>\n",
       "  </thead>\n",
       "  <tbody>\n",
       "    <tr>\n",
       "      <th>0</th>\n",
       "      <td>-0.014288</td>\n",
       "      <td>0.000121</td>\n",
       "    </tr>\n",
       "    <tr>\n",
       "      <th>1</th>\n",
       "      <td>-0.013520</td>\n",
       "      <td>0.000080</td>\n",
       "    </tr>\n",
       "    <tr>\n",
       "      <th>2</th>\n",
       "      <td>-0.013319</td>\n",
       "      <td>0.000034</td>\n",
       "    </tr>\n",
       "    <tr>\n",
       "      <th>3</th>\n",
       "      <td>-0.013791</td>\n",
       "      <td>0.000035</td>\n",
       "    </tr>\n",
       "    <tr>\n",
       "      <th>4</th>\n",
       "      <td>-0.009760</td>\n",
       "      <td>0.000064</td>\n",
       "    </tr>\n",
       "  </tbody>\n",
       "</table>\n",
       "</div>"
      ],
      "text/plain": [
       "   decouple    couple\n",
       "0 -0.014288  0.000121\n",
       "1 -0.013520  0.000080\n",
       "2 -0.013319  0.000034\n",
       "3 -0.013791  0.000035\n",
       "4 -0.009760  0.000064"
      ]
     },
     "execution_count": 25,
     "metadata": {},
     "output_type": "execute_result"
    }
   ],
   "source": [
    "decouple_stat = (score3 - score4)\n",
    "couple_stat = (score1 - score2)\n",
    "\n",
    "stats = pd.DataFrame({\"decouple\":decouple_stat, \"couple\":couple_stat})\n",
    "stats.to_csv(\"results/BH_065_causal_stats.csv\")\n",
    "stats.head()"
   ]
  },
  {
   "cell_type": "code",
   "execution_count": 26,
   "metadata": {},
   "outputs": [
    {
     "data": {
      "image/png": "[encoded data removed]",
      "text/plain": [
       "<Figure size 640x480 with 1 Axes>"
      ]
     },
     "metadata": {},
     "output_type": "display_data"
    }
   ],
   "source": [
    "ax = sns.boxplot(data=stats, palette=\"muted\", linewidth=1)\n",
    "\n",
    "sns.despine()"
   ]
  },
  {
   "cell_type": "code",
   "execution_count": 13,
   "metadata": {},
   "outputs": [
    {
     "name": "stderr",
     "output_type": "stream",
     "text": [
      "/home/haiyi/anaconda3/envs/halo/lib/python3.9/site-packages/anndata/_core/anndata.py:1828: UserWarning: Observation names are not unique. To make them unique, call `.obs_names_make_unique`.\n",
      "  utils.warn_names_duplicates(\"obs\")\n",
      "/home/haiyi/anaconda3/envs/halo/lib/python3.9/site-packages/anndata/_core/anndata.py:1828: UserWarning: Observation names are not unique. To make them unique, call `.obs_names_make_unique`.\n",
      "  utils.warn_names_duplicates(\"obs\")\n",
      "/home/haiyi/anaconda3/envs/halo/lib/python3.9/site-packages/anndata/_core/anndata.py:1828: UserWarning: Observation names are not unique. To make them unique, call `.obs_names_make_unique`.\n",
      "  utils.warn_names_duplicates(\"obs\")\n",
      "/home/haiyi/anaconda3/envs/halo/lib/python3.9/site-packages/anndata/_core/anndata.py:1828: UserWarning: Observation names are not unique. To make them unique, call `.obs_names_make_unique`.\n",
      "  utils.warn_names_duplicates(\"obs\")\n",
      "/home/haiyi/anaconda3/envs/halo/lib/python3.9/site-packages/anndata/_core/anndata.py:1828: UserWarning: Observation names are not unique. To make them unique, call `.obs_names_make_unique`.\n",
      "  utils.warn_names_duplicates(\"obs\")\n",
      "/home/haiyi/anaconda3/envs/halo/lib/python3.9/site-packages/anndata/_core/anndata.py:1828: UserWarning: Observation names are not unique. To make them unique, call `.obs_names_make_unique`.\n",
      "  utils.warn_names_duplicates(\"obs\")\n",
      "/home/haiyi/anaconda3/envs/halo/lib/python3.9/site-packages/anndata/_core/anndata.py:1828: UserWarning: Observation names are not unique. To make them unique, call `.obs_names_make_unique`.\n",
      "  utils.warn_names_duplicates(\"obs\")\n",
      "/home/haiyi/anaconda3/envs/halo/lib/python3.9/site-packages/anndata/_core/anndata.py:1828: UserWarning: Observation names are not unique. To make them unique, call `.obs_names_make_unique`.\n",
      "  utils.warn_names_duplicates(\"obs\")\n",
      "/home/haiyi/anaconda3/envs/halo/lib/python3.9/site-packages/anndata/_core/anndata.py:1828: UserWarning: Observation names are not unique. To make them unique, call `.obs_names_make_unique`.\n",
      "  utils.warn_names_duplicates(\"obs\")\n",
      "/home/haiyi/anaconda3/envs/halo/lib/python3.9/site-packages/anndata/_core/anndata.py:1828: UserWarning: Observation names are not unique. To make them unique, call `.obs_names_make_unique`.\n",
      "  utils.warn_names_duplicates(\"obs\")\n"
     ]
    }
   ],
   "source": [
    "## ablation study in terms of  clustering \n",
    "from sklearn.metrics.cluster import adjusted_rand_score as ARI\n",
    "from sklearn.metrics import normalized_mutual_info_score as NMI\n",
    "\n",
    "name = \"results/HB_clustering_score_{}.csv\".format(\"002\")\n",
    "sample_num = 1000\n",
    "iterations = 10\n",
    "nmi = []\n",
    "ari = []\n",
    "\n",
    "for i in range(iterations):\n",
    "    index = np.random.choice(latent_acc.shape[0] , sample_num)\n",
    "    datatemp = adata_mvi[index,:]\n",
    "    datatemp.obsm[\"latent_rep\"] = latent_expr[index, :]\n",
    "    sc.pp.neighbors(datatemp, use_rep=\"latent_rep\")\n",
    "    sc.tl.leiden(datatemp, key_added=\"leiden_latent\", resolution=0.4)\n",
    "    ari_score = ARI(datatemp.obs['cluster'], datatemp.obs['leiden_latent'])\n",
    "    nmi_whole = NMI(datatemp.obs['cluster'], datatemp.obs['leiden_latent'])\n",
    "    nmi.append(nmi_whole)\n",
    "    ari.append(ari_score)\n",
    "\n",
    "scoredf = pd.DataFrame({\"nmi\": nmi, \"ari\":ari})\n",
    "scoredf.to_csv(name)"
   ]
  },
  {
   "cell_type": "code",
   "execution_count": null,
   "metadata": {},
   "outputs": [],
   "source": []
  }
 ],
 "metadata": {
  "kernelspec": {
   "display_name": "Python 3.9.12 ('halo')",
   "language": "python",
   "name": "python3"
  },
  "language_info": {
   "codemirror_mode": {
    "name": "ipython",
    "version": 3
   },
   "file_extension": ".py",
   "mimetype": "text/x-python",
   "name": "python",
   "nbconvert_exporter": "python",
   "pygments_lexer": "ipython3",
   "version": "3.9.12"
  },
  "orig_nbformat": 4,
  "vscode": {
   "interpreter": {
    "hash": "b8353fad07efb87fed686271f8c766cb24580e47ae7007e28a3b0368661d8351"
   }
  }
 },
 "nbformat": 4,
 "nbformat_minor": 2
}
