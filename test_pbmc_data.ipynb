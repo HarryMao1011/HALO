{
 "cells": [
  {
   "cell_type": "code",
   "execution_count": 1,
   "metadata": {},
   "outputs": [],
   "source": [
    "import numpy as np\n",
    "import pandas as pd\n",
    "import scanpy as sc\n",
    "# from SEACells import SEACells\n",
    "from scipy.io import mmread\n",
    "import os\n",
    "import scipy\n",
    "import scipy.io\n",
    "import matplotlib\n",
    "import matplotlib.pyplot as plt\n",
    "import seaborn as sns"
   ]
  },
  {
   "cell_type": "code",
   "execution_count": 2,
   "metadata": {},
   "outputs": [],
   "source": [
    "import matplotlib\n",
    "import matplotlib.pyplot as plt\n",
    "import seaborn as sns\n",
    "# Some plotting aesthetics\n",
    "%matplotlib inline\n",
    "\n",
    "sns.set_style('ticks')\n",
    "matplotlib.rcParams['figure.figsize'] = [4, 4]\n",
    "matplotlib.rcParams['figure.dpi'] = 100"
   ]
  },
  {
   "cell_type": "code",
   "execution_count": 3,
   "metadata": {},
   "outputs": [
    {
     "data": {
      "text/html": [
       "<div>\n",
       "<style scoped>\n",
       "    .dataframe tbody tr th:only-of-type {\n",
       "        vertical-align: middle;\n",
       "    }\n",
       "\n",
       "    .dataframe tbody tr th {\n",
       "        vertical-align: top;\n",
       "    }\n",
       "\n",
       "    .dataframe thead th {\n",
       "        text-align: right;\n",
       "    }\n",
       "</style>\n",
       "<table border=\"1\" class=\"dataframe\">\n",
       "  <thead>\n",
       "    <tr style=\"text-align: right;\">\n",
       "      <th></th>\n",
       "      <th>nCount_RNA</th>\n",
       "      <th>nFeature_RNA</th>\n",
       "      <th>nCount_ATAC</th>\n",
       "      <th>nFeature_ATAC</th>\n",
       "      <th>celltype</th>\n",
       "      <th>broad_celltype</th>\n",
       "    </tr>\n",
       "  </thead>\n",
       "  <tbody>\n",
       "    <tr>\n",
       "      <th>AAACAGCCAAGGAATC</th>\n",
       "      <td>8380</td>\n",
       "      <td>3308</td>\n",
       "      <td>55582</td>\n",
       "      <td>13878</td>\n",
       "      <td>naive CD4 T cells</td>\n",
       "      <td>Lymphoid</td>\n",
       "    </tr>\n",
       "    <tr>\n",
       "      <th>AAACAGCCAATCCCTT</th>\n",
       "      <td>3771</td>\n",
       "      <td>1896</td>\n",
       "      <td>20495</td>\n",
       "      <td>7253</td>\n",
       "      <td>memory CD4 T cells</td>\n",
       "      <td>Lymphoid</td>\n",
       "    </tr>\n",
       "    <tr>\n",
       "      <th>AAACAGCCAATGCGCT</th>\n",
       "      <td>6876</td>\n",
       "      <td>2904</td>\n",
       "      <td>16674</td>\n",
       "      <td>6528</td>\n",
       "      <td>naive CD4 T cells</td>\n",
       "      <td>Lymphoid</td>\n",
       "    </tr>\n",
       "    <tr>\n",
       "      <th>AAACAGCCAGTAGGTG</th>\n",
       "      <td>7614</td>\n",
       "      <td>3061</td>\n",
       "      <td>39454</td>\n",
       "      <td>11633</td>\n",
       "      <td>naive CD4 T cells</td>\n",
       "      <td>Lymphoid</td>\n",
       "    </tr>\n",
       "    <tr>\n",
       "      <th>AAACAGCCAGTTTACG</th>\n",
       "      <td>3633</td>\n",
       "      <td>1691</td>\n",
       "      <td>20523</td>\n",
       "      <td>7245</td>\n",
       "      <td>memory CD4 T cells</td>\n",
       "      <td>Lymphoid</td>\n",
       "    </tr>\n",
       "  </tbody>\n",
       "</table>\n",
       "</div>"
      ],
      "text/plain": [
       "                  nCount_RNA  nFeature_RNA  nCount_ATAC  nFeature_ATAC  \\\n",
       "AAACAGCCAAGGAATC        8380          3308        55582          13878   \n",
       "AAACAGCCAATCCCTT        3771          1896        20495           7253   \n",
       "AAACAGCCAATGCGCT        6876          2904        16674           6528   \n",
       "AAACAGCCAGTAGGTG        7614          3061        39454          11633   \n",
       "AAACAGCCAGTTTACG        3633          1691        20523           7245   \n",
       "\n",
       "                            celltype broad_celltype  \n",
       "AAACAGCCAAGGAATC   naive CD4 T cells       Lymphoid  \n",
       "AAACAGCCAATCCCTT  memory CD4 T cells       Lymphoid  \n",
       "AAACAGCCAATGCGCT   naive CD4 T cells       Lymphoid  \n",
       "AAACAGCCAGTAGGTG   naive CD4 T cells       Lymphoid  \n",
       "AAACAGCCAGTTTACG  memory CD4 T cells       Lymphoid  "
      ]
     },
     "execution_count": 3,
     "metadata": {},
     "output_type": "execute_result"
    }
   ],
   "source": [
    "import pandas as pd\n",
    "anno = pd.read_csv(\"../hackthon/10x_pbmc/10x_pbmc_annotation.txt\", sep = \"\\t\")\n",
    "anno.head()"
   ]
  },
  {
   "cell_type": "code",
   "execution_count": 13,
   "metadata": {},
   "outputs": [
    {
     "data": {
      "text/html": [
       "<div>\n",
       "<style scoped>\n",
       "    .dataframe tbody tr th:only-of-type {\n",
       "        vertical-align: middle;\n",
       "    }\n",
       "\n",
       "    .dataframe tbody tr th {\n",
       "        vertical-align: top;\n",
       "    }\n",
       "\n",
       "    .dataframe thead th {\n",
       "        text-align: right;\n",
       "    }\n",
       "</style>\n",
       "<table border=\"1\" class=\"dataframe\">\n",
       "  <thead>\n",
       "    <tr style=\"text-align: right;\">\n",
       "      <th></th>\n",
       "      <th>nCount_RNA</th>\n",
       "      <th>nFeature_RNA</th>\n",
       "      <th>nCount_ATAC</th>\n",
       "      <th>nFeature_ATAC</th>\n",
       "      <th>celltype</th>\n",
       "      <th>broad_celltype</th>\n",
       "    </tr>\n",
       "  </thead>\n",
       "  <tbody>\n",
       "    <tr>\n",
       "      <th>AAACAGCCAAGGAATC</th>\n",
       "      <td>8380</td>\n",
       "      <td>3308</td>\n",
       "      <td>55582</td>\n",
       "      <td>13878</td>\n",
       "      <td>naive CD4 T cells</td>\n",
       "      <td>Lymphoid</td>\n",
       "    </tr>\n",
       "    <tr>\n",
       "      <th>AAACAGCCAATCCCTT</th>\n",
       "      <td>3771</td>\n",
       "      <td>1896</td>\n",
       "      <td>20495</td>\n",
       "      <td>7253</td>\n",
       "      <td>memory CD4 T cells</td>\n",
       "      <td>Lymphoid</td>\n",
       "    </tr>\n",
       "    <tr>\n",
       "      <th>AAACAGCCAATGCGCT</th>\n",
       "      <td>6876</td>\n",
       "      <td>2904</td>\n",
       "      <td>16674</td>\n",
       "      <td>6528</td>\n",
       "      <td>naive CD4 T cells</td>\n",
       "      <td>Lymphoid</td>\n",
       "    </tr>\n",
       "    <tr>\n",
       "      <th>AAACAGCCAGTAGGTG</th>\n",
       "      <td>7614</td>\n",
       "      <td>3061</td>\n",
       "      <td>39454</td>\n",
       "      <td>11633</td>\n",
       "      <td>naive CD4 T cells</td>\n",
       "      <td>Lymphoid</td>\n",
       "    </tr>\n",
       "    <tr>\n",
       "      <th>AAACAGCCAGTTTACG</th>\n",
       "      <td>3633</td>\n",
       "      <td>1691</td>\n",
       "      <td>20523</td>\n",
       "      <td>7245</td>\n",
       "      <td>memory CD4 T cells</td>\n",
       "      <td>Lymphoid</td>\n",
       "    </tr>\n",
       "    <tr>\n",
       "      <th>...</th>\n",
       "      <td>...</td>\n",
       "      <td>...</td>\n",
       "      <td>...</td>\n",
       "      <td>...</td>\n",
       "      <td>...</td>\n",
       "      <td>...</td>\n",
       "    </tr>\n",
       "    <tr>\n",
       "      <th>TTTGTTGGTGACATGC</th>\n",
       "      <td>3285</td>\n",
       "      <td>1586</td>\n",
       "      <td>15272</td>\n",
       "      <td>5718</td>\n",
       "      <td>naive CD8 T cells</td>\n",
       "      <td>Lymphoid</td>\n",
       "    </tr>\n",
       "    <tr>\n",
       "      <th>TTTGTTGGTGTTAAAC</th>\n",
       "      <td>2866</td>\n",
       "      <td>1525</td>\n",
       "      <td>17869</td>\n",
       "      <td>6629</td>\n",
       "      <td>naive CD8 T cells</td>\n",
       "      <td>Lymphoid</td>\n",
       "    </tr>\n",
       "    <tr>\n",
       "      <th>TTTGTTGGTTAGGATT</th>\n",
       "      <td>4148</td>\n",
       "      <td>2024</td>\n",
       "      <td>10558</td>\n",
       "      <td>4267</td>\n",
       "      <td>CD56 (bright) NK cells</td>\n",
       "      <td>Lymphoid</td>\n",
       "    </tr>\n",
       "    <tr>\n",
       "      <th>TTTGTTGGTTGGTTAG</th>\n",
       "      <td>2976</td>\n",
       "      <td>1620</td>\n",
       "      <td>17054</td>\n",
       "      <td>6367</td>\n",
       "      <td>memory CD4 T cells</td>\n",
       "      <td>Lymphoid</td>\n",
       "    </tr>\n",
       "    <tr>\n",
       "      <th>TTTGTTGGTTTGCAGA</th>\n",
       "      <td>4505</td>\n",
       "      <td>1920</td>\n",
       "      <td>22729</td>\n",
       "      <td>7574</td>\n",
       "      <td>effector CD8 T cells</td>\n",
       "      <td>Lymphoid</td>\n",
       "    </tr>\n",
       "  </tbody>\n",
       "</table>\n",
       "<p>10032 rows × 6 columns</p>\n",
       "</div>"
      ],
      "text/plain": [
       "                  nCount_RNA  nFeature_RNA  nCount_ATAC  nFeature_ATAC  \\\n",
       "AAACAGCCAAGGAATC        8380          3308        55582          13878   \n",
       "AAACAGCCAATCCCTT        3771          1896        20495           7253   \n",
       "AAACAGCCAATGCGCT        6876          2904        16674           6528   \n",
       "AAACAGCCAGTAGGTG        7614          3061        39454          11633   \n",
       "AAACAGCCAGTTTACG        3633          1691        20523           7245   \n",
       "...                      ...           ...          ...            ...   \n",
       "TTTGTTGGTGACATGC        3285          1586        15272           5718   \n",
       "TTTGTTGGTGTTAAAC        2866          1525        17869           6629   \n",
       "TTTGTTGGTTAGGATT        4148          2024        10558           4267   \n",
       "TTTGTTGGTTGGTTAG        2976          1620        17054           6367   \n",
       "TTTGTTGGTTTGCAGA        4505          1920        22729           7574   \n",
       "\n",
       "                                celltype broad_celltype  \n",
       "AAACAGCCAAGGAATC       naive CD4 T cells       Lymphoid  \n",
       "AAACAGCCAATCCCTT      memory CD4 T cells       Lymphoid  \n",
       "AAACAGCCAATGCGCT       naive CD4 T cells       Lymphoid  \n",
       "AAACAGCCAGTAGGTG       naive CD4 T cells       Lymphoid  \n",
       "AAACAGCCAGTTTACG      memory CD4 T cells       Lymphoid  \n",
       "...                                  ...            ...  \n",
       "TTTGTTGGTGACATGC       naive CD8 T cells       Lymphoid  \n",
       "TTTGTTGGTGTTAAAC       naive CD8 T cells       Lymphoid  \n",
       "TTTGTTGGTTAGGATT  CD56 (bright) NK cells       Lymphoid  \n",
       "TTTGTTGGTTGGTTAG      memory CD4 T cells       Lymphoid  \n",
       "TTTGTTGGTTTGCAGA    effector CD8 T cells       Lymphoid  \n",
       "\n",
       "[10032 rows x 6 columns]"
      ]
     },
     "execution_count": 13,
     "metadata": {},
     "output_type": "execute_result"
    }
   ],
   "source": [
    "anno"
   ]
  },
  {
   "cell_type": "code",
   "execution_count": 108,
   "metadata": {},
   "outputs": [
    {
     "ename": "SyntaxError",
     "evalue": "positional argument follows keyword argument (754342784.py, line 1)",
     "output_type": "error",
     "traceback": [
      "\u001b[0;36m  Input \u001b[0;32mIn [108]\u001b[0;36m\u001b[0m\n\u001b[0;31m    barcodes2 = pd.read_csv(\"../hackthon/10x_pbmc/ATAC/barcodes.tsv\", sep = \"\\t\", header=None, index_col)\u001b[0m\n\u001b[0m                                                                                                        ^\u001b[0m\n\u001b[0;31mSyntaxError\u001b[0m\u001b[0;31m:\u001b[0m positional argument follows keyword argument\n"
     ]
    }
   ],
   "source": [
    "barcodes2 = pd.read_csv(\"../hackthon/10x_pbmc/ATAC/barcodes.tsv\", sep = \"\\t\", header=None, index_col)\n",
    "barcodes2"
   ]
  },
  {
   "cell_type": "code",
   "execution_count": 9,
   "metadata": {},
   "outputs": [
    {
     "data": {
      "text/html": [
       "<div>\n",
       "<style scoped>\n",
       "    .dataframe tbody tr th:only-of-type {\n",
       "        vertical-align: middle;\n",
       "    }\n",
       "\n",
       "    .dataframe tbody tr th {\n",
       "        vertical-align: top;\n",
       "    }\n",
       "\n",
       "    .dataframe thead th {\n",
       "        text-align: right;\n",
       "    }\n",
       "</style>\n",
       "<table border=\"1\" class=\"dataframe\">\n",
       "  <thead>\n",
       "    <tr style=\"text-align: right;\">\n",
       "      <th></th>\n",
       "      <th>HES4</th>\n",
       "      <th>HES4.1</th>\n",
       "    </tr>\n",
       "  </thead>\n",
       "  <tbody>\n",
       "    <tr>\n",
       "      <th>0</th>\n",
       "      <td>LINC01342</td>\n",
       "      <td>LINC01342</td>\n",
       "    </tr>\n",
       "    <tr>\n",
       "      <th>1</th>\n",
       "      <td>TNFRSF18</td>\n",
       "      <td>TNFRSF18</td>\n",
       "    </tr>\n",
       "    <tr>\n",
       "      <th>2</th>\n",
       "      <td>TNFRSF4</td>\n",
       "      <td>TNFRSF4</td>\n",
       "    </tr>\n",
       "    <tr>\n",
       "      <th>3</th>\n",
       "      <td>AJAP1</td>\n",
       "      <td>AJAP1</td>\n",
       "    </tr>\n",
       "    <tr>\n",
       "      <th>4</th>\n",
       "      <td>AL365255.1</td>\n",
       "      <td>AL365255.1</td>\n",
       "    </tr>\n",
       "  </tbody>\n",
       "</table>\n",
       "</div>"
      ],
      "text/plain": [
       "         HES4      HES4.1\n",
       "0   LINC01342   LINC01342\n",
       "1    TNFRSF18    TNFRSF18\n",
       "2     TNFRSF4     TNFRSF4\n",
       "3       AJAP1       AJAP1\n",
       "4  AL365255.1  AL365255.1"
      ]
     },
     "execution_count": 9,
     "metadata": {},
     "output_type": "execute_result"
    }
   ],
   "source": [
    "genes = pd.read_csv(\"../hackthon/10x_pbmc/RNA/genes.tsv\", sep = \"\\t\")\n",
    "genes.head()"
   ]
  },
  {
   "cell_type": "code",
   "execution_count": 116,
   "metadata": {},
   "outputs": [
    {
     "data": {
      "text/plain": [
       "<HDF5 file \"pbmc_granulocyte_sorted_10k_raw_feature_bc_matrix.h5\" (mode r+)>"
      ]
     },
     "execution_count": 116,
     "metadata": {},
     "output_type": "execute_result"
    }
   ],
   "source": [
    "import h5py\n",
    "feature = h5py.File(\"../hackthon/10x_pbmc/pbmc_granulocyte_sorted_10k_raw_feature_bc_matrix.h5\",'r+')    \n",
    "feature"
   ]
  },
  {
   "cell_type": "code",
   "execution_count": 117,
   "metadata": {},
   "outputs": [
    {
     "data": {
      "text/plain": [
       "<HDF5 dataset \"data\": shape (142396297,), type \"<i4\">"
      ]
     },
     "execution_count": 117,
     "metadata": {},
     "output_type": "execute_result"
    }
   ],
   "source": [
    "feature[\"matrix\"]['data']"
   ]
  },
  {
   "cell_type": "code",
   "execution_count": 118,
   "metadata": {},
   "outputs": [
    {
     "data": {
      "text/html": [
       "<div>\n",
       "<style scoped>\n",
       "    .dataframe tbody tr th:only-of-type {\n",
       "        vertical-align: middle;\n",
       "    }\n",
       "\n",
       "    .dataframe tbody tr th {\n",
       "        vertical-align: top;\n",
       "    }\n",
       "\n",
       "    .dataframe thead th {\n",
       "        text-align: right;\n",
       "    }\n",
       "</style>\n",
       "<table border=\"1\" class=\"dataframe\">\n",
       "  <thead>\n",
       "    <tr style=\"text-align: right;\">\n",
       "      <th></th>\n",
       "      <th>0</th>\n",
       "    </tr>\n",
       "  </thead>\n",
       "  <tbody>\n",
       "    <tr>\n",
       "      <th>0</th>\n",
       "      <td>AAACAGCCAAACAACA-1</td>\n",
       "    </tr>\n",
       "    <tr>\n",
       "      <th>1</th>\n",
       "      <td>AAACAGCCAAACATAG-1</td>\n",
       "    </tr>\n",
       "    <tr>\n",
       "      <th>2</th>\n",
       "      <td>AAACAGCCAAACCCTA-1</td>\n",
       "    </tr>\n",
       "    <tr>\n",
       "      <th>3</th>\n",
       "      <td>AAACAGCCAAACCTAT-1</td>\n",
       "    </tr>\n",
       "    <tr>\n",
       "      <th>4</th>\n",
       "      <td>AAACAGCCAAACCTTG-1</td>\n",
       "    </tr>\n",
       "    <tr>\n",
       "      <th>...</th>\n",
       "      <td>...</td>\n",
       "    </tr>\n",
       "    <tr>\n",
       "      <th>730816</th>\n",
       "      <td>TTTGTTGGTTTGGGTA-1</td>\n",
       "    </tr>\n",
       "    <tr>\n",
       "      <th>730817</th>\n",
       "      <td>TTTGTTGGTTTGGTTC-1</td>\n",
       "    </tr>\n",
       "    <tr>\n",
       "      <th>730818</th>\n",
       "      <td>TTTGTTGGTTTGTCTA-1</td>\n",
       "    </tr>\n",
       "    <tr>\n",
       "      <th>730819</th>\n",
       "      <td>TTTGTTGGTTTGTGGA-1</td>\n",
       "    </tr>\n",
       "    <tr>\n",
       "      <th>730820</th>\n",
       "      <td>TTTGTTGGTTTGTTGC-1</td>\n",
       "    </tr>\n",
       "  </tbody>\n",
       "</table>\n",
       "<p>730821 rows × 1 columns</p>\n",
       "</div>"
      ],
      "text/plain": [
       "                         0\n",
       "0       AAACAGCCAAACAACA-1\n",
       "1       AAACAGCCAAACATAG-1\n",
       "2       AAACAGCCAAACCCTA-1\n",
       "3       AAACAGCCAAACCTAT-1\n",
       "4       AAACAGCCAAACCTTG-1\n",
       "...                    ...\n",
       "730816  TTTGTTGGTTTGGGTA-1\n",
       "730817  TTTGTTGGTTTGGTTC-1\n",
       "730818  TTTGTTGGTTTGTCTA-1\n",
       "730819  TTTGTTGGTTTGTGGA-1\n",
       "730820  TTTGTTGGTTTGTTGC-1\n",
       "\n",
       "[730821 rows x 1 columns]"
      ]
     },
     "execution_count": 118,
     "metadata": {},
     "output_type": "execute_result"
    }
   ],
   "source": [
    "barcodes = [text.decode(\"utf-8\")  for text in feature[\"matrix\"]['barcodes'][:]]\n",
    "barcodes = [str(text) for text in barcodes]\n",
    "barcodes = pd.DataFrame(barcodes)\n",
    "barcodes"
   ]
  },
  {
   "cell_type": "code",
   "execution_count": 119,
   "metadata": {},
   "outputs": [],
   "source": [
    "barcodes.set_index(0)\n",
    "barcodes.to_csv(\"../hackthon/10x_pbmc/filtered_barcodes_granulocyte.tsv\", header=False, index=False)"
   ]
  },
  {
   "cell_type": "code",
   "execution_count": 121,
   "metadata": {},
   "outputs": [
    {
     "data": {
      "text/html": [
       "<div>\n",
       "<style scoped>\n",
       "    .dataframe tbody tr th:only-of-type {\n",
       "        vertical-align: middle;\n",
       "    }\n",
       "\n",
       "    .dataframe tbody tr th {\n",
       "        vertical-align: top;\n",
       "    }\n",
       "\n",
       "    .dataframe thead th {\n",
       "        text-align: right;\n",
       "    }\n",
       "</style>\n",
       "<table border=\"1\" class=\"dataframe\">\n",
       "  <thead>\n",
       "    <tr style=\"text-align: right;\">\n",
       "      <th></th>\n",
       "    </tr>\n",
       "    <tr>\n",
       "      <th>0</th>\n",
       "    </tr>\n",
       "  </thead>\n",
       "  <tbody>\n",
       "    <tr>\n",
       "      <th>AAACAGCCAAACAACA-1</th>\n",
       "    </tr>\n",
       "    <tr>\n",
       "      <th>AAACAGCCAAACATAG-1</th>\n",
       "    </tr>\n",
       "    <tr>\n",
       "      <th>AAACAGCCAAACCCTA-1</th>\n",
       "    </tr>\n",
       "    <tr>\n",
       "      <th>AAACAGCCAAACCTAT-1</th>\n",
       "    </tr>\n",
       "    <tr>\n",
       "      <th>AAACAGCCAAACCTTG-1</th>\n",
       "    </tr>\n",
       "    <tr>\n",
       "      <th>...</th>\n",
       "    </tr>\n",
       "    <tr>\n",
       "      <th>TTTGTTGGTTTGGGTA-1</th>\n",
       "    </tr>\n",
       "    <tr>\n",
       "      <th>TTTGTTGGTTTGGTTC-1</th>\n",
       "    </tr>\n",
       "    <tr>\n",
       "      <th>TTTGTTGGTTTGTCTA-1</th>\n",
       "    </tr>\n",
       "    <tr>\n",
       "      <th>TTTGTTGGTTTGTGGA-1</th>\n",
       "    </tr>\n",
       "    <tr>\n",
       "      <th>TTTGTTGGTTTGTTGC-1</th>\n",
       "    </tr>\n",
       "  </tbody>\n",
       "</table>\n",
       "<p>730821 rows × 0 columns</p>\n",
       "</div>"
      ],
      "text/plain": [
       "Empty DataFrame\n",
       "Columns: []\n",
       "Index: [AAACAGCCAAACAACA-1, AAACAGCCAAACATAG-1, AAACAGCCAAACCCTA-1, AAACAGCCAAACCTAT-1, AAACAGCCAAACCTTG-1, AAACAGCCAAACGCGA-1, AAACAGCCAAACGGGC-1, AAACAGCCAAACTAAG-1, AAACAGCCAAACTCAT-1, AAACAGCCAAACTGCC-1, AAACAGCCAAACTGTT-1, AAACAGCCAAAGCCTC-1, AAACAGCCAAAGCGCA-1, AAACAGCCAAAGCGGC-1, AAACAGCCAAAGCTAA-1, AAACAGCCAAAGCTCC-1, AAACAGCCAAAGGCCA-1, AAACAGCCAAAGGTAC-1, AAACAGCCAAATACCT-1, AAACAGCCAAATATCC-1, AAACAGCCAAATGCCC-1, AAACAGCCAAATTCGT-1, AAACAGCCAAATTGCT-1, AAACAGCCAACAACAA-1, AAACAGCCAACACCTA-1, AAACAGCCAACACTTG-1, AAACAGCCAACAGCCT-1, AAACAGCCAACAGGAT-1, AAACAGCCAACAGGTG-1, AAACAGCCAACATAAG-1, AAACAGCCAACCCTAA-1, AAACAGCCAACCCTCC-1, AAACAGCCAACCGCCA-1, AAACAGCCAACCTAAT-1, AAACAGCCAACCTGGT-1, AAACAGCCAACGTGCT-1, AAACAGCCAACTAACT-1, AAACAGCCAACTAGAA-1, AAACAGCCAACTAGCC-1, AAACAGCCAACTAGGG-1, AAACAGCCAACTCGCG-1, AAACAGCCAACTGGCT-1, AAACAGCCAACTGGGA-1, AAACAGCCAAGACTCC-1, AAACAGCCAAGATTCT-1, AAACAGCCAAGCCACT-1, AAACAGCCAAGCCAGA-1, AAACAGCCAAGCGAGC-1, AAACAGCCAAGCGATG-1, AAACAGCCAAGCTAAA-1, AAACAGCCAAGCTACC-1, AAACAGCCAAGCTTAT-1, AAACAGCCAAGCTTTG-1, AAACAGCCAAGGAATC-1, AAACAGCCAAGGACCA-1, AAACAGCCAAGGATTA-1, AAACAGCCAAGGCCAA-1, AAACAGCCAAGGGTTG-1, AAACAGCCAAGGTAAC-1, AAACAGCCAAGGTACG-1, AAACAGCCAAGGTATA-1, AAACAGCCAAGGTCCT-1, AAACAGCCAAGGTCGA-1, AAACAGCCAAGGTGCA-1, AAACAGCCAAGGTGGC-1, AAACAGCCAAGTAAGC-1, AAACAGCCAAGTCGCT-1, AAACAGCCAAGTGAAC-1, AAACAGCCAAGTGTCC-1, AAACAGCCAAGTGTTT-1, AAACAGCCAAGTTATC-1, AAACAGCCAATAACCT-1, AAACAGCCAATAACGA-1, AAACAGCCAATAAGCA-1, AAACAGCCAATAATCC-1, AAACAGCCAATAATGG-1, AAACAGCCAATACTGT-1, AAACAGCCAATAGCAA-1, AAACAGCCAATAGCCC-1, AAACAGCCAATAGTCT-1, AAACAGCCAATATACC-1, AAACAGCCAATATAGG-1, AAACAGCCAATATGGA-1, AAACAGCCAATCATGT-1, AAACAGCCAATCCCTT-1, AAACAGCCAATCCTAG-1, AAACAGCCAATCCTGA-1, AAACAGCCAATCGCAC-1, AAACAGCCAATCTCTC-1, AAACAGCCAATGAAGC-1, AAACAGCCAATGAATG-1, AAACAGCCAATGAGGT-1, AAACAGCCAATGCCCG-1, AAACAGCCAATGCCTA-1, AAACAGCCAATGCGCT-1, AAACAGCCAATTAACC-1, AAACAGCCAATTAAGG-1, AAACAGCCAATTAGCT-1, AAACAGCCAATTAGGA-1, AAACAGCCAATTATGC-1, ...]\n",
       "\n",
       "[730821 rows x 0 columns]"
      ]
     },
     "execution_count": 121,
     "metadata": {},
     "output_type": "execute_result"
    }
   ],
   "source": [
    "barcodes = pd.read_csv(\"../hackthon/10x_pbmc/filtered_barcodes_granulocyte.tsv\", sep = \"\\t\", header=None, index_col=0)\n",
    "barcodes"
   ]
  },
  {
   "cell_type": "code",
   "execution_count": 122,
   "metadata": {},
   "outputs": [],
   "source": [
    "overlap = pd.merge(barcodes, anno, left_index=True, right_index=True, how='inner')"
   ]
  },
  {
   "cell_type": "code",
   "execution_count": 123,
   "metadata": {},
   "outputs": [
    {
     "data": {
      "text/html": [
       "<div>\n",
       "<style scoped>\n",
       "    .dataframe tbody tr th:only-of-type {\n",
       "        vertical-align: middle;\n",
       "    }\n",
       "\n",
       "    .dataframe tbody tr th {\n",
       "        vertical-align: top;\n",
       "    }\n",
       "\n",
       "    .dataframe thead th {\n",
       "        text-align: right;\n",
       "    }\n",
       "</style>\n",
       "<table border=\"1\" class=\"dataframe\">\n",
       "  <thead>\n",
       "    <tr style=\"text-align: right;\">\n",
       "      <th></th>\n",
       "      <th>nCount_RNA</th>\n",
       "      <th>nFeature_RNA</th>\n",
       "      <th>nCount_ATAC</th>\n",
       "      <th>nFeature_ATAC</th>\n",
       "      <th>celltype</th>\n",
       "      <th>broad_celltype</th>\n",
       "    </tr>\n",
       "  </thead>\n",
       "  <tbody>\n",
       "  </tbody>\n",
       "</table>\n",
       "</div>"
      ],
      "text/plain": [
       "Empty DataFrame\n",
       "Columns: [nCount_RNA, nFeature_RNA, nCount_ATAC, nFeature_ATAC, celltype, broad_celltype]\n",
       "Index: []"
      ]
     },
     "execution_count": 123,
     "metadata": {},
     "output_type": "execute_result"
    }
   ],
   "source": [
    "overlap"
   ]
  },
  {
   "cell_type": "code",
   "execution_count": 83,
   "metadata": {},
   "outputs": [
    {
     "data": {
      "text/plain": [
       "False"
      ]
     },
     "execution_count": 83,
     "metadata": {},
     "output_type": "execute_result"
    }
   ],
   "source": [
    "'AAACAGCCAAGGAATC-1' == 'AAACAGCCAACAACAA-1'"
   ]
  },
  {
   "cell_type": "code",
   "execution_count": null,
   "metadata": {},
   "outputs": [],
   "source": []
  }
 ],
 "metadata": {
  "kernelspec": {
   "display_name": "halo",
   "language": "python",
   "name": "halo"
  },
  "language_info": {
   "codemirror_mode": {
    "name": "ipython",
    "version": 3
   },
   "file_extension": ".py",
   "mimetype": "text/x-python",
   "name": "python",
   "nbconvert_exporter": "python",
   "pygments_lexer": "ipython3",
   "version": "3.9.12"
  }
 },
 "nbformat": 4,
 "nbformat_minor": 4
}
