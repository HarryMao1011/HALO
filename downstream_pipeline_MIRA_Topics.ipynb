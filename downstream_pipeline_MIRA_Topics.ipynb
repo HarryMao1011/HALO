{
 "cells": [
  {
   "cell_type": "markdown",
   "metadata": {},
   "source": [
    "# Test the HALO Downstreaming Pipelines for regulation potential analysis"
   ]
  },
  {
   "cell_type": "markdown",
   "metadata": {},
   "source": [
    "## Load the library"
   ]
  },
  {
   "cell_type": "code",
   "execution_count": 9,
   "metadata": {},
   "outputs": [],
   "source": [
    "from typing import Dict, Iterable, Optional\n",
    "\n",
    "import numpy as np\n",
    "import torch\n",
    "from torch.distributions import Normal, Poisson\n",
    "from torch.distributions import kl_divergence as kld\n",
    "from torch import tensor\n",
    "import scanpy as sc\n",
    "import anndata\n",
    "import pandas as pd\n",
    "import tools\n",
    "import logging\n",
    "import mira\n",
    "import scanpy as sc\n",
    "import pandas as pd\n",
    "import matplotlib.pyplot as plt\n",
    "import seaborn as sns"
   ]
  },
  {
   "cell_type": "markdown",
   "metadata": {},
   "source": [
    "## You  might need to compute the Mira topic models for downstreaming tasks for Now"
   ]
  },
  {
   "cell_type": "markdown",
   "metadata": {},
   "source": [
    "### If you need to train the MIRA model, see the downstream_pipeline_MIRA_topics.ipynb"
   ]
  },
  {
   "cell_type": "markdown",
   "metadata": {},
   "source": [
    "## Load pretrained model"
   ]
  },
  {
   "cell_type": "code",
   "execution_count": 10,
   "metadata": {},
   "outputs": [],
   "source": [
    "atac_model = mira.topics.AccessibilityTopicModel(counts_layer='counts',\n",
    "                                                 dataset_loader_workers = 3)\n",
    "\n",
    "rna_model = mira.topics.ExpressionTopicModel(\n",
    "    endogenous_key='endog',\n",
    "    exogenous_key='endog',\n",
    "    counts_layer='counts',\n",
    "    seed = 0,\n",
    "    hidden=64, # to make the tutorial faster. In practice, use the default of 128!\n",
    ")               "
   ]
  },
  {
   "cell_type": "code",
   "execution_count": 11,
   "metadata": {},
   "outputs": [
    {
     "name": "stderr",
     "output_type": "stream",
     "text": [
      "/home/haiyi/anaconda3/envs/halo2/lib/python3.7/site-packages/anndata/_core/anndata.py:121: ImplicitModificationWarning: Transforming to str index.\n",
      "  warnings.warn(\"Transforming to str index.\", ImplicitModificationWarning)\n"
     ]
    }
   ],
   "source": [
    "rna_data = anndata.read_h5ad(\"data/datasets/mouse_brain_rna_interim.h5ad\")\n",
    "atac_data =  anndata.read_h5ad(\"data/datasets/mouse_brain_atac_interim.h5ad\")"
   ]
  },
  {
   "cell_type": "code",
   "execution_count": 12,
   "metadata": {},
   "outputs": [
    {
     "name": "stderr",
     "output_type": "stream",
     "text": [
      "INFO:mira.topic_model.base:Moving model to CPU for inference.\n",
      "INFO:mira.topic_model.base:Moving model to device: cpu\n",
      "INFO:mira.topic_model.base:Moving model to CPU for inference.\n",
      "INFO:mira.topic_model.base:Moving model to device: cpu\n"
     ]
    }
   ],
   "source": [
    "## If there are pretrained models, load them\n",
    "\n",
    "rna_model = mira.topics.ExpressionTopicModel.load('MIRA/rna_topic_model.pth')\n",
    "atac_model = mira.topics.AccessibilityTopicModel.load('MIRA/atac_topic_model.pth')"
   ]
  },
  {
   "cell_type": "markdown",
   "metadata": {},
   "source": [
    "### Training the MIRA model\n",
    "#### Training the RNA model"
   ]
  },
  {
   "cell_type": "code",
   "execution_count": 1,
   "metadata": {},
   "outputs": [
    {
     "ename": "NameError",
     "evalue": "name 'rna_model' is not defined",
     "output_type": "error",
     "traceback": [
      "\u001b[0;31m---------------------------------------------------------------------------\u001b[0m",
      "\u001b[0;31mNameError\u001b[0m                                 Traceback (most recent call last)",
      "\u001b[0;32m/tmp/ipykernel_12886/2542026597.py\u001b[0m in \u001b[0;36m<module>\u001b[0;34m\u001b[0m\n\u001b[1;32m      1\u001b[0m \u001b[0;31m## Set up Rtuner\u001b[0m\u001b[0;34m\u001b[0m\u001b[0;34m\u001b[0m\u001b[0;34m\u001b[0m\u001b[0m\n\u001b[0;32m----> 2\u001b[0;31m \u001b[0mrna_model\u001b[0m\u001b[0;34m.\u001b[0m\u001b[0mget_learning_rate_bounds\u001b[0m\u001b[0;34m(\u001b[0m\u001b[0mrna_data\u001b[0m\u001b[0;34m,\u001b[0m \u001b[0meval_every\u001b[0m\u001b[0;34m=\u001b[0m\u001b[0;36m1\u001b[0m\u001b[0;34m,\u001b[0m \u001b[0mupper_bound_lr\u001b[0m\u001b[0;34m=\u001b[0m\u001b[0;36m5\u001b[0m\u001b[0;34m)\u001b[0m\u001b[0;34m\u001b[0m\u001b[0;34m\u001b[0m\u001b[0m\n\u001b[0m\u001b[1;32m      3\u001b[0m \u001b[0mrna_model\u001b[0m\u001b[0;34m.\u001b[0m\u001b[0mtrim_learning_rate_bounds\u001b[0m\u001b[0;34m(\u001b[0m\u001b[0;36m2.25\u001b[0m\u001b[0;34m,\u001b[0m \u001b[0;36m1.25\u001b[0m\u001b[0;34m)\u001b[0m\u001b[0;34m\u001b[0m\u001b[0;34m\u001b[0m\u001b[0m\n\u001b[1;32m      4\u001b[0m \u001b[0m_\u001b[0m \u001b[0;34m=\u001b[0m \u001b[0mrna_model\u001b[0m\u001b[0;34m.\u001b[0m\u001b[0mplot_learning_rate_bounds\u001b[0m\u001b[0;34m(\u001b[0m\u001b[0;34m)\u001b[0m\u001b[0;34m\u001b[0m\u001b[0;34m\u001b[0m\u001b[0m\n",
      "\u001b[0;31mNameError\u001b[0m: name 'rna_model' is not defined"
     ]
    }
   ],
   "source": [
    "## Set up Rtuner\n",
    "rna_model.get_learning_rate_bounds(rna_data, eval_every=1, upper_bound_lr=5)\n",
    "rna_model.trim_learning_rate_bounds(2.25, 1.25)\n",
    "_ = rna_model.plot_learning_rate_bounds()"
   ]
  },
  {
   "cell_type": "code",
   "execution_count": null,
   "metadata": {},
   "outputs": [],
   "source": [
    "Rtuner = mira.topics.TopicModelTuner(\n",
    "    rna_model,\n",
    "    save_name = 'tuning-tutorial',\n",
    "    seed = 0,\n",
    "    iters=32, # Recommend 30-64 iterations of tuning.\n",
    "    max_topics = 15 # to speed up convergence! Leave at default of 55 when working with new data.\n",
    ")\n",
    "Rtuner.train_test_split(rna_data)"
   ]
  },
  {
   "cell_type": "code",
   "execution_count": null,
   "metadata": {},
   "outputs": [],
   "source": [
    "Rtuner.tune(rna_data, n_workers=5)"
   ]
  },
  {
   "cell_type": "code",
   "execution_count": null,
   "metadata": {},
   "outputs": [],
   "source": [
    "Rtuner.select_best_model(rna_data, record_umaps=True)"
   ]
  },
  {
   "cell_type": "code",
   "execution_count": null,
   "metadata": {},
   "outputs": [],
   "source": [
    "rna_model.save('MIRA/rna_topic_model_MB.pth')\n"
   ]
  },
  {
   "cell_type": "code",
   "execution_count": null,
   "metadata": {},
   "outputs": [],
   "source": [
    "rna_model.predict(rna_data)\n",
    "rna_model.get_umap_features(rna_data, box_cox=0.5)\n",
    "sc.pp.neighbors(rna_data, use_rep = 'X_umap_features', metric = 'manhattan')\n",
    "sc.tl.umap(rna_data, min_dist=0.1, negative_sample_rate=0.05)\n",
    "\n",
    "sc.pl.umap(rna_data, frameon=False, size = 10, alpha = 1, add_outline=True,\n",
    "          outline_width=(0.1,0), color='celltype')"
   ]
  },
  {
   "cell_type": "markdown",
   "metadata": {},
   "source": [
    "### Training the Atac Models\n"
   ]
  },
  {
   "cell_type": "code",
   "execution_count": null,
   "metadata": {},
   "outputs": [],
   "source": [
    "atac_data.raw = atac_data\n",
    "atac_data.layers['counts'] = atac_data.raw.to_adata().X.copy()"
   ]
  },
  {
   "cell_type": "code",
   "execution_count": null,
   "metadata": {},
   "outputs": [],
   "source": [
    "atac_model.get_learning_rate_bounds(atac_data, eval_every=1, upper_bound_lr=5)\n",
    "atac_model.trim_learning_rate_bounds(1e-5, 0.2)\n",
    "_ = atac_model.plot_learning_rate_bounds()"
   ]
  },
  {
   "cell_type": "code",
   "execution_count": null,
   "metadata": {},
   "outputs": [],
   "source": [
    "Atuner = mira.topics.TopicModelTuner(\n",
    "    atac_model,\n",
    "    save_name = 'ATAC',\n",
    "    seed = 0,\n",
    "    iters=20, # Recommend 30-64 iterations of tuning.\n",
    "    max_topics = 15 # to speed up convergence! Leave at default of 55 when working with new data.\n",
    ")\n",
    "Atuner.train_test_split(atac_data)"
   ]
  },
  {
   "cell_type": "code",
   "execution_count": null,
   "metadata": {},
   "outputs": [],
   "source": [
    "Atuner.select_best_model(atac_data, record_umaps=True)\n",
    "atac_model.save('MIRA/atac_topic_model_MB.pth')\n"
   ]
  },
  {
   "cell_type": "markdown",
   "metadata": {},
   "source": [
    "### Save the rna data and atac data"
   ]
  },
  {
   "cell_type": "code",
   "execution_count": null,
   "metadata": {},
   "outputs": [],
   "source": [
    "atac_data.write_h5ad(\"data/datasets/mouse_brain_atac_mira_interium.h5ad\")\n",
    "rna_data.write_h5ad(\"data/datasets/mouse_brain_rna_mira_interium.h5ad\")"
   ]
  }
 ],
 "metadata": {
  "kernelspec": {
   "display_name": "Python 3.7.16 ('halo2')",
   "language": "python",
   "name": "python3"
  },
  "language_info": {
   "codemirror_mode": {
    "name": "ipython",
    "version": 3
   },
   "file_extension": ".py",
   "mimetype": "text/x-python",
   "name": "python",
   "nbconvert_exporter": "python",
   "pygments_lexer": "ipython3",
   "version": "3.7.16"
  },
  "orig_nbformat": 4,
  "vscode": {
   "interpreter": {
    "hash": "b1a2dff3d0af1d2ba6092416114f7f000e7e116c16a32271780d730fd43a1ad4"
   }
  }
 },
 "nbformat": 4,
 "nbformat_minor": 2
}
