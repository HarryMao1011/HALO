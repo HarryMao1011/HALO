{
 "cells": [
  {
   "cell_type": "code",
   "execution_count": 1,
   "metadata": {},
   "outputs": [
    {
     "name": "stderr",
     "output_type": "stream",
     "text": [
      "Global seed set to 0\n"
     ]
    }
   ],
   "source": [
    "from typing import Dict, Iterable, Optional\n",
    "import scanpy as sc\n",
    "import numpy as np\n",
    "import torch\n",
    "from torch.distributions import Normal, Poisson\n",
    "from torch.distributions import kl_divergence as kld\n",
    "import scvi\n",
    "from scvi import REGISTRY_KEYS\n",
    "from scvi._compat import Literal\n",
    "from scvi.distributions import NegativeBinomial, ZeroInflatedNegativeBinomial\n",
    "from scvi.module._peakvae import Decoder as DecoderPeakVI\n",
    "from scvi.module.base import BaseModuleClass, LossRecorder, auto_move_data\n",
    "from scvi.nn import DecoderSCVI, Encoder, FCLayers\n",
    "from scvi.module import MULTIVAE\n",
    "\n",
    "from anndata import AnnData\n",
    "from typing import Dict, Iterable, List, Optional, Sequence, Union\n",
    "from scvi.model import MULTIVI "
   ]
  },
  {
   "cell_type": "code",
   "execution_count": 2,
   "metadata": {},
   "outputs": [
    {
     "ename": "ImportError",
     "evalue": "cannot import name 'MultiVI_Parallel' from 'complementary_models' (/home/haiyi/Desktop/HierachicalCausal_Omics/complementary_models/__init__.py)",
     "output_type": "error",
     "traceback": [
      "\u001b[0;31m---------------------------------------------------------------------------\u001b[0m",
      "\u001b[0;31mImportError\u001b[0m                               Traceback (most recent call last)",
      "\u001b[1;32m/home/haiyi/Desktop/HierachicalCausal_Omics/test_parallel_model.ipynb Cell 2\u001b[0m in \u001b[0;36m<cell line: 1>\u001b[0;34m()\u001b[0m\n\u001b[0;32m----> <a href='vscode-notebook-cell:/home/haiyi/Desktop/HierachicalCausal_Omics/test_parallel_model.ipynb#W1sZmlsZQ%3D%3D?line=0'>1</a>\u001b[0m \u001b[39mfrom\u001b[39;00m \u001b[39mcomplementary_models\u001b[39;00m \u001b[39mimport\u001b[39;00m MultiVI_Parallel\n",
      "\u001b[0;31mImportError\u001b[0m: cannot import name 'MultiVI_Parallel' from 'complementary_models' (/home/haiyi/Desktop/HierachicalCausal_Omics/complementary_models/__init__.py)"
     ]
    }
   ],
   "source": [
    "from complementary_models import MultiVI_Parallel "
   ]
  },
  {
   "cell_type": "code",
   "execution_count": 5,
   "metadata": {},
   "outputs": [],
   "source": [
    "adata_multi = sc.read_h5ad(\"halo/E18_mouse_Brain/multiomic.h5ad\")\n",
    "adata_multi.obs[\"batch_id\"] = 1\n",
    "adata_multi.var[\"modality\"] =adata_multi.var[\"feature_types\"]\n",
    "adata_mvi = scvi.data.organize_multiome_anndatas(adata_multi)"
   ]
  },
  {
   "cell_type": "code",
   "execution_count": 6,
   "metadata": {},
   "outputs": [
    {
     "ename": "NameError",
     "evalue": "name 'MultiVI_Parallel' is not defined",
     "output_type": "error",
     "traceback": [
      "\u001b[0;31m---------------------------------------------------------------------------\u001b[0m",
      "\u001b[0;31mNameError\u001b[0m                                 Traceback (most recent call last)",
      "\u001b[1;32m/home/haiyi/Desktop/HierachicalCausal_Omics/test_parallel_model.ipynb Cell 4\u001b[0m in \u001b[0;36m<cell line: 2>\u001b[0;34m()\u001b[0m\n\u001b[1;32m      <a href='vscode-notebook-cell:/home/haiyi/Desktop/HierachicalCausal_Omics/test_parallel_model.ipynb#W3sZmlsZQ%3D%3D?line=0'>1</a>\u001b[0m sc\u001b[39m.\u001b[39mpp\u001b[39m.\u001b[39mfilter_genes(adata_mvi, min_cells\u001b[39m=\u001b[39m\u001b[39mint\u001b[39m(adata_mvi\u001b[39m.\u001b[39mshape[\u001b[39m0\u001b[39m] \u001b[39m*\u001b[39m \u001b[39m0.01\u001b[39m))\n\u001b[0;32m----> <a href='vscode-notebook-cell:/home/haiyi/Desktop/HierachicalCausal_Omics/test_parallel_model.ipynb#W3sZmlsZQ%3D%3D?line=1'>2</a>\u001b[0m MultiVI_Parallel\u001b[39m.\u001b[39msetup_anndata(adata_mvi, batch_key\u001b[39m=\u001b[39m\u001b[39m\"\u001b[39m\u001b[39mmodality\u001b[39m\u001b[39m\"\u001b[39m)\n",
      "\u001b[0;31mNameError\u001b[0m: name 'MultiVI_Parallel' is not defined"
     ]
    }
   ],
   "source": [
    "sc.pp.filter_genes(adata_mvi, min_cells=int(adata_mvi.shape[0] * 0.01))\n",
    "MultiVI_Parallel.setup_anndata(adata_mvi, batch_key=\"modality\")"
   ]
  },
  {
   "cell_type": "code",
   "execution_count": 7,
   "metadata": {},
   "outputs": [
    {
     "ename": "NameError",
     "evalue": "name 'MultiVI_Parallel' is not defined",
     "output_type": "error",
     "traceback": [
      "\u001b[0;31m---------------------------------------------------------------------------\u001b[0m",
      "\u001b[0;31mNameError\u001b[0m                                 Traceback (most recent call last)",
      "\u001b[1;32m/home/haiyi/Desktop/HierachicalCausal_Omics/test_parallel_model.ipynb Cell 5\u001b[0m in \u001b[0;36m<cell line: 1>\u001b[0;34m()\u001b[0m\n\u001b[0;32m----> <a href='vscode-notebook-cell:/home/haiyi/Desktop/HierachicalCausal_Omics/test_parallel_model.ipynb#W4sZmlsZQ%3D%3D?line=0'>1</a>\u001b[0m mvi_p \u001b[39m=\u001b[39m MultiVI_Parallel(\n\u001b[1;32m      <a href='vscode-notebook-cell:/home/haiyi/Desktop/HierachicalCausal_Omics/test_parallel_model.ipynb#W4sZmlsZQ%3D%3D?line=1'>2</a>\u001b[0m     adata_mvi,\n\u001b[1;32m      <a href='vscode-notebook-cell:/home/haiyi/Desktop/HierachicalCausal_Omics/test_parallel_model.ipynb#W4sZmlsZQ%3D%3D?line=2'>3</a>\u001b[0m     n_genes\u001b[39m=\u001b[39m(adata_mvi\u001b[39m.\u001b[39mvar[\u001b[39m'\u001b[39m\u001b[39mmodality\u001b[39m\u001b[39m'\u001b[39m]\u001b[39m==\u001b[39m\u001b[39m'\u001b[39m\u001b[39mGene Expression\u001b[39m\u001b[39m'\u001b[39m)\u001b[39m.\u001b[39msum(),\n\u001b[1;32m      <a href='vscode-notebook-cell:/home/haiyi/Desktop/HierachicalCausal_Omics/test_parallel_model.ipynb#W4sZmlsZQ%3D%3D?line=3'>4</a>\u001b[0m     n_regions\u001b[39m=\u001b[39m(adata_mvi\u001b[39m.\u001b[39mvar[\u001b[39m'\u001b[39m\u001b[39mmodality\u001b[39m\u001b[39m'\u001b[39m]\u001b[39m==\u001b[39m\u001b[39m'\u001b[39m\u001b[39mPeaks\u001b[39m\u001b[39m'\u001b[39m)\u001b[39m.\u001b[39msum(),\n\u001b[1;32m      <a href='vscode-notebook-cell:/home/haiyi/Desktop/HierachicalCausal_Omics/test_parallel_model.ipynb#W4sZmlsZQ%3D%3D?line=4'>5</a>\u001b[0m )\n\u001b[1;32m      <a href='vscode-notebook-cell:/home/haiyi/Desktop/HierachicalCausal_Omics/test_parallel_model.ipynb#W4sZmlsZQ%3D%3D?line=5'>6</a>\u001b[0m mvi_p\u001b[39m.\u001b[39mview_anndata_setup()\n",
      "\u001b[0;31mNameError\u001b[0m: name 'MultiVI_Parallel' is not defined"
     ]
    }
   ],
   "source": [
    "mvi_p = MultiVI_Parallel(\n",
    "    adata_mvi,\n",
    "    n_genes=(adata_mvi.var['modality']=='Gene Expression').sum(),\n",
    "    n_regions=(adata_mvi.var['modality']=='Peaks').sum(),\n",
    ")\n",
    "mvi_p.view_anndata_setup()"
   ]
  },
  {
   "cell_type": "code",
   "execution_count": 12,
   "metadata": {},
   "outputs": [
    {
     "name": "stderr",
     "output_type": "stream",
     "text": [
      "GPU available: True, used: True\n",
      "TPU available: False, using: 0 TPU cores\n",
      "IPU available: False, using: 0 IPUs\n",
      "HPU available: False, using: 0 HPUs\n",
      "/home/haiyi/anaconda3/envs/halo/lib/python3.9/site-packages/pytorch_lightning/trainer/configuration_validator.py:385: LightningDeprecationWarning: The `Callback.on_epoch_end` hook was deprecated in v1.6 and will be removed in v1.8. Please use `Callback.on_<train/validation/test>_epoch_end` instead.\n",
      "  rank_zero_deprecation(\n",
      "LOCAL_RANK: 0 - CUDA_VISIBLE_DEVICES: [0]\n"
     ]
    },
    {
     "name": "stdout",
     "output_type": "stream",
     "text": [
      "Epoch 1/500:   0%|          | 0/500 [00:00<?, ?it/s]"
     ]
    },
    {
     "name": "stderr",
     "output_type": "stream",
     "text": [
      "/home/haiyi/anaconda3/envs/halo/lib/python3.9/site-packages/scvi/module/_multivae.py:557: UserWarning: The use of `x.T` on tensors of dimension other than 2 to reverse their shape is deprecated and it will throw an error in a future release. Consider `x.mT` to transpose batches of matricesor `x.permute(*torch.arange(x.ndim - 1, -1, -1))` to reverse the dimensions of a tensor. (Triggered internally at  /opt/conda/conda-bld/pytorch_1659484775609/work/aten/src/ATen/native/TensorShape.cpp:2985.)\n",
      "  x = torch.where(mask_expr.T, x_expr.T, x_acc.T).T\n"
     ]
    },
    {
     "name": "stdout",
     "output_type": "stream",
     "text": [
      "Epoch 346/500:  69%|██████▉   | 346/500 [20:54<09:18,  3.62s/it, loss=1.64e+04, v_num=1]\n",
      "Monitored metric reconstruction_loss_validation did not improve in the last 50 records. Best score: 35656.305. Signaling Trainer to stop.\n"
     ]
    }
   ],
   "source": [
    "mvi_p.train(use_gpu=True)"
   ]
  },
  {
   "cell_type": "code",
   "execution_count": 13,
   "metadata": {},
   "outputs": [],
   "source": [
    "mvi_p.save(\"trained_multivi_P\")"
   ]
  },
  {
   "cell_type": "code",
   "execution_count": 18,
   "metadata": {},
   "outputs": [
    {
     "name": "stdout",
     "output_type": "stream",
     "text": [
      "\u001b[34mINFO    \u001b[0m File trained_multivi_P/model.pt already downloaded                                  \n"
     ]
    },
    {
     "data": {
      "text/html": [
       "<pre style=\"white-space:pre;overflow-x:auto;line-height:normal;font-family:Menlo,'DejaVu Sans Mono',consolas,'Courier New',monospace\">Anndata setup with scvi-tools version <span style=\"color: #008080; text-decoration-color: #008080; font-weight: bold\">0.17</span>.<span style=\"color: #008080; text-decoration-color: #008080; font-weight: bold\">2</span>.\n",
       "</pre>\n"
      ],
      "text/plain": [
       "Anndata setup with scvi-tools version \u001b[1;36m0.17\u001b[0m.\u001b[1;36m2\u001b[0m.\n"
      ]
     },
     "metadata": {},
     "output_type": "display_data"
    },
    {
     "data": {
      "text/html": [
       "<pre style=\"white-space:pre;overflow-x:auto;line-height:normal;font-family:Menlo,'DejaVu Sans Mono',consolas,'Courier New',monospace\">\n",
       "</pre>\n"
      ],
      "text/plain": [
       "\n"
      ]
     },
     "metadata": {},
     "output_type": "display_data"
    },
    {
     "data": {
      "text/html": [
       "<pre style=\"white-space:pre;overflow-x:auto;line-height:normal;font-family:Menlo,'DejaVu Sans Mono',consolas,'Courier New',monospace\">Setup via `MultiVI_Parallel.setup_anndata` with arguments:\n",
       "</pre>\n"
      ],
      "text/plain": [
       "Setup via `MultiVI_Parallel.setup_anndata` with arguments:\n"
      ]
     },
     "metadata": {},
     "output_type": "display_data"
    },
    {
     "data": {
      "text/html": [
       "<pre style=\"white-space:pre;overflow-x:auto;line-height:normal;font-family:Menlo,'DejaVu Sans Mono',consolas,'Courier New',monospace\"><span style=\"font-weight: bold\">{</span>\n",
       "<span style=\"color: #7fbf7f; text-decoration-color: #7fbf7f\">│   </span><span style=\"color: #008000; text-decoration-color: #008000\">'layer'</span>: <span style=\"color: #800080; text-decoration-color: #800080; font-style: italic\">None</span>,\n",
       "<span style=\"color: #7fbf7f; text-decoration-color: #7fbf7f\">│   </span><span style=\"color: #008000; text-decoration-color: #008000\">'batch_key'</span>: <span style=\"color: #008000; text-decoration-color: #008000\">'modality'</span>,\n",
       "<span style=\"color: #7fbf7f; text-decoration-color: #7fbf7f\">│   </span><span style=\"color: #008000; text-decoration-color: #008000\">'size_factor_key'</span>: <span style=\"color: #800080; text-decoration-color: #800080; font-style: italic\">None</span>,\n",
       "<span style=\"color: #7fbf7f; text-decoration-color: #7fbf7f\">│   </span><span style=\"color: #008000; text-decoration-color: #008000\">'categorical_covariate_keys'</span>: <span style=\"color: #800080; text-decoration-color: #800080; font-style: italic\">None</span>,\n",
       "<span style=\"color: #7fbf7f; text-decoration-color: #7fbf7f\">│   </span><span style=\"color: #008000; text-decoration-color: #008000\">'continuous_covariate_keys'</span>: <span style=\"color: #800080; text-decoration-color: #800080; font-style: italic\">None</span>\n",
       "<span style=\"font-weight: bold\">}</span>\n",
       "</pre>\n"
      ],
      "text/plain": [
       "\u001b[1m{\u001b[0m\n",
       "\u001b[2;32m│   \u001b[0m\u001b[32m'layer'\u001b[0m: \u001b[3;35mNone\u001b[0m,\n",
       "\u001b[2;32m│   \u001b[0m\u001b[32m'batch_key'\u001b[0m: \u001b[32m'modality'\u001b[0m,\n",
       "\u001b[2;32m│   \u001b[0m\u001b[32m'size_factor_key'\u001b[0m: \u001b[3;35mNone\u001b[0m,\n",
       "\u001b[2;32m│   \u001b[0m\u001b[32m'categorical_covariate_keys'\u001b[0m: \u001b[3;35mNone\u001b[0m,\n",
       "\u001b[2;32m│   \u001b[0m\u001b[32m'continuous_covariate_keys'\u001b[0m: \u001b[3;35mNone\u001b[0m\n",
       "\u001b[1m}\u001b[0m\n"
      ]
     },
     "metadata": {},
     "output_type": "display_data"
    },
    {
     "data": {
      "text/html": [
       "<pre style=\"white-space:pre;overflow-x:auto;line-height:normal;font-family:Menlo,'DejaVu Sans Mono',consolas,'Courier New',monospace\">\n",
       "</pre>\n"
      ],
      "text/plain": [
       "\n"
      ]
     },
     "metadata": {},
     "output_type": "display_data"
    },
    {
     "data": {
      "text/html": [
       "<pre style=\"white-space:pre;overflow-x:auto;line-height:normal;font-family:Menlo,'DejaVu Sans Mono',consolas,'Courier New',monospace\"><span style=\"font-style: italic\">         Summary Statistics          </span>\n",
       "┏━━━━━━━━━━━━━━━━━━━━━━━━━━┳━━━━━━━━┓\n",
       "┃<span style=\"font-weight: bold\">     Summary Stat Key     </span>┃<span style=\"font-weight: bold\"> Value  </span>┃\n",
       "┡━━━━━━━━━━━━━━━━━━━━━━━━━━╇━━━━━━━━┩\n",
       "│<span style=\"color: #0087ff; text-decoration-color: #0087ff\">          n_vars          </span>│<span style=\"color: #af00d7; text-decoration-color: #af00d7\"> 138466 </span>│\n",
       "│<span style=\"color: #0087ff; text-decoration-color: #0087ff\">         n_cells          </span>│<span style=\"color: #af00d7; text-decoration-color: #af00d7\">  3365  </span>│\n",
       "│<span style=\"color: #0087ff; text-decoration-color: #0087ff\">         n_batch          </span>│<span style=\"color: #af00d7; text-decoration-color: #af00d7\">   1    </span>│\n",
       "│<span style=\"color: #0087ff; text-decoration-color: #0087ff\"> n_extra_categorical_covs </span>│<span style=\"color: #af00d7; text-decoration-color: #af00d7\">   0    </span>│\n",
       "│<span style=\"color: #0087ff; text-decoration-color: #0087ff\"> n_extra_continuous_covs  </span>│<span style=\"color: #af00d7; text-decoration-color: #af00d7\">   0    </span>│\n",
       "└──────────────────────────┴────────┘\n",
       "</pre>\n"
      ],
      "text/plain": [
       "\u001b[3m         Summary Statistics          \u001b[0m\n",
       "┏━━━━━━━━━━━━━━━━━━━━━━━━━━┳━━━━━━━━┓\n",
       "┃\u001b[1m \u001b[0m\u001b[1m    Summary Stat Key    \u001b[0m\u001b[1m \u001b[0m┃\u001b[1m \u001b[0m\u001b[1mValue \u001b[0m\u001b[1m \u001b[0m┃\n",
       "┡━━━━━━━━━━━━━━━━━━━━━━━━━━╇━━━━━━━━┩\n",
       "│\u001b[38;5;33m \u001b[0m\u001b[38;5;33m         n_vars         \u001b[0m\u001b[38;5;33m \u001b[0m│\u001b[38;5;128m \u001b[0m\u001b[38;5;128m138466\u001b[0m\u001b[38;5;128m \u001b[0m│\n",
       "│\u001b[38;5;33m \u001b[0m\u001b[38;5;33m        n_cells         \u001b[0m\u001b[38;5;33m \u001b[0m│\u001b[38;5;128m \u001b[0m\u001b[38;5;128m 3365 \u001b[0m\u001b[38;5;128m \u001b[0m│\n",
       "│\u001b[38;5;33m \u001b[0m\u001b[38;5;33m        n_batch         \u001b[0m\u001b[38;5;33m \u001b[0m│\u001b[38;5;128m \u001b[0m\u001b[38;5;128m  1   \u001b[0m\u001b[38;5;128m \u001b[0m│\n",
       "│\u001b[38;5;33m \u001b[0m\u001b[38;5;33mn_extra_categorical_covs\u001b[0m\u001b[38;5;33m \u001b[0m│\u001b[38;5;128m \u001b[0m\u001b[38;5;128m  0   \u001b[0m\u001b[38;5;128m \u001b[0m│\n",
       "│\u001b[38;5;33m \u001b[0m\u001b[38;5;33mn_extra_continuous_covs \u001b[0m\u001b[38;5;33m \u001b[0m│\u001b[38;5;128m \u001b[0m\u001b[38;5;128m  0   \u001b[0m\u001b[38;5;128m \u001b[0m│\n",
       "└──────────────────────────┴────────┘\n"
      ]
     },
     "metadata": {},
     "output_type": "display_data"
    },
    {
     "data": {
      "text/html": [
       "<pre style=\"white-space:pre;overflow-x:auto;line-height:normal;font-family:Menlo,'DejaVu Sans Mono',consolas,'Courier New',monospace\"><span style=\"font-style: italic\">               Data Registry               </span>\n",
       "┏━━━━━━━━━━━━━━┳━━━━━━━━━━━━━━━━━━━━━━━━━━┓\n",
       "┃<span style=\"font-weight: bold\"> Registry Key </span>┃<span style=\"font-weight: bold\">   scvi-tools Location    </span>┃\n",
       "┡━━━━━━━━━━━━━━╇━━━━━━━━━━━━━━━━━━━━━━━━━━┩\n",
       "│<span style=\"color: #0087ff; text-decoration-color: #0087ff\">      X       </span>│<span style=\"color: #af00d7; text-decoration-color: #af00d7\">         adata.X          </span>│\n",
       "│<span style=\"color: #0087ff; text-decoration-color: #0087ff\">    batch     </span>│<span style=\"color: #af00d7; text-decoration-color: #af00d7\"> adata.obs['_scvi_batch'] </span>│\n",
       "└──────────────┴──────────────────────────┘\n",
       "</pre>\n"
      ],
      "text/plain": [
       "\u001b[3m               Data Registry               \u001b[0m\n",
       "┏━━━━━━━━━━━━━━┳━━━━━━━━━━━━━━━━━━━━━━━━━━┓\n",
       "┃\u001b[1m \u001b[0m\u001b[1mRegistry Key\u001b[0m\u001b[1m \u001b[0m┃\u001b[1m \u001b[0m\u001b[1m  scvi-tools Location   \u001b[0m\u001b[1m \u001b[0m┃\n",
       "┡━━━━━━━━━━━━━━╇━━━━━━━━━━━━━━━━━━━━━━━━━━┩\n",
       "│\u001b[38;5;33m \u001b[0m\u001b[38;5;33m     X      \u001b[0m\u001b[38;5;33m \u001b[0m│\u001b[38;5;128m \u001b[0m\u001b[38;5;128m        adata.X         \u001b[0m\u001b[38;5;128m \u001b[0m│\n",
       "│\u001b[38;5;33m \u001b[0m\u001b[38;5;33m   batch    \u001b[0m\u001b[38;5;33m \u001b[0m│\u001b[38;5;128m \u001b[0m\u001b[38;5;128madata.obs['_scvi_batch']\u001b[0m\u001b[38;5;128m \u001b[0m│\n",
       "└──────────────┴──────────────────────────┘\n"
      ]
     },
     "metadata": {},
     "output_type": "display_data"
    },
    {
     "data": {
      "text/html": [
       "<pre style=\"white-space:pre;overflow-x:auto;line-height:normal;font-family:Menlo,'DejaVu Sans Mono',consolas,'Courier New',monospace\"><span style=\"font-style: italic\">                    batch State Registry                    </span>\n",
       "┏━━━━━━━━━━━━━━━━━━━━━━━┳━━━━━━━━━━━━┳━━━━━━━━━━━━━━━━━━━━━┓\n",
       "┃<span style=\"font-weight: bold\">    Source Location    </span>┃<span style=\"font-weight: bold\"> Categories </span>┃<span style=\"font-weight: bold\"> scvi-tools Encoding </span>┃\n",
       "┡━━━━━━━━━━━━━━━━━━━━━━━╇━━━━━━━━━━━━╇━━━━━━━━━━━━━━━━━━━━━┩\n",
       "│<span style=\"color: #0087ff; text-decoration-color: #0087ff\"> adata.obs['modality'] </span>│<span style=\"color: #008000; text-decoration-color: #008000\">   paired   </span>│<span style=\"color: #af00d7; text-decoration-color: #af00d7\">          0          </span>│\n",
       "└───────────────────────┴────────────┴─────────────────────┘\n",
       "</pre>\n"
      ],
      "text/plain": [
       "\u001b[3m                    batch State Registry                    \u001b[0m\n",
       "┏━━━━━━━━━━━━━━━━━━━━━━━┳━━━━━━━━━━━━┳━━━━━━━━━━━━━━━━━━━━━┓\n",
       "┃\u001b[1m \u001b[0m\u001b[1m   Source Location   \u001b[0m\u001b[1m \u001b[0m┃\u001b[1m \u001b[0m\u001b[1mCategories\u001b[0m\u001b[1m \u001b[0m┃\u001b[1m \u001b[0m\u001b[1mscvi-tools Encoding\u001b[0m\u001b[1m \u001b[0m┃\n",
       "┡━━━━━━━━━━━━━━━━━━━━━━━╇━━━━━━━━━━━━╇━━━━━━━━━━━━━━━━━━━━━┩\n",
       "│\u001b[38;5;33m \u001b[0m\u001b[38;5;33madata.obs['modality']\u001b[0m\u001b[38;5;33m \u001b[0m│\u001b[32m \u001b[0m\u001b[32m  paired  \u001b[0m\u001b[32m \u001b[0m│\u001b[38;5;128m \u001b[0m\u001b[38;5;128m         0         \u001b[0m\u001b[38;5;128m \u001b[0m│\n",
       "└───────────────────────┴────────────┴─────────────────────┘\n"
      ]
     },
     "metadata": {},
     "output_type": "display_data"
    }
   ],
   "source": [
    "mvi_p.load('trained_multivi_P',adata_mvi)\n",
    "mvi_p.view_anndata_setup()"
   ]
  },
  {
   "cell_type": "code",
   "execution_count": 19,
   "metadata": {},
   "outputs": [
    {
     "ename": "RuntimeError",
     "evalue": "Please train the model first.",
     "output_type": "error",
     "traceback": [
      "\u001b[0;31m---------------------------------------------------------------------------\u001b[0m",
      "\u001b[0;31mRuntimeError\u001b[0m                              Traceback (most recent call last)",
      "\u001b[1;32m/home/haiyi/Desktop/HierachicalCausal_Omics/test_parallel_model.ipynb Cell 9\u001b[0m in \u001b[0;36m<cell line: 1>\u001b[0;34m()\u001b[0m\n\u001b[0;32m----> <a href='vscode-notebook-cell:/home/haiyi/Desktop/HierachicalCausal_Omics/test_parallel_model.ipynb#X10sZmlsZQ%3D%3D?line=0'>1</a>\u001b[0m z,z_atac,z_rna \u001b[39m=\u001b[39m mvi_p\u001b[39m.\u001b[39;49mget_latent_representation()\n",
      "File \u001b[0;32m~/anaconda3/envs/halo/lib/python3.9/site-packages/torch/autograd/grad_mode.py:27\u001b[0m, in \u001b[0;36m_DecoratorContextManager.__call__.<locals>.decorate_context\u001b[0;34m(*args, **kwargs)\u001b[0m\n\u001b[1;32m     24\u001b[0m \u001b[39m@functools\u001b[39m\u001b[39m.\u001b[39mwraps(func)\n\u001b[1;32m     25\u001b[0m \u001b[39mdef\u001b[39;00m \u001b[39mdecorate_context\u001b[39m(\u001b[39m*\u001b[39margs, \u001b[39m*\u001b[39m\u001b[39m*\u001b[39mkwargs):\n\u001b[1;32m     26\u001b[0m     \u001b[39mwith\u001b[39;00m \u001b[39mself\u001b[39m\u001b[39m.\u001b[39mclone():\n\u001b[0;32m---> 27\u001b[0m         \u001b[39mreturn\u001b[39;00m func(\u001b[39m*\u001b[39;49margs, \u001b[39m*\u001b[39;49m\u001b[39m*\u001b[39;49mkwargs)\n",
      "File \u001b[0;32m~/Desktop/HierachicalCausal_Omics/complementary_models/parallel_model.py:405\u001b[0m, in \u001b[0;36mMultiVI_Parallel.get_latent_representation\u001b[0;34m(self, adata, modality, indices, give_mean, batch_size)\u001b[0m\n\u001b[1;32m    384\u001b[0m \u001b[39m\"\"\"\u001b[39;00m\n\u001b[1;32m    385\u001b[0m \u001b[39mReturn the latent representation for each cell.\u001b[39;00m\n\u001b[1;32m    386\u001b[0m \u001b[39mParameters\u001b[39;00m\n\u001b[0;32m   (...)\u001b[0m\n\u001b[1;32m    402\u001b[0m \u001b[39m    Low-dimensional representation for each cell\u001b[39;00m\n\u001b[1;32m    403\u001b[0m \u001b[39m\"\"\"\u001b[39;00m\n\u001b[1;32m    404\u001b[0m \u001b[39mif\u001b[39;00m \u001b[39mnot\u001b[39;00m \u001b[39mself\u001b[39m\u001b[39m.\u001b[39mis_trained_:\n\u001b[0;32m--> 405\u001b[0m     \u001b[39mraise\u001b[39;00m \u001b[39mRuntimeError\u001b[39;00m(\u001b[39m\"\u001b[39m\u001b[39mPlease train the model first.\u001b[39m\u001b[39m\"\u001b[39m)\n\u001b[1;32m    407\u001b[0m keys \u001b[39m=\u001b[39m {\u001b[39m\"\u001b[39m\u001b[39mz\u001b[39m\u001b[39m\"\u001b[39m: \u001b[39m\"\u001b[39m\u001b[39mz\u001b[39m\u001b[39m\"\u001b[39m, \u001b[39m\"\u001b[39m\u001b[39mqz_m\u001b[39m\u001b[39m\"\u001b[39m: \u001b[39m\"\u001b[39m\u001b[39mqz_m\u001b[39m\u001b[39m\"\u001b[39m, \u001b[39m\"\u001b[39m\u001b[39mqz_v\u001b[39m\u001b[39m\"\u001b[39m: \u001b[39m\"\u001b[39m\u001b[39mqz_v\u001b[39m\u001b[39m\"\u001b[39m, \u001b[39m\"\u001b[39m\u001b[39mz_expr\u001b[39m\u001b[39m\"\u001b[39m: \u001b[39m\"\u001b[39m\u001b[39mz_expr\u001b[39m\u001b[39m\"\u001b[39m, \n\u001b[1;32m    408\u001b[0m \u001b[39m\"\u001b[39m\u001b[39mqzm_expr\u001b[39m\u001b[39m\"\u001b[39m: \u001b[39m\"\u001b[39m\u001b[39mqzm_expr\u001b[39m\u001b[39m\"\u001b[39m, \u001b[39m\"\u001b[39m\u001b[39mqzv_expr\u001b[39m\u001b[39m\"\u001b[39m: \u001b[39m\"\u001b[39m\u001b[39mqzv_expr\u001b[39m\u001b[39m\"\u001b[39m, \u001b[39m\"\u001b[39m\u001b[39mz_acc\u001b[39m\u001b[39m\"\u001b[39m: \u001b[39m\"\u001b[39m\u001b[39mz_acc\u001b[39m\u001b[39m\"\u001b[39m, \u001b[39m\"\u001b[39m\u001b[39mqzm_acc\u001b[39m\u001b[39m\"\u001b[39m: \u001b[39m\"\u001b[39m\u001b[39mqzm_acc\u001b[39m\u001b[39m\"\u001b[39m, \u001b[39m\"\u001b[39m\u001b[39mqzv_acc\u001b[39m\u001b[39m\"\u001b[39m: \u001b[39m\"\u001b[39m\u001b[39mqzv_acc\u001b[39m\u001b[39m\"\u001b[39m}\n\u001b[1;32m    411\u001b[0m adata \u001b[39m=\u001b[39m \u001b[39mself\u001b[39m\u001b[39m.\u001b[39m_validate_anndata(adata)\n",
      "\u001b[0;31mRuntimeError\u001b[0m: Please train the model first."
     ]
    }
   ],
   "source": [
    "z,z_atac,z_rna = mvi_p.get_latent_representation()"
   ]
  },
  {
   "cell_type": "code",
   "execution_count": 8,
   "metadata": {},
   "outputs": [],
   "source": [
    "from numpy.linalg import inv\n",
    "import pandas as pd\n",
    "df_meta= pd.read_csv(\"halo/E18_mouse_Brain/RNA/metadata.tsv\",sep = \"\\t\",index_col=0)"
   ]
  },
  {
   "cell_type": "code",
   "execution_count": 9,
   "metadata": {},
   "outputs": [
    {
     "data": {
      "text/html": [
       "<div>\n",
       "<style scoped>\n",
       "    .dataframe tbody tr th:only-of-type {\n",
       "        vertical-align: middle;\n",
       "    }\n",
       "\n",
       "    .dataframe tbody tr th {\n",
       "        vertical-align: top;\n",
       "    }\n",
       "\n",
       "    .dataframe thead th {\n",
       "        text-align: right;\n",
       "    }\n",
       "</style>\n",
       "<table border=\"1\" class=\"dataframe\">\n",
       "  <thead>\n",
       "    <tr style=\"text-align: right;\">\n",
       "      <th></th>\n",
       "      <th>n_counts</th>\n",
       "      <th>celltype</th>\n",
       "      <th>velo_s_norm_self_transition</th>\n",
       "      <th>root_cells</th>\n",
       "      <th>end_points</th>\n",
       "      <th>velo_s_norm_pseudotime</th>\n",
       "      <th>latent_time</th>\n",
       "      <th>binned</th>\n",
       "    </tr>\n",
       "  </thead>\n",
       "  <tbody>\n",
       "    <tr>\n",
       "      <th>AAACAGCCAACCGCCA-1</th>\n",
       "      <td>681.0</td>\n",
       "      <td>Upper Layer</td>\n",
       "      <td>0.057197</td>\n",
       "      <td>0.037962</td>\n",
       "      <td>0.086987</td>\n",
       "      <td>0.857504</td>\n",
       "      <td>0.604954</td>\n",
       "      <td>(0.6, 0.65]</td>\n",
       "    </tr>\n",
       "    <tr>\n",
       "      <th>AAACAGCCAAGGTCGA-1</th>\n",
       "      <td>296.0</td>\n",
       "      <td>RG, Astro, OPC</td>\n",
       "      <td>0.114116</td>\n",
       "      <td>0.049274</td>\n",
       "      <td>0.396248</td>\n",
       "      <td>0.213945</td>\n",
       "      <td>0.281341</td>\n",
       "      <td>(0.25, 0.3]</td>\n",
       "    </tr>\n",
       "    <tr>\n",
       "      <th>AAACAGCCAGGAACAT-1</th>\n",
       "      <td>504.0</td>\n",
       "      <td>Deeper Layer</td>\n",
       "      <td>0.082940</td>\n",
       "      <td>0.020133</td>\n",
       "      <td>0.338813</td>\n",
       "      <td>0.958743</td>\n",
       "      <td>0.851495</td>\n",
       "      <td>(0.85, 0.9]</td>\n",
       "    </tr>\n",
       "    <tr>\n",
       "      <th>AAACAGCCATATTGAC-1</th>\n",
       "      <td>321.0</td>\n",
       "      <td>Deeper Layer</td>\n",
       "      <td>0.106146</td>\n",
       "      <td>0.003566</td>\n",
       "      <td>0.735495</td>\n",
       "      <td>0.981135</td>\n",
       "      <td>0.982605</td>\n",
       "      <td>(0.95, 1.0]</td>\n",
       "    </tr>\n",
       "    <tr>\n",
       "      <th>AAACAGCCATGGTTAT-1</th>\n",
       "      <td>432.0</td>\n",
       "      <td>Subplate</td>\n",
       "      <td>0.103904</td>\n",
       "      <td>0.036739</td>\n",
       "      <td>0.134693</td>\n",
       "      <td>0.848509</td>\n",
       "      <td>0.549869</td>\n",
       "      <td>(0.5, 0.55]</td>\n",
       "    </tr>\n",
       "  </tbody>\n",
       "</table>\n",
       "</div>"
      ],
      "text/plain": [
       "                    n_counts        celltype  velo_s_norm_self_transition  \\\n",
       "AAACAGCCAACCGCCA-1     681.0     Upper Layer                     0.057197   \n",
       "AAACAGCCAAGGTCGA-1     296.0  RG, Astro, OPC                     0.114116   \n",
       "AAACAGCCAGGAACAT-1     504.0    Deeper Layer                     0.082940   \n",
       "AAACAGCCATATTGAC-1     321.0    Deeper Layer                     0.106146   \n",
       "AAACAGCCATGGTTAT-1     432.0        Subplate                     0.103904   \n",
       "\n",
       "                    root_cells  end_points  velo_s_norm_pseudotime  \\\n",
       "AAACAGCCAACCGCCA-1    0.037962    0.086987                0.857504   \n",
       "AAACAGCCAAGGTCGA-1    0.049274    0.396248                0.213945   \n",
       "AAACAGCCAGGAACAT-1    0.020133    0.338813                0.958743   \n",
       "AAACAGCCATATTGAC-1    0.003566    0.735495                0.981135   \n",
       "AAACAGCCATGGTTAT-1    0.036739    0.134693                0.848509   \n",
       "\n",
       "                    latent_time       binned  \n",
       "AAACAGCCAACCGCCA-1     0.604954  (0.6, 0.65]  \n",
       "AAACAGCCAAGGTCGA-1     0.281341  (0.25, 0.3]  \n",
       "AAACAGCCAGGAACAT-1     0.851495  (0.85, 0.9]  \n",
       "AAACAGCCATATTGAC-1     0.982605  (0.95, 1.0]  \n",
       "AAACAGCCATGGTTAT-1     0.549869  (0.5, 0.55]  "
      ]
     },
     "execution_count": 9,
     "metadata": {},
     "output_type": "execute_result"
    }
   ],
   "source": [
    "df_meta.head()"
   ]
  },
  {
   "cell_type": "code",
   "execution_count": 21,
   "metadata": {},
   "outputs": [
    {
     "ename": "NameError",
     "evalue": "name 'inv' is not defined",
     "output_type": "error",
     "traceback": [
      "\u001b[0;31m---------------------------------------------------------------------------\u001b[0m",
      "\u001b[0;31mNameError\u001b[0m                                 Traceback (most recent call last)",
      "\u001b[1;32m/home/haiyi/Desktop/HierachicalCausal_Omics/test_parallel_model.ipynb Cell 12\u001b[0m in \u001b[0;36m<cell line: 3>\u001b[0;34m()\u001b[0m\n\u001b[1;32m      <a href='vscode-notebook-cell:/home/haiyi/Desktop/HierachicalCausal_Omics/test_parallel_model.ipynb#X12sZmlsZQ%3D%3D?line=0'>1</a>\u001b[0m \u001b[39m# X = z_atac\u001b[39;00m\n\u001b[1;32m      <a href='vscode-notebook-cell:/home/haiyi/Desktop/HierachicalCausal_Omics/test_parallel_model.ipynb#X12sZmlsZQ%3D%3D?line=1'>2</a>\u001b[0m \u001b[39m# Y = z_rna\u001b[39;00m\n\u001b[0;32m----> <a href='vscode-notebook-cell:/home/haiyi/Desktop/HierachicalCausal_Omics/test_parallel_model.ipynb#X12sZmlsZQ%3D%3D?line=2'>3</a>\u001b[0m b \u001b[39m=\u001b[39m inv(X\u001b[39m.\u001b[39mT\u001b[39m.\u001b[39mdot(X))\u001b[39m.\u001b[39mdot(X\u001b[39m.\u001b[39mT)\u001b[39m.\u001b[39mdot(Y)\n\u001b[1;32m      <a href='vscode-notebook-cell:/home/haiyi/Desktop/HierachicalCausal_Omics/test_parallel_model.ipynb#X12sZmlsZQ%3D%3D?line=4'>5</a>\u001b[0m Yhat \u001b[39m=\u001b[39m X\u001b[39m.\u001b[39mdot(b)\n\u001b[1;32m      <a href='vscode-notebook-cell:/home/haiyi/Desktop/HierachicalCausal_Omics/test_parallel_model.ipynb#X12sZmlsZQ%3D%3D?line=5'>6</a>\u001b[0m Y_Residual \u001b[39m=\u001b[39m Yhat \u001b[39m-\u001b[39m Y\n",
      "\u001b[0;31mNameError\u001b[0m: name 'inv' is not defined"
     ]
    }
   ],
   "source": [
    "# X = z_atac\n",
    "# Y = z_rna\n",
    "b = inv(X.T.dot(X)).dot(X.T).dot(Y)\n",
    "\n",
    "Yhat = X.dot(b)\n",
    "Y_Residual = Yhat - Y\n",
    "Y_Residual = np.sum(np.abs(Y_Residual),axis=1)"
   ]
  },
  {
   "cell_type": "code",
   "execution_count": 18,
   "metadata": {},
   "outputs": [
    {
     "data": {
      "image/png": "[encoded data removed]",
      "text/plain": [
       "<Figure size 640x480 with 1 Axes>"
      ]
     },
     "metadata": {},
     "output_type": "display_data"
    }
   ],
   "source": [
    "import tkinter\n",
    "import matplotlib\n",
    "import matplotlib.pyplot as plt\n",
    "from matplotlib.lines import Line2D  # for legend handle\n",
    "\n",
    "\n",
    "colors = {'Deeper Layer':'tab:blue', 'Ependymal cells':'tab:orange', 'IPC':'tab:green', 'RG, Astro, OPC':'tab:red', \n",
    "          'Subplate':'tab:purple', 'Upper Layer':'tab:brown', 'V-SVZ':'tab:pink'}\n",
    "\n",
    "%matplotlib inline\n",
    "plt.scatter(df_meta['latent_time'], Y_Residual, color=df_meta['celltype'].map(colors))\n",
    "\n",
    "\n",
    "z = np.polyfit(df_meta['latent_time'], Y_Residual, 4)\n",
    "p = np.poly1d(z)\n",
    "plt.scatter(df_meta['latent_time'], p(df_meta['latent_time']),color='yellow')\n",
    "\n",
    "\n",
    "\n",
    "handles = [Line2D([0], [0], marker='o', color='w', markerfacecolor=v, label=k, markersize=8) for k, v in colors.items()]\n",
    "plt.legend(title='color', handles=handles, bbox_to_anchor=(1.05, 1), loc='upper left')\n",
    "\n",
    "# plt.title('My title')\n",
    "plt.xlabel('Latent time')\n",
    "plt.ylabel('Absolute Error')\n",
    "\n",
    "plt.show()"
   ]
  },
  {
   "cell_type": "code",
   "execution_count": 1,
   "metadata": {},
   "outputs": [
    {
     "name": "stderr",
     "output_type": "stream",
     "text": [
      "Global seed set to 0\n"
     ]
    },
    {
     "name": "stdout",
     "output_type": "stream",
     "text": [
      "(3000, 19)\n",
      "(3000, 19)\n"
     ]
    }
   ],
   "source": [
    "# X = z_atac\n",
    "# Y = z_rna\n",
    "from typing import Dict, Iterable, Optional\n",
    "import scanpy as sc\n",
    "import numpy as np\n",
    "import torch\n",
    "from torch.distributions import Normal, Poisson\n",
    "from torch.distributions import kl_divergence as kld\n",
    "import scvi\n",
    "from scvi import REGISTRY_KEYS\n",
    "from scvi._compat import Literal\n",
    "from scvi.distributions import NegativeBinomial, ZeroInflatedNegativeBinomial\n",
    "from scvi.module._peakvae import Decoder as DecoderPeakVI\n",
    "from scvi.module.base import BaseModuleClass, LossRecorder, auto_move_data\n",
    "from scvi.nn import DecoderSCVI, Encoder, FCLayers\n",
    "from scvi.module import MULTIVAE\n",
    "\n",
    "from anndata import AnnData\n",
    "from typing import Dict, Iterable, List, Optional, Sequence, Union\n",
    "from scvi.model import MULTIVI \n",
    "\n",
    "X = np.random.rand(3000,19)\n",
    "Y = np.random.rand(3000,19)\n",
    "c_indx = np.random.rand(3000,1)\n",
    "\n",
    "print(X.shape)\n",
    "print(Y.shape)"
   ]
  },
  {
   "cell_type": "code",
   "execution_count": 116,
   "metadata": {},
   "outputs": [],
   "source": [
    "from ScoreUtils import kernel, pdinv"
   ]
  },
  {
   "cell_type": "code",
   "execution_count": 59,
   "metadata": {},
   "outputs": [],
   "source": [
    "def kernel(X, Y):\n",
    "    return np.matmul(X, X.T)\n",
    "\n",
    "from ScoreUtils import pdinv    "
   ]
  },
  {
   "cell_type": "code",
   "execution_count": 69,
   "metadata": {},
   "outputs": [
    {
     "name": "stdout",
     "output_type": "stream",
     "text": [
      "(3000, 19) (3000, 19)\n"
     ]
    }
   ],
   "source": [
    "width = 0.1\n",
    "T,d = X.shape\n",
    "X = np.matmul(X, np.diag(1./np.std(X, axis=0)))\n",
    "Y = Y/np.std(Y, axis=0)\n",
    "print(X.shape, Y.shape)\n",
    "theta = 1/width**2\n",
    "Lambda = 1\n",
    "Ml = []\n",
    "Wt = 1"
   ]
  },
  {
   "cell_type": "code",
   "execution_count": 70,
   "metadata": {},
   "outputs": [
    {
     "name": "stdout",
     "output_type": "stream",
     "text": [
      "(3000, 3000)\n"
     ]
    }
   ],
   "source": [
    "d = 2 * np.matmul(X, Y.T)\n",
    "print(d.shape)"
   ]
  },
  {
   "cell_type": "code",
   "execution_count": 71,
   "metadata": {},
   "outputs": [],
   "source": [
    "theta = 1/width**2\n",
    "Kxx, _ = kernel(X,X, [theta,1])\n",
    "Kxx , _ = kernel(X, X, [theta,1])\n",
    "Kyy, _ = kernel(Y, Y, [theta,1])\n",
    "Ktt, _ = kernel(c_indx, c_indx, [1/Wt**2,1])"
   ]
  },
  {
   "cell_type": "code",
   "execution_count": 18,
   "metadata": {},
   "outputs": [
    {
     "data": {
      "text/plain": [
       "(3000, 3000)"
      ]
     },
     "execution_count": 18,
     "metadata": {},
     "output_type": "execute_result"
    }
   ],
   "source": [
    "Kxx.shape"
   ]
  },
  {
   "cell_type": "code",
   "execution_count": 72,
   "metadata": {},
   "outputs": [],
   "source": [
    "invK = pdinv( Kxx*Ktt +  Lambda * np.eye(T))"
   ]
  },
  {
   "cell_type": "code",
   "execution_count": 73,
   "metadata": {},
   "outputs": [],
   "source": [
    "Kxx3 = Kxx**3; \n",
    "prod_invK =  invK * Kyy * invK\n",
    "###now finding Ml\n",
    "Ml = 1/T**2 * Ktt*( Kxx3 * prod_invK) * Ktt\n",
    "###the square distance\n",
    "D = np.diag(np.diag(Ml)) * np.ones(Ml.shape) + np.ones(Ml.shape) * np.diag(np.diagonal(Ml)) - 2*Ml\n",
    "# % Gaussian kernel\n",
    "# sigma2_square = median( D(find(tril(ones(size(D)),-1))) );\n",
    "# Mg = exp(-D/sigma2_square/2);"
   ]
  },
  {
   "cell_type": "code",
   "execution_count": 74,
   "metadata": {},
   "outputs": [
    {
     "data": {
      "text/plain": [
       "(3000, 3000)"
      ]
     },
     "execution_count": 74,
     "metadata": {},
     "output_type": "execute_result"
    }
   ],
   "source": [
    "D.shape"
   ]
  },
  {
   "cell_type": "code",
   "execution_count": 80,
   "metadata": {},
   "outputs": [
    {
     "name": "stdout",
     "output_type": "stream",
     "text": [
      "[[-1.38838352e-10 -1.06004730e-10 -9.06230926e-11 ... -3.32281234e-11\n",
      "  -2.60299021e-10  2.93072067e-11]] (1, 4498500)\n",
      "[[-9.63155797e-11 -1.38838352e-10 -2.60299021e-10 ...  4.68699383e-11\n",
      "   4.32092945e-11  9.27904460e-11]] (1, 4498500)\n",
      "[[-7.48562773e-11]]\n"
     ]
    }
   ],
   "source": [
    "# % Gaussian kernel\n",
    "Kxx, _ = kernel(X,X, [theta,1])\n",
    "\n",
    "DD = D[np.where(np.tril(np.ones(D.shape),-1) != 0)]\n",
    "print(DD, DD.shape)\n",
    "print(np.median(DD), np.median(DD).shape)\n",
    "print(np.median(DD, []))\n",
    "\n",
    "sigma2_square = np.median(DD,[])[0,0]\n",
    "sigma2_square\n",
    "Mg = np.exp(-D/sigma2_square/2)"
   ]
  },
  {
   "cell_type": "code",
   "execution_count": 48,
   "metadata": {},
   "outputs": [
    {
     "ename": "AttributeError",
     "evalue": "'tuple' object has no attribute 'shape'",
     "output_type": "error",
     "traceback": [
      "\u001b[0;31m---------------------------------------------------------------------------\u001b[0m",
      "\u001b[0;31mAttributeError\u001b[0m                            Traceback (most recent call last)",
      "\u001b[1;32m/home/haiyi/Desktop/HierachicalCausal_Omics/test_parallel_model.ipynb Cell 23\u001b[0m in \u001b[0;36m<cell line: 3>\u001b[0;34m()\u001b[0m\n\u001b[1;32m      <a href='vscode-notebook-cell:/home/haiyi/Desktop/HierachicalCausal_Omics/test_parallel_model.ipynb#X40sZmlsZQ%3D%3D?line=0'>1</a>\u001b[0m np\u001b[39m.\u001b[39meye(T)\u001b[39m.\u001b[39mshape\n\u001b[1;32m      <a href='vscode-notebook-cell:/home/haiyi/Desktop/HierachicalCausal_Omics/test_parallel_model.ipynb#X40sZmlsZQ%3D%3D?line=1'>2</a>\u001b[0m Ktt \u001b[39m=\u001b[39m kernel(c_indx, c_indx, [\u001b[39m1\u001b[39m\u001b[39m/\u001b[39mWt\u001b[39m*\u001b[39m\u001b[39m*\u001b[39m\u001b[39m2\u001b[39m,\u001b[39m1\u001b[39m])\n\u001b[0;32m----> <a href='vscode-notebook-cell:/home/haiyi/Desktop/HierachicalCausal_Omics/test_parallel_model.ipynb#X40sZmlsZQ%3D%3D?line=2'>3</a>\u001b[0m Ktt\u001b[39m.\u001b[39;49mshape\n",
      "\u001b[0;31mAttributeError\u001b[0m: 'tuple' object has no attribute 'shape'"
     ]
    }
   ],
   "source": [
    "np.eye(T).shape\n",
    "Ktt = kernel(c_indx, c_indx, [1/Wt**2,1])\n",
    "Ktt.shape"
   ]
  },
  {
   "cell_type": "code",
   "execution_count": 49,
   "metadata": {},
   "outputs": [],
   "source": [
    "Ktt, _ = kernel(c_indx, c_indx, [1/Wt**2,1])\n",
    "invK2 = pdinv(Ktt +  Lambda * np.eye(T))"
   ]
  },
  {
   "cell_type": "code",
   "execution_count": 56,
   "metadata": {},
   "outputs": [],
   "source": [
    "Ml2 = np.matmul(Ktt, invK2.T)\n",
    "Ml2 = np.matmul(Ml2, Kxx.T)\n",
    "Ml2 = np.matmul(Ml2, invK2.T)\n",
    "Ml2 = np.matmul(Ml2, Ktt.T)\n",
    "\n",
    "D2 = np.diag(np.diag(Ml2)) * np.ones(Ml2.shape) + np.ones(Ml2.shape) * np.diag(np.diag(Ml2)) - 2*Ml2\n",
    "# % Gaussian kernel\n",
    "DD2 = D2[np.where(np.tril(np.ones(D2.shape),-1) != 0)]\n",
    "sigma2_square2 = np.median(DD2,[])[0,0]\n",
    "\n",
    "# sigma2_square2 = median( D2(find(tril(ones(size(D2)),-1))) );\n",
    "Mg2 = np.exp(-D2/sigma2_square2/2)\n",
    "\n",
    "# %% \n",
    "H = np.eye(T)-1/T*np.ones([T,T])\n",
    "Mg = np.matmul(np.matmul(H, Mg.T), H.T)\n",
    "Mg2 = np.matmul(np.matmul(H, Mg2.T), H.T)\n",
    "testStat = 1/T**2*sum(sum(Mg*Mg2))"
   ]
  },
  {
   "cell_type": "code",
   "execution_count": 98,
   "metadata": {},
   "outputs": [
    {
     "name": "stdout",
     "output_type": "stream",
     "text": [
      "[[1.         0.92770246 0.76358518 0.86599119]\n",
      " [0.92770246 1.         0.79140588 0.87024097]\n",
      " [0.76358518 0.79140588 1.         0.96108274]\n",
      " [0.86599119 0.87024097 0.96108274 1.        ]]\n",
      "(matrix([[1.        , 0.86063186, 0.58306233, 0.74994074],\n",
      "        [0.86063186, 1.        , 0.62632327, 0.75731934],\n",
      "        [0.58306233, 0.62632327, 1.        , 0.92368003],\n",
      "        [0.74994074, 0.75731934, 0.92368003, 1.        ]]), 1.0)\n"
     ]
    }
   ],
   "source": [
    "from sklearn.gaussian_process.kernels import RBF \n",
    "from sklearn.metrics.pairwise import rbf_kernel \n",
    "a = np.random.rand(4,4)\n",
    "b = rbf_kernel(a, a)\n",
    "print(b)\n",
    "bb = kernel(a, a, [1, 1])\n",
    "print(bb)"
   ]
  },
  {
   "cell_type": "code",
   "execution_count": 81,
   "metadata": {},
   "outputs": [
    {
     "name": "stdout",
     "output_type": "stream",
     "text": [
      "[[5 5 5 5]\n",
      " [5 5 5 5]\n",
      " [5 5 5 5]]\n"
     ]
    }
   ],
   "source": [
    "a = np.full((3,4), 5)\n",
    "print(a)\n",
    "a = np.matrix(a)"
   ]
  },
  {
   "cell_type": "code",
   "execution_count": 82,
   "metadata": {},
   "outputs": [
    {
     "name": "stdout",
     "output_type": "stream",
     "text": [
      "5.0\n"
     ]
    }
   ],
   "source": [
    "print(np.mean(a))"
   ]
  },
  {
   "cell_type": "code",
   "execution_count": 87,
   "metadata": {},
   "outputs": [
    {
     "name": "stdout",
     "output_type": "stream",
     "text": [
      "5.0\n"
     ]
    }
   ],
   "source": [
    "aa = np.matrix([[1,2,3],[4,5,6], [7,8,9]])\n",
    "aa = np.array(aa)\n",
    "print(np.median(aa))"
   ]
  },
  {
   "cell_type": "code",
   "execution_count": 117,
   "metadata": {},
   "outputs": [],
   "source": [
    "## test the kernel embedding the gram matrix\n",
    "\n",
    "def infer_nonsta_dir(X, Y, c_index, width=0.1, IF_GP=False):\n",
    "    \"\"\"learn the nonstationary driving force of the causal mechanism\n",
    "    X: parents; Y; effect\n",
    "    width: the kernel width for X and Y\n",
    "    c_indx: surrogate variable to capture the distribution shift; \n",
    "    If If_GP = True (TODO), learning the kernel width for P(Y|X). Set it to False can speed up the process!!!\n",
    "    \"\"\"\n",
    "    width = 0.1\n",
    "    T,d = X.shape\n",
    "    ## normalization\n",
    "    X = X - np.matlib.repmat( np.mean(X,0), X.shape[0], 1)\n",
    "    X = np.matmul(X, np.diag(1./np.std(X, axis=0, ddof=1)))\n",
    "    ## normalization\n",
    "    Y = Y - np.matlib.repmat( np.mean(Y,0), Y.shape[0], 1)\n",
    "    Y = np.matmul(Y, np.diag(1/np.std(Y, axis=0,  ddof=1)))\n",
    "    theta = 1/width**2\n",
    "    Lambda = 1\n",
    "    Wt = 1\n",
    "    theta = 1/width**2\n",
    "    Kxx, _ = kernel(X,X, [theta,1])\n",
    "    Kxx , _ = kernel(X, X, [theta,1])\n",
    "    Kyy, _ = kernel(Y, Y, [theta,1])\n",
    "    Ktt, _ = kernel(c_indx, c_indx, [1/Wt**2,1])\n",
    "\n",
    "    # Kxx = kernel(X,X)\n",
    "    # Kxx  = kernel(X, X)\n",
    "    # Kyy = kernel(Y, Y)\n",
    "    # Ktt = kernel(c_indx, c_indx)    \n",
    "\n",
    "    invK = pdinv( np.multiply(Kxx,Ktt) +  Lambda * np.eye(T))\n",
    "\n",
    "    Kxx3 = np.linalg.matrix_power(Kxx,3)\n",
    "    prod_invK =  np.matmul(np.matmul(invK, Kyy), invK)\n",
    "    ###now finding Ml\n",
    "    Ml = np.matmul(np.matmul(1/T**2*Ktt, np.multiply(Kxx3, prod_invK)), Ktt)\n",
    "    ###the square distance\n",
    "    D = np.matmul(np.diag(np.diagonal(Ml)),np.ones(Ml.shape)) + np.matmul(np.ones(Ml.shape), np.diag(np.diagonal(Ml))) - 2*Ml\n",
    "\n",
    "    DD = D[np.where(np.tril(np.ones(D.shape),-1) != 0)]\n",
    "    sigma2_square = np.median(np.array(DD))\n",
    "    Mg = np.exp(-D/sigma2_square/2)\n",
    "\n",
    "\n",
    "    invK2 = pdinv(Ktt +  Lambda * np.eye(T))\n",
    "    Ml2 = np.matmul(Ktt, invK2)\n",
    "    Ml2 = np.matmul(Ml2, Kxx)\n",
    "    Ml2 = np.matmul(Ml2, invK2)\n",
    "    Ml2 = np.matmul(Ml2, Ktt)\n",
    "    D2 =np.matmul(np.diag(np.diagonal(Ml2)),np.ones(Ml2.shape)) + np.matmul(np.ones(Ml2.shape), np.diag(np.diagonal(Ml2))) - 2*Ml2\n",
    "    # % Gaussian kernel\n",
    "    DD2 = D2[np.where(np.tril(np.ones(D2.shape),-1) != 0)]\n",
    "    sigma2_square2 = np.median(np.array(DD2))\n",
    "\n",
    "    # sigma2_square2 = median( D2(find(tril(ones(size(D2)),-1))) );\n",
    "    Mg2 = np.exp(-D2/sigma2_square2/2)\n",
    "\n",
    "    # %% \n",
    "    H = np.eye(T)-1/T*np.ones([T,T])\n",
    "    Mg = np.matmul(np.matmul(H, Mg), H)\n",
    "    Mg2 = np.matmul(np.matmul(H, Mg2), H)\n",
    "    testStat = 1/T**2*np.sum(np.sum(np.multiply(Mg, Mg2)))\n",
    "\n",
    "\n",
    "    return testStat, Mg, Mg2\n",
    "        \n",
    "    \n",
    "\n",
    "\n"
   ]
  },
  {
   "cell_type": "code",
   "execution_count": 34,
   "metadata": {},
   "outputs": [
    {
     "data": {
      "text/plain": [
       "2.0"
      ]
     },
     "execution_count": 34,
     "metadata": {},
     "output_type": "execute_result"
    }
   ],
   "source": [
    "a =np.array([1,2,3]).T\n",
    "np.median(a)"
   ]
  },
  {
   "cell_type": "code",
   "execution_count": 102,
   "metadata": {},
   "outputs": [
    {
     "name": "stdout",
     "output_type": "stream",
     "text": [
      "[[0.01521291 0.23911499 0.7360053  0.86521264 0.33000604 0.25874244]\n",
      " [0.74673502 0.76797884 0.26707618 0.28442193 0.49266576 0.1086746 ]\n",
      " [0.54706322 0.04348749 0.34719064 0.72316756 0.68071804 0.24999386]\n",
      " [0.39405039 0.31693298 0.47980859 0.34979267 0.75567926 0.06566368]\n",
      " [0.83817293 0.5033925  0.64827025 0.54596581 0.24990341 0.37910849]\n",
      " [0.6358084  0.37328392 0.88866997 0.25555478 0.59501046 0.89601134]\n",
      " [0.04318205 0.68324588 0.8492772  0.72881026 0.51921958 0.87702113]\n",
      " [0.56280907 0.12205574 0.20846596 0.37561739 0.93420734 0.21231889]\n",
      " [0.324801   0.54270078 0.21385559 0.94535927 0.21189099 0.72366488]\n",
      " [0.64585419 0.89586163 0.17119297 0.77169189 0.61259422 0.88836476]]\n",
      "[[0.83661161 0.32701314 0.79447669 0.93221476 0.30311306 0.86417624]\n",
      " [0.02378182 0.20561632 0.07679696 0.41228966 0.30396168 0.15790215]\n",
      " [0.80998243 0.51831754 0.65772213 0.74200372 0.98194964 0.67886177]\n",
      " [0.435085   0.46957461 0.08630447 0.17380545 0.62811097 0.42535201]\n",
      " [0.6749442  0.08427936 0.02368157 0.17505385 0.80210387 0.69626207]\n",
      " [0.53115652 0.03985966 0.42567393 0.55950973 0.84616161 0.58229946]\n",
      " [0.26204899 0.77783896 0.93842456 0.05788095 0.30760983 0.72550383]\n",
      " [0.34256839 0.64968333 0.21094752 0.3743202  0.39880009 0.5613199 ]\n",
      " [0.83801891 0.81874842 0.92304859 0.63979244 0.00754131 0.78155756]\n",
      " [0.14091574 0.60544158 0.70376136 0.34031599 0.19052365 0.75388463]]\n",
      "[[1]\n",
      " [0]\n",
      " [2]\n",
      " [0]\n",
      " [2]\n",
      " [0]\n",
      " [3]\n",
      " [2]\n",
      " [2]\n",
      " [2]]\n"
     ]
    }
   ],
   "source": [
    "a = np.random.rand(10,6)\n",
    "b = np.random.rand(10, 6)\n",
    "c = np.random.randint(low=0,high=4,size=(10,1))\n",
    "print(a)\n",
    "print(b)\n",
    "print(c) "
   ]
  },
  {
   "cell_type": "code",
   "execution_count": 103,
   "metadata": {},
   "outputs": [],
   "source": [
    "from scipy.io import savemat\n",
    "\n",
    "mdic = {\"a\": a, \"b\": b, \"c\": c}\n",
    "savemat(\"testdata_HSIC.mat\", mdic)"
   ]
  },
  {
   "cell_type": "code",
   "execution_count": 2,
   "metadata": {},
   "outputs": [],
   "source": [
    "from scipy.io import loadmat\n",
    "mdic = loadmat(\"testdata_HSIC.mat\") "
   ]
  },
  {
   "cell_type": "code",
   "execution_count": 3,
   "metadata": {},
   "outputs": [],
   "source": [
    "X = mdic['a'] \n",
    "Y = mdic['b']\n",
    "c_indx = mdic['c']"
   ]
  },
  {
   "cell_type": "code",
   "execution_count": 118,
   "metadata": {},
   "outputs": [
    {
     "name": "stdout",
     "output_type": "stream",
     "text": [
      "(10, 6) (10, 6)\n"
     ]
    },
    {
     "data": {
      "text/plain": [
       "0.07571453629727216"
      ]
     },
     "execution_count": 118,
     "metadata": {},
     "output_type": "execute_result"
    }
   ],
   "source": [
    "cd_non_con_fun(X, Y, c_indx)"
   ]
  },
  {
   "cell_type": "code",
   "execution_count": 4,
   "metadata": {},
   "outputs": [
    {
     "data": {
      "text/plain": [
       "(0.07571453629727216,\n",
       " matrix([[ 0.3295905 ,  0.11366515, -0.11061121,  0.11366515, -0.11061121,\n",
       "           0.11366515, -0.1175299 , -0.11061121, -0.11061121, -0.11061121],\n",
       "         [ 0.11366515,  0.66034374, -0.37684736,  0.66034374, -0.37684736,\n",
       "           0.66034374, -0.21045956, -0.37684736, -0.37684736, -0.37684736],\n",
       "         [-0.11061121, -0.37684736,  0.23612576, -0.37684736,  0.23612576,\n",
       "          -0.37684736,  0.06052452,  0.23612576,  0.23612576,  0.23612576],\n",
       "         [ 0.11366515,  0.66034374, -0.37684736,  0.66034374, -0.37684736,\n",
       "           0.66034374, -0.21045956, -0.37684736, -0.37684736, -0.37684736],\n",
       "         [-0.11061121, -0.37684736,  0.23612576, -0.37684736,  0.23612576,\n",
       "          -0.37684736,  0.06052452,  0.23612576,  0.23612576,  0.23612576],\n",
       "         [ 0.11366515,  0.66034374, -0.37684736,  0.66034374, -0.37684736,\n",
       "           0.66034374, -0.21045956, -0.37684736, -0.37684736, -0.37684736],\n",
       "         [-0.1175299 , -0.21045956,  0.06052452, -0.21045956,  0.06052452,\n",
       "          -0.21045956,  0.44628599,  0.06052452,  0.06052452,  0.06052452],\n",
       "         [-0.11061121, -0.37684736,  0.23612576, -0.37684736,  0.23612576,\n",
       "          -0.37684736,  0.06052452,  0.23612576,  0.23612576,  0.23612576],\n",
       "         [-0.11061121, -0.37684736,  0.23612576, -0.37684736,  0.23612576,\n",
       "          -0.37684736,  0.06052452,  0.23612576,  0.23612576,  0.23612576],\n",
       "         [-0.11061121, -0.37684736,  0.23612576, -0.37684736,  0.23612576,\n",
       "          -0.37684736,  0.06052452,  0.23612576,  0.23612576,  0.23612576]]),\n",
       " matrix([[ 0.35681005,  0.06860748, -0.0734641 ,  0.06860748, -0.0734641 ,\n",
       "           0.06860748, -0.19531201, -0.0734641 , -0.0734641 , -0.0734641 ],\n",
       "         [ 0.06860748,  0.46801126, -0.26710112,  0.46801126, -0.26710112,\n",
       "           0.46801126, -0.13713566, -0.26710112, -0.26710112, -0.26710112],\n",
       "         [-0.0734641 , -0.26710112,  0.17509978, -0.26710112,  0.17509978,\n",
       "          -0.26710112, -0.00073142,  0.17509978,  0.17509978,  0.17509978],\n",
       "         [ 0.06860748,  0.46801126, -0.26710112,  0.46801126, -0.26710112,\n",
       "           0.46801126, -0.13713566, -0.26710112, -0.26710112, -0.26710112],\n",
       "         [-0.0734641 , -0.26710112,  0.17509978, -0.26710112,  0.17509978,\n",
       "          -0.26710112, -0.00073142,  0.17509978,  0.17509978,  0.17509978],\n",
       "         [ 0.06860748,  0.46801126, -0.26710112,  0.46801126, -0.26710112,\n",
       "           0.46801126, -0.13713566, -0.26710112, -0.26710112, -0.26710112],\n",
       "         [-0.19531201, -0.13713566, -0.00073142, -0.13713566, -0.00073142,\n",
       "          -0.13713566,  0.61037607, -0.00073142, -0.00073142, -0.00073142],\n",
       "         [-0.0734641 , -0.26710112,  0.17509978, -0.26710112,  0.17509978,\n",
       "          -0.26710112, -0.00073142,  0.17509978,  0.17509978,  0.17509978],\n",
       "         [-0.0734641 , -0.26710112,  0.17509978, -0.26710112,  0.17509978,\n",
       "          -0.26710112, -0.00073142,  0.17509978,  0.17509978,  0.17509978],\n",
       "         [-0.0734641 , -0.26710112,  0.17509978, -0.26710112,  0.17509978,\n",
       "          -0.26710112, -0.00073142,  0.17509978,  0.17509978,  0.17509978]]))"
      ]
     },
     "execution_count": 4,
     "metadata": {},
     "output_type": "execute_result"
    }
   ],
   "source": [
    "from infer_nonsta_dir import infer_nonsta_dir\n",
    "infer_nonsta_dir(X, Y, c_indx)"
   ]
  },
  {
   "cell_type": "code",
   "execution_count": 21,
   "metadata": {},
   "outputs": [
    {
     "data": {
      "text/plain": [
       "array([[0.01521291, 0.23911499, 0.7360053 , 0.86521264, 0.33000604,\n",
       "        0.25874244],\n",
       "       [0.74673502, 0.76797884, 0.26707618, 0.28442193, 0.49266576,\n",
       "        0.1086746 ],\n",
       "       [0.54706322, 0.04348749, 0.34719064, 0.72316756, 0.68071804,\n",
       "        0.24999386],\n",
       "       [0.39405039, 0.31693298, 0.47980859, 0.34979267, 0.75567926,\n",
       "        0.06566368],\n",
       "       [0.83817293, 0.5033925 , 0.64827025, 0.54596581, 0.24990341,\n",
       "        0.37910849],\n",
       "       [0.6358084 , 0.37328392, 0.88866997, 0.25555478, 0.59501046,\n",
       "        0.89601134],\n",
       "       [0.04318205, 0.68324588, 0.8492772 , 0.72881026, 0.51921958,\n",
       "        0.87702113],\n",
       "       [0.56280907, 0.12205574, 0.20846596, 0.37561739, 0.93420734,\n",
       "        0.21231889],\n",
       "       [0.324801  , 0.54270078, 0.21385559, 0.94535927, 0.21189099,\n",
       "        0.72366488],\n",
       "       [0.64585419, 0.89586163, 0.17119297, 0.77169189, 0.61259422,\n",
       "        0.88836476]])"
      ]
     },
     "execution_count": 21,
     "metadata": {},
     "output_type": "execute_result"
    }
   ],
   "source": [
    "X"
   ]
  },
  {
   "cell_type": "code",
   "execution_count": 22,
   "metadata": {},
   "outputs": [
    {
     "data": {
      "text/plain": [
       "array([[0.47536892, 0.44880547, 0.48098126, 0.58455942, 0.53818951,\n",
       "        0.46595641],\n",
       "       [0.47536892, 0.44880547, 0.48098126, 0.58455942, 0.53818951,\n",
       "        0.46595641],\n",
       "       [0.47536892, 0.44880547, 0.48098126, 0.58455942, 0.53818951,\n",
       "        0.46595641],\n",
       "       [0.47536892, 0.44880547, 0.48098126, 0.58455942, 0.53818951,\n",
       "        0.46595641],\n",
       "       [0.47536892, 0.44880547, 0.48098126, 0.58455942, 0.53818951,\n",
       "        0.46595641],\n",
       "       [0.47536892, 0.44880547, 0.48098126, 0.58455942, 0.53818951,\n",
       "        0.46595641],\n",
       "       [0.47536892, 0.44880547, 0.48098126, 0.58455942, 0.53818951,\n",
       "        0.46595641],\n",
       "       [0.47536892, 0.44880547, 0.48098126, 0.58455942, 0.53818951,\n",
       "        0.46595641],\n",
       "       [0.47536892, 0.44880547, 0.48098126, 0.58455942, 0.53818951,\n",
       "        0.46595641],\n",
       "       [0.47536892, 0.44880547, 0.48098126, 0.58455942, 0.53818951,\n",
       "        0.46595641]])"
      ]
     },
     "execution_count": 22,
     "metadata": {},
     "output_type": "execute_result"
    }
   ],
   "source": [
    "import numpy.matlib\n",
    "np.mean(X,0)\n",
    "Xmean = np.matlib.repmat( np.mean(X,0), X.shape[0], 1)\n",
    "Xmean"
   ]
  },
  {
   "cell_type": "code",
   "execution_count": 23,
   "metadata": {},
   "outputs": [
    {
     "data": {
      "text/plain": [
       "array([[-0.460156  , -0.20969048,  0.25502404,  0.28065322, -0.20818347,\n",
       "        -0.20721397],\n",
       "       [ 0.2713661 ,  0.31917337, -0.21390508, -0.30013749, -0.04552375,\n",
       "        -0.3572818 ],\n",
       "       [ 0.0716943 , -0.40531799, -0.13379063,  0.13860814,  0.14252853,\n",
       "        -0.21596255],\n",
       "       [-0.08131853, -0.13187249, -0.00117267, -0.23476675,  0.21748975,\n",
       "        -0.40029273],\n",
       "       [ 0.36280401,  0.05458702,  0.16728899, -0.03859361, -0.2882861 ,\n",
       "        -0.08684791],\n",
       "       [ 0.16043949, -0.07552156,  0.4076887 , -0.32900464,  0.05682095,\n",
       "         0.43005493],\n",
       "       [-0.43218687,  0.2344404 ,  0.36829593,  0.14425084, -0.01896993,\n",
       "         0.41106472],\n",
       "       [ 0.08744015, -0.32674973, -0.2725153 , -0.20894203,  0.39601783,\n",
       "        -0.25363752],\n",
       "       [-0.15056792,  0.09389531, -0.26712568,  0.36079985, -0.32629852,\n",
       "         0.25770847],\n",
       "       [ 0.17048527,  0.44705616, -0.30978829,  0.18713247,  0.0744047 ,\n",
       "         0.42240835]])"
      ]
     },
     "execution_count": 23,
     "metadata": {},
     "output_type": "execute_result"
    }
   ],
   "source": [
    "X = X - Xmean\n",
    "# X = np.matmul(X, np.diag(1./np.std(X, axis=0)))\n",
    "X"
   ]
  },
  {
   "cell_type": "code",
   "execution_count": 28,
   "metadata": {},
   "outputs": [
    {
     "data": {
      "text/plain": [
       "array([0.27902024, 0.28019859, 0.27891078, 0.25442093, 0.22817225,\n",
       "       0.34125593])"
      ]
     },
     "execution_count": 28,
     "metadata": {},
     "output_type": "execute_result"
    }
   ],
   "source": [
    "np.std(X, axis=0, ddof=1)"
   ]
  },
  {
   "cell_type": "code",
   "execution_count": 29,
   "metadata": {},
   "outputs": [
    {
     "data": {
      "text/plain": [
       "array([[3.58396938, 0.        , 0.        , 0.        , 0.        ,\n",
       "        0.        ],\n",
       "       [0.        , 3.56889737, 0.        , 0.        , 0.        ,\n",
       "        0.        ],\n",
       "       [0.        , 0.        , 3.58537588, 0.        , 0.        ,\n",
       "        0.        ],\n",
       "       [0.        , 0.        , 0.        , 3.93049428, 0.        ,\n",
       "        0.        ],\n",
       "       [0.        , 0.        , 0.        , 0.        , 4.3826538 ,\n",
       "        0.        ],\n",
       "       [0.        , 0.        , 0.        , 0.        , 0.        ,\n",
       "        2.93035202]])"
      ]
     },
     "execution_count": 29,
     "metadata": {},
     "output_type": "execute_result"
    }
   ],
   "source": [
    "np.diag(1./np.std(X, axis=0, ddof=1))"
   ]
  },
  {
   "cell_type": "code",
   "execution_count": 31,
   "metadata": {},
   "outputs": [
    {
     "data": {
      "text/plain": [
       "array([[-1.64918503, -0.74836382,  0.91435704,  1.10310586, -0.91239607,\n",
       "        -0.60720987],\n",
       "       [ 0.97256779,  1.13909698, -0.76693012, -1.17968869, -0.19951484,\n",
       "        -1.04696146],\n",
       "       [ 0.25695019, -1.44653829, -0.47968969,  0.54479851,  0.62465319,\n",
       "        -0.63284628],\n",
       "       [-0.29144312, -0.47063939, -0.00420448, -0.92274935,  0.95318227,\n",
       "        -1.1729986 ],\n",
       "       [ 1.30027846,  0.19481548,  0.5997939 , -0.15169197, -1.26345817,\n",
       "        -0.25449496],\n",
       "       [ 0.5750102 , -0.26952869,  1.46171723, -1.29315086,  0.24902656,\n",
       "         1.26021233],\n",
       "       [-1.5489445 ,  0.83669374,  1.32047935,  0.56697709, -0.08313863,\n",
       "         1.20456435],\n",
       "       [ 0.31338282, -1.16613626, -0.9770698 , -0.82124546,  1.73560906,\n",
       "        -0.74324722],\n",
       "       [-0.5396308 ,  0.33510271, -0.95774596,  1.41812174, -1.43005344,\n",
       "         0.75517655],\n",
       "       [ 0.61101398,  1.59549754, -1.11070748,  0.73552312,  0.32609006,\n",
       "         1.23780516]])"
      ]
     },
     "execution_count": 31,
     "metadata": {},
     "output_type": "execute_result"
    }
   ],
   "source": [
    "X = np.matmul(X, np.diag(1./np.std(X, axis=0, ddof=1)))\n",
    "X"
   ]
  },
  {
   "cell_type": "code",
   "execution_count": 32,
   "metadata": {},
   "outputs": [
    {
     "data": {
      "text/plain": [
       "array([[ 0.34710025, -0.12262415,  0.31039291,  0.49149608, -0.17387451,\n",
       "         0.24146428],\n",
       "       [-0.46572954, -0.24402097, -0.40728682, -0.02842901, -0.17302589,\n",
       "        -0.46480981],\n",
       "       [ 0.32047107,  0.06868025,  0.17363835,  0.30128504,  0.50496207,\n",
       "         0.05614981],\n",
       "       [-0.05442636,  0.01993732, -0.3977793 , -0.26691323,  0.1511234 ,\n",
       "        -0.19735995],\n",
       "       [ 0.18543284, -0.36535793, -0.46040221, -0.26566483,  0.3251163 ,\n",
       "         0.07355011],\n",
       "       [ 0.04164516, -0.40977764, -0.05840985,  0.11879106,  0.36917404,\n",
       "        -0.04041251],\n",
       "       [-0.22746237,  0.32820167,  0.45434078, -0.38283772, -0.16937774,\n",
       "         0.10279187],\n",
       "       [-0.14694297,  0.20004604, -0.27313626, -0.06639847, -0.07818748,\n",
       "        -0.06139206],\n",
       "       [ 0.34850755,  0.36911113,  0.43896482,  0.19907376, -0.46944626,\n",
       "         0.15884559],\n",
       "       [-0.34859563,  0.15580429,  0.21967758, -0.10040269, -0.28646392,\n",
       "         0.13117267]])"
      ]
     },
     "execution_count": 32,
     "metadata": {},
     "output_type": "execute_result"
    }
   ],
   "source": [
    "Y = Y - np.matlib.repmat( np.mean(Y,0), Y.shape[0], 1)\n",
    "Y"
   ]
  },
  {
   "cell_type": "code",
   "execution_count": 33,
   "metadata": {},
   "outputs": [
    {
     "data": {
      "text/plain": [
       "array([[ 1.16751695, -0.44307377,  0.85434125,  1.77537683, -0.54465103,\n",
       "         1.17469839],\n",
       "       [-1.56654204, -0.88171284, -1.12103697, -0.10269097, -0.54199277,\n",
       "        -2.26125099],\n",
       "       [ 1.07794624,  0.24816006,  0.47793104,  1.08829856,  1.58176209,\n",
       "         0.27316291],\n",
       "       [-0.18307017,  0.07203884, -1.09486801, -0.96414106,  0.4733846 ,\n",
       "        -0.96013547],\n",
       "       [ 0.62372753, -1.32013565, -1.26723448, -0.9596316 ,  1.01840647,\n",
       "         0.35781359],\n",
       "       [ 0.14007893, -1.48063589, -0.16077025,  0.42909578,  1.15641458,\n",
       "        -0.1966026 ],\n",
       "       [-0.76509933,  1.18588016,  1.2505507 , -1.38288227, -0.53056518,\n",
       "         0.50007167],\n",
       "       [-0.49426185,  0.72281969, -0.75179414, -0.23984384, -0.2449174 ,\n",
       "        -0.29866595],\n",
       "       [ 1.17225059,  1.33369695,  1.20822911,  0.71909209, -1.47051105,\n",
       "         0.77276715],\n",
       "       [-1.17254684,  0.56296245,  0.60465176, -0.36267351, -0.89733031,\n",
       "         0.6381413 ]])"
      ]
     },
     "execution_count": 33,
     "metadata": {},
     "output_type": "execute_result"
    }
   ],
   "source": [
    "Y = np.matmul(Y, np.diag(1/np.std(Y, axis=0,  ddof=1)))\n",
    "Y"
   ]
  },
  {
   "cell_type": "code",
   "execution_count": 36,
   "metadata": {},
   "outputs": [],
   "source": [
    "width=0.1\n",
    "theta = 1/width**2; \n",
    "Lambda = 2"
   ]
  },
  {
   "cell_type": "code",
   "execution_count": 37,
   "metadata": {},
   "outputs": [],
   "source": [
    "def kernel(X, Y):\n",
    "    return np.matmul(X, X.T)\n",
    "\n",
    "from ScoreUtils import pdinv    "
   ]
  },
  {
   "cell_type": "code",
   "execution_count": 38,
   "metadata": {},
   "outputs": [],
   "source": [
    "Kyy = kernel(Y, Y)"
   ]
  },
  {
   "cell_type": "code",
   "execution_count": 39,
   "metadata": {},
   "outputs": [
    {
     "data": {
      "text/plain": [
       "array([[ 7.11783309, -4.93945482,  2.94839921, -4.27845965, -1.60758155,\n",
       "         0.58323833, -1.92903266, -2.18287136,  4.79527939, -0.50734996],\n",
       "       [-4.93945482,  9.90575301, -4.02998435,  3.4642019 ,  0.3449721 ,\n",
       "         1.04002076, -1.95017461,  1.81248352, -5.39104544, -0.25677208],\n",
       "       [ 2.94839921, -4.02998435,  5.21295264, -1.26549895,  0.40334156,\n",
       "         1.94917828, -2.1403865 , -1.44272569,  0.83972319, -2.4749994 ],\n",
       "       [-4.27845965,  3.4642019 , -1.26549895,  3.31296133,  2.2419362 ,\n",
       "         0.36619977, -0.54169602,  1.36773399, -3.57276219, -1.09461638],\n",
       "       [-1.60758155,  0.3449721 ,  0.40334156,  2.2419362 ,  5.8237525 ,\n",
       "         2.94132404, -2.6618182 , -0.43593577, -4.47174038, -2.5782505 ],\n",
       "       [ 0.58323833,  1.04002076,  1.94917828,  0.36619977,  2.94132404,\n",
       "         3.79782225, -3.36934   , -1.34602583, -3.54864832, -2.41376928],\n",
       "       [-1.92903266, -1.95017461, -2.1403865 , -0.54169602, -2.6618182 ,\n",
       "        -3.36934   ,  5.99950026,  0.6074463 ,  2.36788958,  3.61761184],\n",
       "       [-2.18287136,  1.81248352, -1.44272569,  1.36773399, -0.43593577,\n",
       "        -1.34602583,  0.6074463 ,  1.53866846, -0.5668312 ,  0.64805759],\n",
       "       [ 4.79527939, -5.39104544,  0.83972319, -3.57276219, -4.47174038,\n",
       "        -3.54864832,  2.36788958, -0.5668312 ,  7.88940183,  1.65873354],\n",
       "       [-0.50734996, -0.25677208, -2.4749994 , -1.09461638, -2.5782505 ,\n",
       "        -2.41376928,  3.61761184,  0.64805759,  1.65873354,  3.40135462]])"
      ]
     },
     "execution_count": 39,
     "metadata": {},
     "output_type": "execute_result"
    }
   ],
   "source": [
    "Kyy"
   ]
  },
  {
   "cell_type": "code",
   "execution_count": 44,
   "metadata": {},
   "outputs": [],
   "source": [
    "T,d = X.shape\n",
    "Kxx = kernel(X, X)\n",
    "Kyy = kernel(Y, Y)\n",
    "Ktt = kernel(c_indx, c_indx)\n",
    "invK = pdinv( Kxx*Ktt +  Lambda * np.eye(T))"
   ]
  },
  {
   "cell_type": "code",
   "execution_count": 47,
   "metadata": {},
   "outputs": [
    {
     "data": {
      "text/plain": [
       "matrix([[ 0.33936131,  0.        , -0.06868456,  0.        ,  0.03853884,\n",
       "          0.        , -0.03710927,  0.06274611, -0.0651831 ,  0.1172221 ],\n",
       "        [ 0.        ,  0.5       ,  0.        ,  0.        ,  0.        ,\n",
       "          0.        ,  0.        ,  0.        ,  0.        ,  0.        ],\n",
       "        [-0.06868456,  0.        ,  0.16436291,  0.        ,  0.00767954,\n",
       "          0.        ,  0.02812351, -0.07529331, -0.03257386,  0.01762098],\n",
       "        [ 0.        ,  0.        ,  0.        ,  0.5       ,  0.        ,\n",
       "          0.        ,  0.        ,  0.        ,  0.        ,  0.        ],\n",
       "        [ 0.03853884,  0.        ,  0.00767954,  0.        ,  0.18938252,\n",
       "          0.        ,  0.07994403,  0.16438748,  0.04303152,  0.02833678],\n",
       "        [ 0.        ,  0.        ,  0.        ,  0.        ,  0.        ,\n",
       "          0.5       ,  0.        ,  0.        ,  0.        ,  0.        ],\n",
       "        [-0.03710927,  0.        ,  0.02812351,  0.        ,  0.07994403,\n",
       "          0.        ,  0.06986662,  0.08414743,  0.03134414, -0.00338943],\n",
       "        [ 0.06274611,  0.        , -0.07529331,  0.        ,  0.16438748,\n",
       "          0.        ,  0.08414743,  0.26149725,  0.09297433,  0.01202369],\n",
       "        [-0.0651831 ,  0.        , -0.03257386,  0.        ,  0.04303152,\n",
       "          0.        ,  0.03134414,  0.09297433,  0.10998532, -0.05183167],\n",
       "        [ 0.1172221 ,  0.        ,  0.01762098,  0.        ,  0.02833678,\n",
       "          0.        , -0.00338943,  0.01202369, -0.05183167,  0.09692662]])"
      ]
     },
     "execution_count": 47,
     "metadata": {},
     "output_type": "execute_result"
    }
   ],
   "source": [
    "invK"
   ]
  },
  {
   "cell_type": "code",
   "execution_count": 69,
   "metadata": {},
   "outputs": [
    {
     "data": {
      "text/plain": [
       "matrix([[ 0.33936131,  0.        , -0.06868456,  0.        ,  0.03853884,\n",
       "          0.        , -0.03710927,  0.06274611, -0.0651831 ,  0.1172221 ],\n",
       "        [ 0.        ,  0.5       ,  0.        ,  0.        ,  0.        ,\n",
       "          0.        ,  0.        ,  0.        ,  0.        ,  0.        ],\n",
       "        [-0.06868456,  0.        ,  0.16436291,  0.        ,  0.00767954,\n",
       "          0.        ,  0.02812351, -0.07529331, -0.03257386,  0.01762098],\n",
       "        [ 0.        ,  0.        ,  0.        ,  0.5       ,  0.        ,\n",
       "          0.        ,  0.        ,  0.        ,  0.        ,  0.        ],\n",
       "        [ 0.03853884,  0.        ,  0.00767954,  0.        ,  0.18938252,\n",
       "          0.        ,  0.07994403,  0.16438748,  0.04303152,  0.02833678],\n",
       "        [ 0.        ,  0.        ,  0.        ,  0.        ,  0.        ,\n",
       "          0.5       ,  0.        ,  0.        ,  0.        ,  0.        ],\n",
       "        [-0.03710927,  0.        ,  0.02812351,  0.        ,  0.07994403,\n",
       "          0.        ,  0.06986662,  0.08414743,  0.03134414, -0.00338943],\n",
       "        [ 0.06274611,  0.        , -0.07529331,  0.        ,  0.16438748,\n",
       "          0.        ,  0.08414743,  0.26149725,  0.09297433,  0.01202369],\n",
       "        [-0.0651831 ,  0.        , -0.03257386,  0.        ,  0.04303152,\n",
       "          0.        ,  0.03134414,  0.09297433,  0.10998532, -0.05183167],\n",
       "        [ 0.1172221 ,  0.        ,  0.01762098,  0.        ,  0.02833678,\n",
       "          0.        , -0.00338943,  0.01202369, -0.05183167,  0.09692662]])"
      ]
     },
     "execution_count": 69,
     "metadata": {},
     "output_type": "execute_result"
    }
   ],
   "source": [
    "pdinv( np.multiply(Kxx,Ktt) +  Lambda * np.eye(T))"
   ]
  },
  {
   "cell_type": "code",
   "execution_count": 64,
   "metadata": {},
   "outputs": [
    {
     "data": {
      "text/plain": [
       "array([[ 1433.29287493, -1100.77166265,  -170.82336971,  -551.14582141,\n",
       "         -151.70772668,  -230.65513379,  1217.33148543, -1079.69144808,\n",
       "          905.77427085,  -271.6034689 ],\n",
       "       [-1100.77166265,   977.86859717,   211.34594219,   522.03271915,\n",
       "          171.21803234,    64.973221  , -1132.58389609,   931.42450771,\n",
       "         -747.28392435,   101.77646353],\n",
       "       [ -170.82336971,   211.34594219,   620.11739105,   685.56478737,\n",
       "         -224.04703177,  -160.37060983,  -787.20582045,  1025.40403801,\n",
       "         -648.93697183,  -551.04835504],\n",
       "       [ -551.14582141,   522.03271915,   685.56478737,  1015.74260341,\n",
       "         -189.52366143,    96.87956713, -1123.15470208,  1452.93082621,\n",
       "        -1184.12436874,  -725.20194961],\n",
       "       [ -151.70772668,   171.21803234,  -224.04703177,  -189.52366143,\n",
       "          247.26902851,   108.08779019,    27.82319795,  -282.94812016,\n",
       "          105.82461112,   188.00387992],\n",
       "       [ -230.65513379,    64.973221  ,  -160.37060983,    96.87956713,\n",
       "          108.08779019,   537.02846945,    91.25818924,    36.90607307,\n",
       "         -416.32769079,  -127.77987566],\n",
       "       [ 1217.33148543, -1132.58389609,  -787.20582045, -1123.15470208,\n",
       "           27.82319795,    91.25818924,  1833.99526336, -1839.7025195 ,\n",
       "         1303.30265159,   408.93615054],\n",
       "       [-1079.69144808,   931.42450771,  1025.40403801,  1452.93082621,\n",
       "         -282.94812016,    36.90607307, -1839.7025195 ,  2240.02630385,\n",
       "        -1679.71753938,  -804.63212174],\n",
       "       [  905.77427085,  -747.28392435,  -648.93697183, -1184.12436874,\n",
       "          105.82461112,  -416.32769079,  1303.30265159, -1679.71753938,\n",
       "         1579.95474033,   781.53422119],\n",
       "       [ -271.6034689 ,   101.77646353,  -551.04835504,  -725.20194961,\n",
       "          188.00387992,  -127.77987566,   408.93615054,  -804.63212174,\n",
       "          781.53422119,  1000.01505578]])"
      ]
     },
     "execution_count": 64,
     "metadata": {},
     "output_type": "execute_result"
    }
   ],
   "source": [
    "Kxx3 = np.linalg.matrix_power(Kxx,3)\n",
    "Kxx3"
   ]
  },
  {
   "cell_type": "code",
   "execution_count": 65,
   "metadata": {},
   "outputs": [
    {
     "data": {
      "text/plain": [
       "matrix([[ 4.88579491e-01, -4.39382899e-01, -7.89114351e-02,\n",
       "         -5.34064702e-01, -6.19385402e-02,  8.31729587e-02,\n",
       "         -1.24911461e-01, -4.02307979e-02, -9.42541771e-02,\n",
       "          1.53945374e-01],\n",
       "        [-4.39382899e-01,  2.47643825e+00, -1.70348744e-01,\n",
       "          8.66050474e-01, -1.26596900e-01,  2.60005191e-01,\n",
       "         -2.71514570e-02, -7.21252841e-02, -2.07662425e-03,\n",
       "         -1.78654294e-01],\n",
       "        [-7.89114351e-02, -1.70348744e-01,  1.25107800e-01,\n",
       "          4.09774544e-02, -5.78597246e-03,  1.91275220e-01,\n",
       "          1.07007553e-02, -9.49748781e-02, -4.34777367e-02,\n",
       "         -5.19318814e-03],\n",
       "        [-5.34064702e-01,  8.66050474e-01,  4.09774544e-02,\n",
       "          8.28240333e-01,  1.23375950e-01,  9.15499430e-02,\n",
       "          1.35689738e-01,  8.10564820e-02,  9.52744574e-02,\n",
       "         -1.81467051e-01],\n",
       "        [-6.19385402e-02, -1.26596900e-01, -5.78597246e-03,\n",
       "          1.23375950e-01,  1.07338352e-01, -5.86245552e-02,\n",
       "          6.32891855e-02,  1.07630120e-01,  4.55330579e-02,\n",
       "         -1.49585136e-02],\n",
       "        [ 8.31729587e-02,  2.60005191e-01,  1.91275220e-01,\n",
       "          9.15499430e-02, -5.86245552e-02,  9.49455563e-01,\n",
       "         -9.17007566e-02, -3.10553152e-01, -2.35442179e-01,\n",
       "          6.56361627e-02],\n",
       "        [-1.24911461e-01, -2.71514570e-02,  1.07007553e-02,\n",
       "          1.35689738e-01,  6.32891855e-02, -9.17007566e-02,\n",
       "          5.88533209e-02,  6.86346459e-02,  4.78675637e-02,\n",
       "         -3.61065116e-02],\n",
       "        [-4.02307979e-02, -7.21252841e-02, -9.49748781e-02,\n",
       "          8.10564820e-02,  1.07630120e-01, -3.10553152e-01,\n",
       "          6.86346459e-02,  1.93494038e-01,  1.03022326e-01,\n",
       "         -2.45870205e-02],\n",
       "        [-9.42541771e-02, -2.07662425e-03, -4.34777367e-02,\n",
       "          9.52744574e-02,  4.55330579e-02, -2.35442179e-01,\n",
       "          4.78675637e-02,  1.03022326e-01,  8.14912984e-02,\n",
       "         -4.42746498e-02],\n",
       "        [ 1.53945374e-01, -1.78654294e-01, -5.19318814e-03,\n",
       "         -1.81467051e-01, -1.49585136e-02,  6.56361627e-02,\n",
       "         -3.61065116e-02, -2.45870205e-02, -4.42746498e-02,\n",
       "          5.78252858e-02]])"
      ]
     },
     "execution_count": 65,
     "metadata": {},
     "output_type": "execute_result"
    }
   ],
   "source": [
    "prod_invK"
   ]
  },
  {
   "cell_type": "code",
   "execution_count": 67,
   "metadata": {},
   "outputs": [
    {
     "data": {
      "text/plain": [
       "matrix([[ 7.00277504e+02,  4.83660245e+02,  1.34799172e+01,\n",
       "          2.94347529e+02,  9.39655513e+00, -1.91842699e+01,\n",
       "         -1.52058655e+02,  4.34368485e+01, -8.53730085e+01,\n",
       "         -4.18120976e+01],\n",
       "        [ 4.83660245e+02,  2.42163120e+03, -3.60025157e+01,\n",
       "          4.52106684e+02, -2.16756720e+01,  1.68933747e+01,\n",
       "          3.07513029e+01, -6.71792572e+01,  1.55182792e+00,\n",
       "         -1.81828023e+01],\n",
       "        [ 1.34799172e+01, -3.60025157e+01,  7.75815228e+01,\n",
       "          2.80926998e+01,  1.29632995e+00, -3.06749237e+01,\n",
       "         -8.42369683e+00, -9.73876235e+01,  2.82143108e+01,\n",
       "          2.86169778e+00],\n",
       "        [ 2.94347529e+02,  4.52106684e+02,  2.80926998e+01,\n",
       "          8.41278992e+02, -2.33826618e+01,  8.86931885e+00,\n",
       "         -1.52400568e+02,  1.17769461e+02, -1.12816807e+02,\n",
       "          1.31600259e+02],\n",
       "        [ 9.39655513e+00, -2.16756720e+01,  1.29632995e+00,\n",
       "         -2.33826618e+01,  2.65414500e+01, -6.33659862e+00,\n",
       "          1.76090754e+00, -3.04537402e+01,  4.81851815e+00,\n",
       "         -2.81225859e+00],\n",
       "        [-1.91842699e+01,  1.68933747e+01, -3.06749237e+01,\n",
       "          8.86931885e+00, -6.33659862e+00,  5.09884668e+02,\n",
       "         -8.36844500e+00, -1.14612973e+01,  9.80210986e+01,\n",
       "         -8.38698071e+00],\n",
       "        [-1.52058655e+02,  3.07513029e+01, -8.42369683e+00,\n",
       "         -1.52400568e+02,  1.76090754e+00, -8.36844500e+00,\n",
       "          1.07936712e+02, -1.26267331e+02,  6.23859227e+01,\n",
       "         -1.47652579e+01],\n",
       "        [ 4.34368485e+01, -6.71792572e+01, -9.73876235e+01,\n",
       "          1.17769461e+02, -3.04537402e+01, -1.14612973e+01,\n",
       "         -1.26267331e+02,  4.33431735e+02, -1.73048407e+02,\n",
       "          1.97835064e+01],\n",
       "        [-8.53730085e+01,  1.55182792e+00,  2.82143108e+01,\n",
       "         -1.12816807e+02,  4.81851815e+00,  9.80210986e+01,\n",
       "          6.23859227e+01, -1.73048407e+02,  1.28752563e+02,\n",
       "         -3.46021539e+01],\n",
       "        [-4.18120976e+01, -1.81828023e+01,  2.86169778e+00,\n",
       "          1.31600259e+02, -2.81225859e+00, -8.38698071e+00,\n",
       "         -1.47652579e+01,  1.97835064e+01, -3.46021539e+01,\n",
       "          5.78261564e+01]])"
      ]
     },
     "execution_count": 67,
     "metadata": {},
     "output_type": "execute_result"
    }
   ],
   "source": [
    "np.multiply(Kxx3 , prod_invK)"
   ]
  },
  {
   "cell_type": "code",
   "execution_count": 68,
   "metadata": {},
   "outputs": [
    {
     "data": {
      "text/plain": [
       "matrix([[ 1.38050522,  0.        ,  2.76101045,  0.        ,  2.76101045,\n",
       "          0.        ,  4.14151567,  2.76101045,  2.76101045,  2.76101045],\n",
       "        [ 0.        ,  0.        ,  0.        ,  0.        ,  0.        ,\n",
       "          0.        ,  0.        ,  0.        ,  0.        ,  0.        ],\n",
       "        [ 2.76101045,  0.        ,  5.52202089,  0.        ,  5.52202089,\n",
       "          0.        ,  8.28303134,  5.52202089,  5.52202089,  5.52202089],\n",
       "        [ 0.        ,  0.        ,  0.        ,  0.        ,  0.        ,\n",
       "          0.        ,  0.        ,  0.        ,  0.        ,  0.        ],\n",
       "        [ 2.76101045,  0.        ,  5.52202089,  0.        ,  5.52202089,\n",
       "          0.        ,  8.28303134,  5.52202089,  5.52202089,  5.52202089],\n",
       "        [ 0.        ,  0.        ,  0.        ,  0.        ,  0.        ,\n",
       "          0.        ,  0.        ,  0.        ,  0.        ,  0.        ],\n",
       "        [ 4.14151567,  0.        ,  8.28303134,  0.        ,  8.28303134,\n",
       "          0.        , 12.42454701,  8.28303134,  8.28303134,  8.28303134],\n",
       "        [ 2.76101045,  0.        ,  5.52202089,  0.        ,  5.52202089,\n",
       "          0.        ,  8.28303134,  5.52202089,  5.52202089,  5.52202089],\n",
       "        [ 2.76101045,  0.        ,  5.52202089,  0.        ,  5.52202089,\n",
       "          0.        ,  8.28303134,  5.52202089,  5.52202089,  5.52202089],\n",
       "        [ 2.76101045,  0.        ,  5.52202089,  0.        ,  5.52202089,\n",
       "          0.        ,  8.28303134,  5.52202089,  5.52202089,  5.52202089]])"
      ]
     },
     "execution_count": 68,
     "metadata": {},
     "output_type": "execute_result"
    }
   ],
   "source": [
    "Ml = np.matmul(np.matmul(1/T**2*Ktt, np.multiply(Kxx3, prod_invK)), Ktt)\n",
    "Ml"
   ]
  },
  {
   "cell_type": "code",
   "execution_count": 76,
   "metadata": {},
   "outputs": [
    {
     "data": {
      "text/plain": [
       "matrix([[ 0.        ,  1.38050522,  1.38050522,  1.38050522,  1.38050522,\n",
       "          1.38050522,  5.52202089,  1.38050522,  1.38050522,  1.38050522],\n",
       "        [ 1.38050522,  0.        ,  5.52202089,  0.        ,  5.52202089,\n",
       "          0.        , 12.42454701,  5.52202089,  5.52202089,  5.52202089],\n",
       "        [ 1.38050522,  5.52202089,  0.        ,  5.52202089,  0.        ,\n",
       "          5.52202089,  1.38050522,  0.        ,  0.        ,  0.        ],\n",
       "        [ 1.38050522,  0.        ,  5.52202089,  0.        ,  5.52202089,\n",
       "          0.        , 12.42454701,  5.52202089,  5.52202089,  5.52202089],\n",
       "        [ 1.38050522,  5.52202089,  0.        ,  5.52202089,  0.        ,\n",
       "          5.52202089,  1.38050522,  0.        ,  0.        ,  0.        ],\n",
       "        [ 1.38050522,  0.        ,  5.52202089,  0.        ,  5.52202089,\n",
       "          0.        , 12.42454701,  5.52202089,  5.52202089,  5.52202089],\n",
       "        [ 5.52202089, 12.42454701,  1.38050522, 12.42454701,  1.38050522,\n",
       "         12.42454701,  0.        ,  1.38050522,  1.38050522,  1.38050522],\n",
       "        [ 1.38050522,  5.52202089,  0.        ,  5.52202089,  0.        ,\n",
       "          5.52202089,  1.38050522,  0.        ,  0.        ,  0.        ],\n",
       "        [ 1.38050522,  5.52202089,  0.        ,  5.52202089,  0.        ,\n",
       "          5.52202089,  1.38050522,  0.        ,  0.        ,  0.        ],\n",
       "        [ 1.38050522,  5.52202089,  0.        ,  5.52202089,  0.        ,\n",
       "          5.52202089,  1.38050522,  0.        ,  0.        ,  0.        ]])"
      ]
     },
     "execution_count": 76,
     "metadata": {},
     "output_type": "execute_result"
    }
   ],
   "source": [
    "D = np.matmul(np.diag(np.diagonal(Ml)),np.ones(Ml.shape)) + np.matmul(np.ones(Ml.shape), np.diag(np.diagonal(Ml))) - 2*Ml\n",
    "D"
   ]
  },
  {
   "cell_type": "code",
   "execution_count": 74,
   "metadata": {},
   "outputs": [
    {
     "data": {
      "text/plain": [
       "array([[ 1.38050522,  0.        ,  0.        ,  0.        ,  0.        ,\n",
       "         0.        ,  0.        ,  0.        ,  0.        ,  0.        ],\n",
       "       [ 0.        ,  0.        ,  0.        ,  0.        ,  0.        ,\n",
       "         0.        ,  0.        ,  0.        ,  0.        ,  0.        ],\n",
       "       [ 0.        ,  0.        ,  5.52202089,  0.        ,  0.        ,\n",
       "         0.        ,  0.        ,  0.        ,  0.        ,  0.        ],\n",
       "       [ 0.        ,  0.        ,  0.        ,  0.        ,  0.        ,\n",
       "         0.        ,  0.        ,  0.        ,  0.        ,  0.        ],\n",
       "       [ 0.        ,  0.        ,  0.        ,  0.        ,  5.52202089,\n",
       "         0.        ,  0.        ,  0.        ,  0.        ,  0.        ],\n",
       "       [ 0.        ,  0.        ,  0.        ,  0.        ,  0.        ,\n",
       "         0.        ,  0.        ,  0.        ,  0.        ,  0.        ],\n",
       "       [ 0.        ,  0.        ,  0.        ,  0.        ,  0.        ,\n",
       "         0.        , 12.42454701,  0.        ,  0.        ,  0.        ],\n",
       "       [ 0.        ,  0.        ,  0.        ,  0.        ,  0.        ,\n",
       "         0.        ,  0.        ,  5.52202089,  0.        ,  0.        ],\n",
       "       [ 0.        ,  0.        ,  0.        ,  0.        ,  0.        ,\n",
       "         0.        ,  0.        ,  0.        ,  5.52202089,  0.        ],\n",
       "       [ 0.        ,  0.        ,  0.        ,  0.        ,  0.        ,\n",
       "         0.        ,  0.        ,  0.        ,  0.        ,  5.52202089]])"
      ]
     },
     "execution_count": 74,
     "metadata": {},
     "output_type": "execute_result"
    }
   ],
   "source": [
    " np.diag(np.diagonal(Ml))"
   ]
  },
  {
   "cell_type": "code",
   "execution_count": 79,
   "metadata": {},
   "outputs": [
    {
     "data": {
      "text/plain": [
       "matrix([[ 0.484375,  0.      , -0.03125 ,  0.      , -0.03125 ,\n",
       "          0.      , -0.046875, -0.03125 , -0.03125 , -0.03125 ],\n",
       "        [ 0.      ,  0.5     ,  0.      ,  0.      ,  0.      ,\n",
       "          0.      ,  0.      ,  0.      ,  0.      ,  0.      ],\n",
       "        [-0.03125 ,  0.      ,  0.4375  ,  0.      , -0.0625  ,\n",
       "          0.      , -0.09375 , -0.0625  , -0.0625  , -0.0625  ],\n",
       "        [ 0.      ,  0.      ,  0.      ,  0.5     ,  0.      ,\n",
       "          0.      ,  0.      ,  0.      ,  0.      ,  0.      ],\n",
       "        [-0.03125 ,  0.      , -0.0625  ,  0.      ,  0.4375  ,\n",
       "          0.      , -0.09375 , -0.0625  , -0.0625  , -0.0625  ],\n",
       "        [ 0.      ,  0.      ,  0.      ,  0.      ,  0.      ,\n",
       "          0.5     ,  0.      ,  0.      ,  0.      ,  0.      ],\n",
       "        [-0.046875,  0.      , -0.09375 ,  0.      , -0.09375 ,\n",
       "          0.      ,  0.359375, -0.09375 , -0.09375 , -0.09375 ],\n",
       "        [-0.03125 ,  0.      , -0.0625  ,  0.      , -0.0625  ,\n",
       "          0.      , -0.09375 ,  0.4375  , -0.0625  , -0.0625  ],\n",
       "        [-0.03125 ,  0.      , -0.0625  ,  0.      , -0.0625  ,\n",
       "          0.      , -0.09375 , -0.0625  ,  0.4375  , -0.0625  ],\n",
       "        [-0.03125 ,  0.      , -0.0625  ,  0.      , -0.0625  ,\n",
       "          0.      , -0.09375 , -0.0625  , -0.0625  ,  0.4375  ]])"
      ]
     },
     "execution_count": 79,
     "metadata": {},
     "output_type": "execute_result"
    }
   ],
   "source": [
    "invK2 = pdinv(Ktt +  Lambda * np.eye(T))\n",
    "invK2"
   ]
  },
  {
   "cell_type": "code",
   "execution_count": 80,
   "metadata": {},
   "outputs": [
    {
     "data": {
      "text/plain": [
       "matrix([[0.06037068, 0.        , 0.12074135, 0.        , 0.12074135,\n",
       "         0.        , 0.18111203, 0.12074135, 0.12074135, 0.12074135],\n",
       "        [0.        , 0.        , 0.        , 0.        , 0.        ,\n",
       "         0.        , 0.        , 0.        , 0.        , 0.        ],\n",
       "        [0.12074135, 0.        , 0.2414827 , 0.        , 0.2414827 ,\n",
       "         0.        , 0.36222405, 0.2414827 , 0.2414827 , 0.2414827 ],\n",
       "        [0.        , 0.        , 0.        , 0.        , 0.        ,\n",
       "         0.        , 0.        , 0.        , 0.        , 0.        ],\n",
       "        [0.12074135, 0.        , 0.2414827 , 0.        , 0.2414827 ,\n",
       "         0.        , 0.36222405, 0.2414827 , 0.2414827 , 0.2414827 ],\n",
       "        [0.        , 0.        , 0.        , 0.        , 0.        ,\n",
       "         0.        , 0.        , 0.        , 0.        , 0.        ],\n",
       "        [0.18111203, 0.        , 0.36222405, 0.        , 0.36222405,\n",
       "         0.        , 0.54333608, 0.36222405, 0.36222405, 0.36222405],\n",
       "        [0.12074135, 0.        , 0.2414827 , 0.        , 0.2414827 ,\n",
       "         0.        , 0.36222405, 0.2414827 , 0.2414827 , 0.2414827 ],\n",
       "        [0.12074135, 0.        , 0.2414827 , 0.        , 0.2414827 ,\n",
       "         0.        , 0.36222405, 0.2414827 , 0.2414827 , 0.2414827 ],\n",
       "        [0.12074135, 0.        , 0.2414827 , 0.        , 0.2414827 ,\n",
       "         0.        , 0.36222405, 0.2414827 , 0.2414827 , 0.2414827 ]])"
      ]
     },
     "execution_count": 80,
     "metadata": {},
     "output_type": "execute_result"
    }
   ],
   "source": [
    "Ml2 = np.matmul(Ktt, invK2)\n",
    "Ml2 = np.matmul(Ml2, Kxx)\n",
    "Ml2 = np.matmul(Ml2, invK2)\n",
    "Ml2 = np.matmul(Ml2, Ktt)\n",
    "Ml2"
   ]
  },
  {
   "cell_type": "code",
   "execution_count": 81,
   "metadata": {},
   "outputs": [
    {
     "data": {
      "text/plain": [
       "matrix([[ 1.38050522,  1.38050522,  5.52202089,  1.38050522,  0.        ,\n",
       "          5.52202089,  1.38050522,  5.52202089,  0.        ,  5.52202089,\n",
       "          1.38050522,  0.        ,  5.52202089,  0.        ,  5.52202089,\n",
       "          5.52202089, 12.42454701,  1.38050522, 12.42454701,  1.38050522,\n",
       "         12.42454701,  1.38050522,  5.52202089,  0.        ,  5.52202089,\n",
       "          0.        ,  5.52202089,  1.38050522,  1.38050522,  5.52202089,\n",
       "          0.        ,  5.52202089,  0.        ,  5.52202089,  1.38050522,\n",
       "          0.        ,  1.38050522,  5.52202089,  0.        ,  5.52202089,\n",
       "          0.        ,  5.52202089,  1.38050522,  0.        ,  0.        ]])"
      ]
     },
     "execution_count": 81,
     "metadata": {},
     "output_type": "execute_result"
    }
   ],
   "source": [
    "DD = D[np.where(np.tril(np.ones(D.shape),-1) != 0)]\n",
    "DD"
   ]
  },
  {
   "cell_type": "code",
   "execution_count": 85,
   "metadata": {},
   "outputs": [
    {
     "data": {
      "text/plain": [
       "matrix([[1.        , 0.60653066, 0.60653066, 0.60653066, 0.60653066,\n",
       "         0.60653066, 0.13533528, 0.60653066, 0.60653066, 0.60653066],\n",
       "        [0.60653066, 1.        , 0.13533528, 1.        , 0.13533528,\n",
       "         1.        , 0.011109  , 0.13533528, 0.13533528, 0.13533528],\n",
       "        [0.60653066, 0.13533528, 1.        , 0.13533528, 1.        ,\n",
       "         0.13533528, 0.60653066, 1.        , 1.        , 1.        ],\n",
       "        [0.60653066, 1.        , 0.13533528, 1.        , 0.13533528,\n",
       "         1.        , 0.011109  , 0.13533528, 0.13533528, 0.13533528],\n",
       "        [0.60653066, 0.13533528, 1.        , 0.13533528, 1.        ,\n",
       "         0.13533528, 0.60653066, 1.        , 1.        , 1.        ],\n",
       "        [0.60653066, 1.        , 0.13533528, 1.        , 0.13533528,\n",
       "         1.        , 0.011109  , 0.13533528, 0.13533528, 0.13533528],\n",
       "        [0.13533528, 0.011109  , 0.60653066, 0.011109  , 0.60653066,\n",
       "         0.011109  , 1.        , 0.60653066, 0.60653066, 0.60653066],\n",
       "        [0.60653066, 0.13533528, 1.        , 0.13533528, 1.        ,\n",
       "         0.13533528, 0.60653066, 1.        , 1.        , 1.        ],\n",
       "        [0.60653066, 0.13533528, 1.        , 0.13533528, 1.        ,\n",
       "         0.13533528, 0.60653066, 1.        , 1.        , 1.        ],\n",
       "        [0.60653066, 0.13533528, 1.        , 0.13533528, 1.        ,\n",
       "         0.13533528, 0.60653066, 1.        , 1.        , 1.        ]])"
      ]
     },
     "execution_count": 85,
     "metadata": {},
     "output_type": "execute_result"
    }
   ],
   "source": [
    "Mg = np.exp(-D/sigma2_square/2)\n",
    "Mg"
   ]
  },
  {
   "cell_type": "code",
   "execution_count": 87,
   "metadata": {},
   "outputs": [
    {
     "data": {
      "text/plain": [
       "0.060370675721646505"
      ]
     },
     "execution_count": 87,
     "metadata": {},
     "output_type": "execute_result"
    }
   ],
   "source": [
    "D2 =np.matmul(np.diag(np.diagonal(Ml2)),np.ones(Ml2.shape)) + np.matmul(np.ones(Ml2.shape), np.diag(np.diagonal(Ml2))) - 2*Ml2\n",
    "DD2 = D2[np.where(np.tril(np.ones(D2.shape),-1) != 0)]\n",
    "sigma2_square2 = np.median(np.array(DD2))\n",
    "sigma2_square2"
   ]
  },
  {
   "cell_type": "code",
   "execution_count": 88,
   "metadata": {},
   "outputs": [
    {
     "data": {
      "text/plain": [
       "matrix([[1.        , 0.60653066, 0.60653066, 0.60653066, 0.60653066,\n",
       "         0.60653066, 0.13533528, 0.60653066, 0.60653066, 0.60653066],\n",
       "        [0.60653066, 1.        , 0.13533528, 1.        , 0.13533528,\n",
       "         1.        , 0.011109  , 0.13533528, 0.13533528, 0.13533528],\n",
       "        [0.60653066, 0.13533528, 1.        , 0.13533528, 1.        ,\n",
       "         0.13533528, 0.60653066, 1.        , 1.        , 1.        ],\n",
       "        [0.60653066, 1.        , 0.13533528, 1.        , 0.13533528,\n",
       "         1.        , 0.011109  , 0.13533528, 0.13533528, 0.13533528],\n",
       "        [0.60653066, 0.13533528, 1.        , 0.13533528, 1.        ,\n",
       "         0.13533528, 0.60653066, 1.        , 1.        , 1.        ],\n",
       "        [0.60653066, 1.        , 0.13533528, 1.        , 0.13533528,\n",
       "         1.        , 0.011109  , 0.13533528, 0.13533528, 0.13533528],\n",
       "        [0.13533528, 0.011109  , 0.60653066, 0.011109  , 0.60653066,\n",
       "         0.011109  , 1.        , 0.60653066, 0.60653066, 0.60653066],\n",
       "        [0.60653066, 0.13533528, 1.        , 0.13533528, 1.        ,\n",
       "         0.13533528, 0.60653066, 1.        , 1.        , 1.        ],\n",
       "        [0.60653066, 0.13533528, 1.        , 0.13533528, 1.        ,\n",
       "         0.13533528, 0.60653066, 1.        , 1.        , 1.        ],\n",
       "        [0.60653066, 0.13533528, 1.        , 0.13533528, 1.        ,\n",
       "         0.13533528, 0.60653066, 1.        , 1.        , 1.        ]])"
      ]
     },
     "execution_count": 88,
     "metadata": {},
     "output_type": "execute_result"
    }
   ],
   "source": [
    "Mg2 = np.exp(-D2/sigma2_square2/2)\n",
    "Mg2"
   ]
  },
  {
   "cell_type": "code",
   "execution_count": 89,
   "metadata": {},
   "outputs": [
    {
     "data": {
      "text/plain": [
       "array([[ 0.9, -0.1, -0.1, -0.1, -0.1, -0.1, -0.1, -0.1, -0.1, -0.1],\n",
       "       [-0.1,  0.9, -0.1, -0.1, -0.1, -0.1, -0.1, -0.1, -0.1, -0.1],\n",
       "       [-0.1, -0.1,  0.9, -0.1, -0.1, -0.1, -0.1, -0.1, -0.1, -0.1],\n",
       "       [-0.1, -0.1, -0.1,  0.9, -0.1, -0.1, -0.1, -0.1, -0.1, -0.1],\n",
       "       [-0.1, -0.1, -0.1, -0.1,  0.9, -0.1, -0.1, -0.1, -0.1, -0.1],\n",
       "       [-0.1, -0.1, -0.1, -0.1, -0.1,  0.9, -0.1, -0.1, -0.1, -0.1],\n",
       "       [-0.1, -0.1, -0.1, -0.1, -0.1, -0.1,  0.9, -0.1, -0.1, -0.1],\n",
       "       [-0.1, -0.1, -0.1, -0.1, -0.1, -0.1, -0.1,  0.9, -0.1, -0.1],\n",
       "       [-0.1, -0.1, -0.1, -0.1, -0.1, -0.1, -0.1, -0.1,  0.9, -0.1],\n",
       "       [-0.1, -0.1, -0.1, -0.1, -0.1, -0.1, -0.1, -0.1, -0.1,  0.9]])"
      ]
     },
     "execution_count": 89,
     "metadata": {},
     "output_type": "execute_result"
    }
   ],
   "source": [
    "H = np.eye(T)-1/T*np.ones([T,T])\n",
    "H"
   ]
  },
  {
   "cell_type": "code",
   "execution_count": 90,
   "metadata": {},
   "outputs": [],
   "source": [
    "Mg = np.matmul(np.matmul(H, Mg), H)\n",
    "Mg2 = np.matmul(np.matmul(H, Mg2), H)"
   ]
  },
  {
   "cell_type": "code",
   "execution_count": 98,
   "metadata": {},
   "outputs": [],
   "source": [
    "Mg2 = np.exp(-D2/sigma2_square2/2)\n",
    "Mg2 = np.matmul(np.matmul(H, Mg2), H)"
   ]
  },
  {
   "cell_type": "code",
   "execution_count": 99,
   "metadata": {},
   "outputs": [
    {
     "data": {
      "text/plain": [
       "matrix([[ 0.36415569,  0.1400128 , -0.09246231,  0.1400128 , -0.09246231,\n",
       "          0.1400128 , -0.32188253, -0.09246231, -0.09246231, -0.09246231],\n",
       "        [ 0.1400128 ,  0.70280859, -0.39433124,  0.70280859, -0.39433124,\n",
       "          0.70280859, -0.27678237, -0.39433124, -0.39433124, -0.39433124],\n",
       "        [-0.09246231, -0.39433124,  0.23785837, -0.39433124,  0.23785837,\n",
       "         -0.39433124,  0.08616419,  0.23785837,  0.23785837,  0.23785837],\n",
       "        [ 0.1400128 ,  0.70280859, -0.39433124,  0.70280859, -0.39433124,\n",
       "          0.70280859, -0.27678237, -0.39433124, -0.39433124, -0.39433124],\n",
       "        [-0.09246231, -0.39433124,  0.23785837, -0.39433124,  0.23785837,\n",
       "         -0.39433124,  0.08616419,  0.23785837,  0.23785837,  0.23785837],\n",
       "        [ 0.1400128 ,  0.70280859, -0.39433124,  0.70280859, -0.39433124,\n",
       "          0.70280859, -0.27678237, -0.39433124, -0.39433124, -0.39433124],\n",
       "        [-0.32188253, -0.27678237,  0.08616419, -0.27678237,  0.08616419,\n",
       "         -0.27678237,  0.72140869,  0.08616419,  0.08616419,  0.08616419],\n",
       "        [-0.09246231, -0.39433124,  0.23785837, -0.39433124,  0.23785837,\n",
       "         -0.39433124,  0.08616419,  0.23785837,  0.23785837,  0.23785837],\n",
       "        [-0.09246231, -0.39433124,  0.23785837, -0.39433124,  0.23785837,\n",
       "         -0.39433124,  0.08616419,  0.23785837,  0.23785837,  0.23785837],\n",
       "        [-0.09246231, -0.39433124,  0.23785837, -0.39433124,  0.23785837,\n",
       "         -0.39433124,  0.08616419,  0.23785837,  0.23785837,  0.23785837]])"
      ]
     },
     "execution_count": 99,
     "metadata": {},
     "output_type": "execute_result"
    }
   ],
   "source": [
    "Mg2"
   ]
  },
  {
   "cell_type": "code",
   "execution_count": 97,
   "metadata": {},
   "outputs": [
    {
     "data": {
      "text/plain": [
       "array([[ 0.9, -0.1, -0.1, -0.1, -0.1, -0.1, -0.1, -0.1, -0.1, -0.1],\n",
       "       [-0.1,  0.9, -0.1, -0.1, -0.1, -0.1, -0.1, -0.1, -0.1, -0.1],\n",
       "       [-0.1, -0.1,  0.9, -0.1, -0.1, -0.1, -0.1, -0.1, -0.1, -0.1],\n",
       "       [-0.1, -0.1, -0.1,  0.9, -0.1, -0.1, -0.1, -0.1, -0.1, -0.1],\n",
       "       [-0.1, -0.1, -0.1, -0.1,  0.9, -0.1, -0.1, -0.1, -0.1, -0.1],\n",
       "       [-0.1, -0.1, -0.1, -0.1, -0.1,  0.9, -0.1, -0.1, -0.1, -0.1],\n",
       "       [-0.1, -0.1, -0.1, -0.1, -0.1, -0.1,  0.9, -0.1, -0.1, -0.1],\n",
       "       [-0.1, -0.1, -0.1, -0.1, -0.1, -0.1, -0.1,  0.9, -0.1, -0.1],\n",
       "       [-0.1, -0.1, -0.1, -0.1, -0.1, -0.1, -0.1, -0.1,  0.9, -0.1],\n",
       "       [-0.1, -0.1, -0.1, -0.1, -0.1, -0.1, -0.1, -0.1, -0.1,  0.9]])"
      ]
     },
     "execution_count": 97,
     "metadata": {},
     "output_type": "execute_result"
    }
   ],
   "source": [
    "H"
   ]
  },
  {
   "cell_type": "code",
   "execution_count": 104,
   "metadata": {},
   "outputs": [
    {
     "data": {
      "text/plain": [
       "0.12122052476301054"
      ]
     },
     "execution_count": 104,
     "metadata": {},
     "output_type": "execute_result"
    }
   ],
   "source": [
    "1/T**2*np.sum(np.sum(np.multiply(Mg, Mg2)))"
   ]
  },
  {
   "cell_type": "code",
   "execution_count": 103,
   "metadata": {},
   "outputs": [
    {
     "data": {
      "text/plain": [
       "12.122052476301054"
      ]
     },
     "execution_count": 103,
     "metadata": {},
     "output_type": "execute_result"
    }
   ],
   "source": [
    "np.sum(np.sum(np.multiply(Mg, Mg2)))"
   ]
  },
  {
   "cell_type": "code",
   "execution_count": null,
   "metadata": {},
   "outputs": [],
   "source": []
  }
 ],
 "metadata": {
  "kernelspec": {
   "display_name": "Python 3.9.12 ('halo')",
   "language": "python",
   "name": "python3"
  },
  "language_info": {
   "codemirror_mode": {
    "name": "ipython",
    "version": 3
   },
   "file_extension": ".py",
   "mimetype": "text/x-python",
   "name": "python",
   "nbconvert_exporter": "python",
   "pygments_lexer": "ipython3",
   "version": "3.9.12"
  },
  "orig_nbformat": 4,
  "vscode": {
   "interpreter": {
    "hash": "b8353fad07efb87fed686271f8c766cb24580e47ae7007e28a3b0368661d8351"
   }
  }
 },
 "nbformat": 4,
 "nbformat_minor": 2
}
