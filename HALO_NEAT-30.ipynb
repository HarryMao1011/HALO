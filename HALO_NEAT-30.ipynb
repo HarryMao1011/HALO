{
 "cells": [
  {
   "cell_type": "code",
   "execution_count": null,
   "metadata": {},
   "outputs": [],
   "source": [
    "from typing import Dict, Iterable, Optional\n",
    "import numpy as np\n",
    "import torch\n",
    "from torch.distributions import Normal, Poisson\n",
    "from torch.distributions import kl_divergence as kld\n",
    "from torch import tensor\n",
    "from complementary_models import HALOMASKVIR as HALOVI\n",
    "from complementary_models import HALOMASKVAE as HALOVAE\n",
    "import scanpy as sc\n",
    "import scvi\n",
    "import pandas as pd\n",
    "from complementary_models import torch_infer_nonsta_dir\n",
    "import matplotlib.pyplot as plt\n",
    "import seaborn as sns"
   ]
  },
  {
   "cell_type": "code",
   "execution_count": null,
   "metadata": {},
   "outputs": [],
   "source": [
    "adata_multi = sc.read_10x_mtx('../NEAT_Seq/outputs/RNA_ATAC/',gex_only=False)\n",
    "metadata = pd.read_csv('../NEAT_Seq/metadata.csv',index_col = 0)"
   ]
  },
  {
   "cell_type": "code",
   "execution_count": null,
   "metadata": {},
   "outputs": [],
   "source": [
    "adata_multi.obs = pd.merge(adata_multi.obs, metadata, left_index=True, right_index=True)"
   ]
  },
  {
   "cell_type": "code",
   "execution_count": null,
   "metadata": {
    "scrolled": true
   },
   "outputs": [],
   "source": [
    "adata_multi"
   ]
  },
  {
   "cell_type": "code",
   "execution_count": null,
   "metadata": {},
   "outputs": [],
   "source": [
    "int(adata_multi.shape[0] * 0.01)"
   ]
  },
  {
   "cell_type": "code",
   "execution_count": null,
   "metadata": {},
   "outputs": [],
   "source": [
    "sc.pp.filter_genes(adata_multi, min_cells=10)"
   ]
  },
  {
   "cell_type": "code",
   "execution_count": null,
   "metadata": {},
   "outputs": [],
   "source": [
    "adata_multi"
   ]
  },
  {
   "cell_type": "code",
   "execution_count": null,
   "metadata": {},
   "outputs": [],
   "source": [
    "adata_multi.obs[\"batch_id\"] = 1\n",
    "adata_multi.var[\"modality\"] =adata_multi.var[\"feature_types\"]"
   ]
  },
  {
   "cell_type": "code",
   "execution_count": null,
   "metadata": {},
   "outputs": [],
   "source": [
    "adata_multi.var[\"modality\"].value_counts()"
   ]
  },
  {
   "cell_type": "code",
   "execution_count": null,
   "metadata": {},
   "outputs": [],
   "source": [
    "adata_mvi = scvi.data.organize_multiome_anndatas(adata_multi)\n",
    "adata_mvi "
   ]
  },
  {
   "cell_type": "code",
   "execution_count": null,
   "metadata": {},
   "outputs": [],
   "source": [
    "adata_mvi.obs['Clusters'] = adata_mvi.obs['Clusters'].astype(str).astype('category')"
   ]
  },
  {
   "cell_type": "code",
   "execution_count": null,
   "metadata": {},
   "outputs": [],
   "source": [
    "adata_mvi.obs['Clusters'].value_counts()"
   ]
  },
  {
   "cell_type": "code",
   "execution_count": null,
   "metadata": {},
   "outputs": [],
   "source": [
    "old_to_new = dict(\n",
    "    C1='Act.',\n",
    "    C2='Treg',\n",
    "    C3='Th17',\n",
    "    C4='Tcm',\n",
    "    C5='Th2',\n",
    "    C6='Th1',\n",
    "    C7='Uncom.'\n",
    ")\n",
    "adata_mvi.obs['new_clusters'] = (\n",
    "    adata_mvi.obs['Clusters']\n",
    "    .map(old_to_new)\n",
    "    .astype('category')\n",
    ")"
   ]
  },
  {
   "cell_type": "code",
   "execution_count": null,
   "metadata": {},
   "outputs": [],
   "source": [
    "del adata_multi"
   ]
  },
  {
   "cell_type": "code",
   "execution_count": null,
   "metadata": {},
   "outputs": [],
   "source": [
    "Cluster_color = {\n",
    "                \"Act.\": \"#D51F26\",\n",
    "                \"Treg\": \"#272E6A\",\n",
    "                \"Th17\": \"#208A42\",\n",
    "                \"Tcm\": \"#89288F\",\n",
    "                \"Th2\": \"#F47D2B\",\n",
    "                \"Th1\": \"#FEE500\",\n",
    "                \"Uncom.\": \"#8A9FD1\"    \n",
    "                }"
   ]
  },
  {
   "cell_type": "code",
   "execution_count": null,
   "metadata": {},
   "outputs": [],
   "source": [
    "adata_mvi.obs['GATA3-norm'] = (adata_mvi.obs['GATA3-norm'] - adata_mvi.obs['GATA3-norm'].min()) / (adata_mvi.obs['GATA3-norm'].max() - adata_mvi.obs['GATA3-norm'].min())"
   ]
  },
  {
   "cell_type": "markdown",
   "metadata": {},
   "source": [
    "# HALO Training"
   ]
  },
  {
   "cell_type": "code",
   "execution_count": null,
   "metadata": {},
   "outputs": [],
   "source": [
    "HALOVI.setup_anndata(adata_mvi, batch_key=\"modality\", time_key='GATA3-norm')\n",
    "model = HALOVI(\n",
    "    adata_mvi,\n",
    "    n_genes=(adata_mvi.var['feature_types']=='Gene Expression').sum(),\n",
    "    n_regions=(adata_mvi.var['feature_types']=='Peaks').sum(),\n",
    "    n_layers = 2,\n",
    "    n_latent = 30,\n",
    "    n_dependent=15\n",
    ")"
   ]
  },
  {
   "cell_type": "code",
   "execution_count": null,
   "metadata": {},
   "outputs": [],
   "source": [
    "## train both RNA and ATAC\n",
    "import warnings\n",
    "warnings.filterwarnings(\"ignore\")\n",
    "model.module.set_finetune_params(0)\n",
    "model.module.set_train_params(expr_train=True, acc_train=True)\n",
    "model.train(max_epochs=500, batch_size=256)"
   ]
  },
  {
   "cell_type": "code",
   "execution_count": null,
   "metadata": {},
   "outputs": [],
   "source": [
    "model.save(\"../NEAT_Seq/HALO_model_nocausal_10_500_epoch\",overwrite=True)"
   ]
  },
  {
   "cell_type": "code",
   "execution_count": null,
   "metadata": {},
   "outputs": [],
   "source": [
    "latent_expr, latent_acc,latent_atac_dep, latent_expr_dep, latent_atac_indep, latent_expr_indep, times  = model.get_latent_representation()"
   ]
  },
  {
   "cell_type": "code",
   "execution_count": null,
   "metadata": {
    "scrolled": true
   },
   "outputs": [],
   "source": [
    "adata_mvi.obsm[\"latent\"] = latent_acc\n",
    "sc.pp.neighbors(adata_mvi, use_rep=\"latent\", n_neighbors=25)\n",
    "\n",
    "sc.tl.umap(adata_mvi,min_dist =0.5)\n",
    "# sc.tl.louvain(adata_mvi)\n",
    "\n",
    "# %matplotlib inline\n",
    "# sc.pl.umap(adatssa_mvi,color='GATA3-norm',title = '$Z^{A}$',\n",
    "#        vmin = 'p2', vmax= 'p98')\n",
    "# plt.show()\n",
    "\n",
    "%matplotlib inline\n",
    "sc.pl.umap(adata_mvi,color='new_clusters',title = '$Z^{A}$',\n",
    "                palette=Cluster_color\n",
    "             )\n",
    "plt.show()"
   ]
  },
  {
   "cell_type": "code",
   "execution_count": null,
   "metadata": {},
   "outputs": [],
   "source": [
    "adata_mvi.obsm[\"latent\"] = latent_expr\n",
    "sc.pp.neighbors(adata_mvi, use_rep=\"latent\", n_neighbors=25)\n",
    "\n",
    "sc.tl.umap(adata_mvi,min_dist =0.5)\n",
    "\n",
    "# %matplotlib inline\n",
    "# sc.pl.umap(adata_mvi,color='GATA3-norm',title = '$Z^{R}$',\n",
    "#        vmin = 'p2', vmax= 'p98')\n",
    "# plt.show()\n",
    "\n",
    "%matplotlib inline\n",
    "sc.pl.umap(adata_mvi,color='new_clusters',title = '$Z^{R}$',\n",
    "                palette=Cluster_color\n",
    "             )\n",
    "plt.show()"
   ]
  },
  {
   "cell_type": "code",
   "execution_count": null,
   "metadata": {
    "scrolled": true
   },
   "outputs": [],
   "source": [
    "adata_mvi.obsm[\"latent\"] = np.concatenate((latent_expr, latent_acc), axis=1)\n",
    "sc.pp.neighbors(adata_mvi, use_rep=\"latent\", n_neighbors=25)\n",
    "\n",
    "sc.tl.umap(adata_mvi,min_dist =0.5)\n",
    "\n",
    "%matplotlib inline\n",
    "sc.pl.umap(adata_mvi,color='GATA3-norm',title = '$Z^{R & A}$',\n",
    "       vmin = 'p2', vmax= 'p98')\n",
    "plt.show()\n",
    "\n",
    "%matplotlib inline\n",
    "sc.pl.umap(adata_mvi,color='new_clusters',title = '$Z^{R & A}$',\n",
    "                palette=Cluster_color\n",
    "             )\n",
    "plt.show()"
   ]
  },
  {
   "cell_type": "code",
   "execution_count": null,
   "metadata": {},
   "outputs": [],
   "source": [
    "model.train(max_epochs=500, batch_size=256)"
   ]
  },
  {
   "cell_type": "code",
   "execution_count": null,
   "metadata": {},
   "outputs": [],
   "source": [
    "model.save(\"../NEAT_Seq/HALO_model_nocausal_10_1000_epoch\",overwrite=True)"
   ]
  },
  {
   "cell_type": "code",
   "execution_count": null,
   "metadata": {},
   "outputs": [],
   "source": [
    "latent_expr, latent_acc,latent_atac_dep, latent_expr_dep, latent_atac_indep, latent_expr_indep, times  = model.get_latent_representation()\n",
    "\n",
    "adata_mvi.obsm[\"latent\"] = latent_acc\n",
    "sc.pp.neighbors(adata_mvi, use_rep=\"latent\", n_neighbors=25)\n",
    "\n",
    "sc.tl.umap(adata_mvi,min_dist =0.5)\n",
    "\n",
    "%matplotlib inline\n",
    "sc.pl.umap(adata_mvi,color='new_clusters',title = '$Z^{A}$',\n",
    "                palette=Cluster_color\n",
    "             )\n",
    "plt.show()\n",
    "\n",
    "\n",
    "adata_mvi.obsm[\"latent\"] = latent_expr\n",
    "sc.pp.neighbors(adata_mvi, use_rep=\"latent\", n_neighbors=25)\n",
    "\n",
    "sc.tl.umap(adata_mvi,min_dist =0.5)\n",
    "\n",
    "\n",
    "%matplotlib inline\n",
    "sc.pl.umap(adata_mvi,color='new_clusters',title = '$Z^{R}$',\n",
    "                palette=Cluster_color\n",
    "             )\n",
    "plt.show()"
   ]
  },
  {
   "cell_type": "code",
   "execution_count": null,
   "metadata": {},
   "outputs": [],
   "source": [
    "model.train(max_epochs=500, batch_size=256)"
   ]
  },
  {
   "cell_type": "code",
   "execution_count": null,
   "metadata": {},
   "outputs": [],
   "source": [
    "model.save(\"../NEAT_Seq/HALO_model_nocausal_10_1500_epoch\",overwrite=True)"
   ]
  },
  {
   "cell_type": "code",
   "execution_count": null,
   "metadata": {},
   "outputs": [],
   "source": [
    "latent_expr, latent_acc,latent_atac_dep, latent_expr_dep, latent_atac_indep, latent_expr_indep, times  = model.get_latent_representation()\n",
    "\n",
    "adata_mvi.obsm[\"latent\"] = latent_acc\n",
    "sc.pp.neighbors(adata_mvi, use_rep=\"latent\", n_neighbors=25)\n",
    "\n",
    "sc.tl.umap(adata_mvi,min_dist =0.5)\n",
    "\n",
    "%matplotlib inline\n",
    "sc.pl.umap(adata_mvi,color='new_clusters',title = '$Z^{A}$',\n",
    "                palette=Cluster_color\n",
    "             )\n",
    "plt.show()\n",
    "\n",
    "\n",
    "adata_mvi.obsm[\"latent\"] = latent_expr\n",
    "sc.pp.neighbors(adata_mvi, use_rep=\"latent\", n_neighbors=25)\n",
    "\n",
    "sc.tl.umap(adata_mvi,min_dist =0.5)\n",
    "\n",
    "\n",
    "%matplotlib inline\n",
    "sc.pl.umap(adata_mvi,color='new_clusters',title = '$Z^{R}$',\n",
    "                palette=Cluster_color\n",
    "             )\n",
    "plt.show()"
   ]
  },
  {
   "cell_type": "code",
   "execution_count": null,
   "metadata": {},
   "outputs": [],
   "source": [
    "model.train(max_epochs=500, batch_size=256)"
   ]
  },
  {
   "cell_type": "code",
   "execution_count": null,
   "metadata": {},
   "outputs": [],
   "source": [
    "model.save(\"../NEAT_Seq/HALO_model_nocausal_10_2000_epoch\",overwrite=True)"
   ]
  },
  {
   "cell_type": "code",
   "execution_count": null,
   "metadata": {},
   "outputs": [],
   "source": [
    "latent_expr, latent_acc,latent_atac_dep, latent_expr_dep, latent_atac_indep, latent_expr_indep, times  = model.get_latent_representation()\n",
    "\n",
    "adata_mvi.obsm[\"latent\"] = latent_acc\n",
    "sc.pp.neighbors(adata_mvi, use_rep=\"latent\", n_neighbors=25)\n",
    "\n",
    "sc.tl.umap(adata_mvi,min_dist =0.5)\n",
    "\n",
    "%matplotlib inline\n",
    "sc.pl.umap(adata_mvi,color='new_clusters',title = '$Z^{A}$',\n",
    "                palette=Cluster_color\n",
    "             )\n",
    "plt.show()\n",
    "\n",
    "\n",
    "adata_mvi.obsm[\"latent\"] = latent_expr\n",
    "sc.pp.neighbors(adata_mvi, use_rep=\"latent\", n_neighbors=25)\n",
    "\n",
    "sc.tl.umap(adata_mvi,min_dist =0.5)\n",
    "\n",
    "\n",
    "%matplotlib inline\n",
    "sc.pl.umap(adata_mvi,color='new_clusters',title = '$Z^{R}$',\n",
    "                palette=Cluster_color\n",
    "             )\n",
    "plt.show()"
   ]
  },
  {
   "cell_type": "markdown",
   "metadata": {},
   "source": [
    "# causal constrain"
   ]
  },
  {
   "cell_type": "code",
   "execution_count": null,
   "metadata": {},
   "outputs": [],
   "source": [
    "model = model.load(\"../NEAT_Seq/HALO_model_nocausal_10_1000_epoch\",adata_mvi)"
   ]
  },
  {
   "cell_type": "code",
   "execution_count": null,
   "metadata": {},
   "outputs": [],
   "source": [
    "adata_mvi"
   ]
  },
  {
   "cell_type": "code",
   "execution_count": null,
   "metadata": {},
   "outputs": [],
   "source": [
    "latent_expr, latent_acc,latent_atac_dep, latent_expr_dep, latent_atac_indep, latent_expr_indep, times  = model.get_latent_representation()\n",
    "\n",
    "adata_mvi.obsm[\"latent\"] = latent_expr\n",
    "sc.pp.neighbors(adata_mvi, use_rep=\"latent\", n_neighbors=25)\n",
    "\n",
    "sc.tl.umap(adata_mvi,min_dist =0.5)\n",
    "\n",
    "%matplotlib inline\n",
    "sc.pl.umap(adata_mvi,color='GATA3-norm', vmin = 'p2', vmax= 'p98')\n",
    "plt.show()\n",
    "\n",
    "\n",
    "%matplotlib inline\n",
    "sc.pl.umap(adata_mvi,color='new_clusters',palette=Cluster_color)\n",
    "plt.show()\n",
    "\n",
    "\n",
    "adata_mvi.obsm[\"latent\"] = latent_acc\n",
    "sc.pp.neighbors(adata_mvi, use_rep=\"latent\", n_neighbors=25)\n",
    "\n",
    "sc.tl.umap(adata_mvi,min_dist =0.5)\n",
    "\n",
    "%matplotlib inline\n",
    "sc.pl.umap(adata_mvi,color='GATA3-norm', vmin = 'p2', vmax= 'p98')\n",
    "plt.show()\n",
    "\n",
    "\n",
    "%matplotlib inline\n",
    "sc.pl.umap(adata_mvi,color='new_clusters',palette=Cluster_color)\n",
    "plt.show()"
   ]
  },
  {
   "cell_type": "code",
   "execution_count": null,
   "metadata": {},
   "outputs": [],
   "source": [
    "model.module.alpha = 0.05\n",
    "model.module.beta_2 = 1e8\n",
    "model.module.beta_3 = 1e8\n",
    "model.module.beta_1 = 1e7\n",
    "print(model.module.alpha)"
   ]
  },
  {
   "cell_type": "code",
   "execution_count": null,
   "metadata": {},
   "outputs": [],
   "source": [
    "model.module.set_finetune_params(2)\n",
    "model.module.set_train_params(expr_train=True, acc_train=True)\n",
    "model.plan_kwargs = {\"n_epochs_kl_warmup\":300}\n",
    "model.train(max_epochs=300, batch_size=256)"
   ]
  },
  {
   "cell_type": "code",
   "execution_count": null,
   "metadata": {},
   "outputs": [],
   "source": [
    "latent_expr, latent_acc,latent_atac_dep, latent_expr_dep, latent_atac_indep, latent_expr_indep, times  = model.get_latent_representation()"
   ]
  },
  {
   "cell_type": "code",
   "execution_count": null,
   "metadata": {},
   "outputs": [],
   "source": [
    "adata_mvi.obsm[\"latent\"] = latent_acc\n",
    "sc.pp.neighbors(adata_mvi, use_rep=\"latent\", n_neighbors=25)\n",
    "\n",
    "sc.tl.umap(adata_mvi,min_dist =0.5)\n",
    "# sc.tl.louvain(adata_mvi)\n",
    "\n",
    "%matplotlib inline\n",
    "sc.pl.umap(adata_mvi,color='GATA3-norm',title = '$Z^{A}$',\n",
    "       vmin = 'p2', vmax= 'p98')\n",
    "plt.show()\n",
    "\n",
    "%matplotlib inline\n",
    "sc.pl.umap(adata_mvi,color='new_clusters',title = '$Z^{A}$',\n",
    "                palette=Cluster_color\n",
    "             )\n",
    "plt.show()"
   ]
  },
  {
   "cell_type": "code",
   "execution_count": null,
   "metadata": {},
   "outputs": [],
   "source": [
    "adata_mvi.obsm[\"latent\"] = latent_expr\n",
    "sc.pp.neighbors(adata_mvi, use_rep=\"latent\", n_neighbors=25)\n",
    "\n",
    "sc.tl.umap(adata_mvi,min_dist =0.5)\n",
    "\n",
    "%matplotlib inline\n",
    "sc.pl.umap(adata_mvi,color='GATA3-norm',title = '$Z^{R}$',\n",
    "       vmin = 'p2', vmax= 'p98')\n",
    "plt.show()\n",
    "\n",
    "%matplotlib inline\n",
    "sc.pl.umap(adata_mvi,color='new_clusters',title = '$Z^{R}$',\n",
    "                palette=Cluster_color\n",
    "             )\n",
    "plt.show()"
   ]
  },
  {
   "cell_type": "code",
   "execution_count": null,
   "metadata": {},
   "outputs": [],
   "source": [
    "adata_mvi.obsm[\"latent\"] = np.concatenate((latent_expr, latent_acc), axis=1)\n",
    "sc.pp.neighbors(adata_mvi, use_rep=\"latent\", n_neighbors=25)\n",
    "\n",
    "sc.tl.umap(adata_mvi,min_dist =0.5)\n",
    "\n",
    "%matplotlib inline\n",
    "sc.pl.umap(adata_mvi,color='GATA3-norm',title = '$Z^{R & A}$',\n",
    "       vmin = 'p2', vmax= 'p98')\n",
    "plt.show()\n",
    "\n",
    "%matplotlib inline\n",
    "sc.pl.umap(adata_mvi,color='new_clusters',title = '$Z^{R & A}$',\n",
    "                palette=Cluster_color\n",
    "             )\n",
    "plt.show()"
   ]
  },
  {
   "cell_type": "code",
   "execution_count": null,
   "metadata": {},
   "outputs": [],
   "source": []
  },
  {
   "cell_type": "code",
   "execution_count": null,
   "metadata": {},
   "outputs": [],
   "source": []
  },
  {
   "cell_type": "code",
   "execution_count": null,
   "metadata": {},
   "outputs": [],
   "source": []
  },
  {
   "cell_type": "code",
   "execution_count": null,
   "metadata": {},
   "outputs": [],
   "source": []
  },
  {
   "cell_type": "code",
   "execution_count": null,
   "metadata": {},
   "outputs": [],
   "source": []
  },
  {
   "cell_type": "code",
   "execution_count": null,
   "metadata": {},
   "outputs": [],
   "source": []
  },
  {
   "cell_type": "code",
   "execution_count": null,
   "metadata": {},
   "outputs": [],
   "source": []
  },
  {
   "cell_type": "code",
   "execution_count": null,
   "metadata": {},
   "outputs": [],
   "source": []
  },
  {
   "cell_type": "code",
   "execution_count": null,
   "metadata": {},
   "outputs": [],
   "source": [
    "model.module.alpha = 0.05\n",
    "model.module.beta_2 = 1e8\n",
    "model.module.beta_3 = 1e8\n",
    "model.module.beta_1 = 1e7\n",
    "print(model.module.alpha)"
   ]
  },
  {
   "cell_type": "code",
   "execution_count": null,
   "metadata": {},
   "outputs": [],
   "source": [
    "model.module.set_finetune_params(2)\n",
    "model.module.set_train_params(expr_train=True, acc_train=True)\n",
    "model.plan_kwargs = {\"n_epochs_kl_warmup\":300}\n",
    "model.train(max_epochs=500, batch_size=256)"
   ]
  },
  {
   "cell_type": "code",
   "execution_count": null,
   "metadata": {},
   "outputs": [],
   "source": [
    "model.save(\"../NEAT_Seq/HALO_model_causal_10_alpha_0.1_500_epoch\",overwrite=True)"
   ]
  },
  {
   "cell_type": "code",
   "execution_count": null,
   "metadata": {},
   "outputs": [],
   "source": [
    "latent_expr, latent_acc,latent_atac_dep, latent_expr_dep, latent_atac_indep, latent_expr_indep, times  = model.get_latent_representation()"
   ]
  },
  {
   "cell_type": "code",
   "execution_count": null,
   "metadata": {},
   "outputs": [],
   "source": [
    "adata_mvi.obsm[\"latent\"] = latent_acc\n",
    "sc.pp.neighbors(adata_mvi, use_rep=\"latent\", n_neighbors=25)\n",
    "\n",
    "sc.tl.umap(adata_mvi,min_dist =0.5)\n",
    "# sc.tl.louvain(adata_mvi)\n",
    "\n",
    "%matplotlib inline\n",
    "sc.pl.umap(adata_mvi,color='GATA3-norm',title = '$Z^{A}$',\n",
    "       vmin = 'p2', vmax= 'p98')\n",
    "plt.show()\n",
    "\n",
    "%matplotlib inline\n",
    "sc.pl.umap(adata_mvi,color='new_clusters',title = '$Z^{A}$',\n",
    "                palette=Cluster_color\n",
    "             )\n",
    "plt.show()"
   ]
  },
  {
   "cell_type": "code",
   "execution_count": null,
   "metadata": {},
   "outputs": [],
   "source": [
    "adata_mvi.obsm[\"latent\"] = latent_expr\n",
    "sc.pp.neighbors(adata_mvi, use_rep=\"latent\", n_neighbors=25)\n",
    "\n",
    "sc.tl.umap(adata_mvi,min_dist =0.5)\n",
    "\n",
    "%matplotlib inline\n",
    "sc.pl.umap(adata_mvi,color='GATA3-norm',title = '$Z^{R}$',\n",
    "       vmin = 'p2', vmax= 'p98')\n",
    "plt.show()\n",
    "\n",
    "%matplotlib inline\n",
    "sc.pl.umap(adata_mvi,color='new_clusters',title = '$Z^{R}$',\n",
    "                palette=Cluster_color\n",
    "             )\n",
    "plt.show()"
   ]
  },
  {
   "cell_type": "code",
   "execution_count": null,
   "metadata": {},
   "outputs": [],
   "source": [
    "adata_mvi.obsm[\"latent\"] = np.concatenate((latent_expr, latent_acc), axis=1)\n",
    "sc.pp.neighbors(adata_mvi, use_rep=\"latent\", n_neighbors=25)\n",
    "\n",
    "sc.tl.umap(adata_mvi,min_dist =0.5)\n",
    "\n",
    "%matplotlib inline\n",
    "sc.pl.umap(adata_mvi,color='GATA3-norm',title = '$Z^{R & A}$',\n",
    "       vmin = 'p2', vmax= 'p98')\n",
    "plt.show()\n",
    "\n",
    "%matplotlib inline\n",
    "sc.pl.umap(adata_mvi,color='new_clusters',title = '$Z^{R & A}$',\n",
    "                palette=Cluster_color\n",
    "             )\n",
    "plt.show()"
   ]
  },
  {
   "cell_type": "code",
   "execution_count": null,
   "metadata": {},
   "outputs": [],
   "source": [
    "model.save(\"../NEAT_Seq/HALO_model_causal_10_alpha_0.1_1000_epoch\",overwrite=True)"
   ]
  },
  {
   "cell_type": "code",
   "execution_count": null,
   "metadata": {},
   "outputs": [],
   "source": []
  },
  {
   "cell_type": "code",
   "execution_count": null,
   "metadata": {},
   "outputs": [],
   "source": []
  },
  {
   "cell_type": "code",
   "execution_count": null,
   "metadata": {},
   "outputs": [],
   "source": []
  },
  {
   "cell_type": "code",
   "execution_count": null,
   "metadata": {},
   "outputs": [],
   "source": []
  },
  {
   "cell_type": "code",
   "execution_count": null,
   "metadata": {},
   "outputs": [],
   "source": [
    "model.save(\"../BRCA-CAF/S1_model_hair_causal-alpha_0.1\",overwrite=True)"
   ]
  },
  {
   "cell_type": "code",
   "execution_count": null,
   "metadata": {},
   "outputs": [],
   "source": [
    "latent_expr, latent_acc,latent_atac_dep, latent_expr_dep, latent_atac_indep, latent_expr_indep, times  = model.get_latent_representation()"
   ]
  },
  {
   "cell_type": "code",
   "execution_count": null,
   "metadata": {},
   "outputs": [],
   "source": [
    "adata_mvi.obsm[\"latent\"] = latent_acc\n",
    "sc.pp.neighbors(adata_mvi, use_rep=\"latent\", n_neighbors=25)\n",
    "\n",
    "sc.tl.umap(adata_mvi,min_dist =0.5)\n",
    "# sc.tl.louvain(adata_mvi)\n",
    "\n",
    "%matplotlib inline\n",
    "sc.pl.umap(adata_mvi,color='GATA3-norm',title = '$Z^{A}$',\n",
    "       vmin = 'p2', vmax= 'p98')\n",
    "plt.show()\n",
    "\n",
    "%matplotlib inline\n",
    "sc.pl.umap(adata_mvi,color='new_clusters',title = '$Z^{A}$',\n",
    "                palette=Cluster_color\n",
    "             )\n",
    "plt.show()"
   ]
  },
  {
   "cell_type": "code",
   "execution_count": null,
   "metadata": {},
   "outputs": [],
   "source": [
    "adata_mvi.obsm[\"latent\"] = latent_expr\n",
    "sc.pp.neighbors(adata_mvi, use_rep=\"latent\", n_neighbors=25)\n",
    "\n",
    "sc.tl.umap(adata_mvi,min_dist =0.5)\n",
    "\n",
    "%matplotlib inline\n",
    "sc.pl.umap(adata_mvi,color='GATA3-norm',title = '$Z^{R}$',\n",
    "       vmin = 'p2', vmax= 'p98')\n",
    "plt.show()\n",
    "\n",
    "%matplotlib inline\n",
    "sc.pl.umap(adata_mvi,color='new_clusters',title = '$Z^{R}$',\n",
    "                palette=Cluster_color\n",
    "             )\n",
    "plt.show()"
   ]
  },
  {
   "cell_type": "code",
   "execution_count": null,
   "metadata": {},
   "outputs": [],
   "source": [
    "adata_mvi.obsm[\"latent\"] = np.concatenate((latent_expr, latent_acc), axis=1)\n",
    "sc.pp.neighbors(adata_mvi, use_rep=\"latent\", n_neighbors=25)\n",
    "\n",
    "sc.tl.umap(adata_mvi,min_dist =0.5)\n",
    "\n",
    "%matplotlib inline\n",
    "sc.pl.umap(adata_mvi,color='GATA3-norm',title = '$Z^{R & A}$',\n",
    "       vmin = 'p2', vmax= 'p98')\n",
    "plt.show()\n",
    "\n",
    "%matplotlib inline\n",
    "sc.pl.umap(adata_mvi,color='new_clusters',title = '$Z^{R & A}$',\n",
    "                palette=Cluster_color\n",
    "             )\n",
    "plt.show()"
   ]
  },
  {
   "cell_type": "code",
   "execution_count": null,
   "metadata": {},
   "outputs": [],
   "source": []
  }
 ],
 "metadata": {
  "kernelspec": {
   "display_name": "Python 3.9.12 ('halo')",
   "language": "python",
   "name": "python3"
  },
  "language_info": {
   "codemirror_mode": {
    "name": "ipython",
    "version": 3
   },
   "file_extension": ".py",
   "mimetype": "text/x-python",
   "name": "python",
   "nbconvert_exporter": "python",
   "pygments_lexer": "ipython3",
   "version": "3.9.12"
  },
  "vscode": {
   "interpreter": {
    "hash": "b8353fad07efb87fed686271f8c766cb24580e47ae7007e28a3b0368661d8351"
   }
  }
 },
 "nbformat": 4,
 "nbformat_minor": 5
}
