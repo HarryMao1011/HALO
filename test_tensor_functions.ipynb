{
 "cells": [
  {
   "cell_type": "code",
   "execution_count": 1,
   "metadata": {},
   "outputs": [
    {
     "name": "stderr",
     "output_type": "stream",
     "text": [
      "Global seed set to 0\n"
     ]
    }
   ],
   "source": [
    "from complementary_models import *\n",
    "import numpy as np \n",
    "from complementary_models import infer_nonsta_dir\n",
    "import torch"
   ]
  },
  {
   "cell_type": "code",
   "execution_count": 2,
   "metadata": {},
   "outputs": [],
   "source": [
    "A = np.random.rand(5,5)\n",
    "B = np.random.rand(5,3)\n",
    "C = np.random.rand(5,1)\n"
   ]
  },
  {
   "cell_type": "code",
   "execution_count": 3,
   "metadata": {},
   "outputs": [],
   "source": [
    "AT = torch.tensor(A)\n",
    "BT = torch.tensor(B)\n",
    "CT = torch.tensor(C)\n"
   ]
  },
  {
   "cell_type": "code",
   "execution_count": 60,
   "metadata": {},
   "outputs": [
    {
     "name": "stdout",
     "output_type": "stream",
     "text": [
      "sorted DD:[matrix([[7.18173560e-05, 2.23331022e-03, 1.75216607e-03, 9.86906937e-04,\n",
      "         5.92728282e-04, 3.86995593e-04, 2.34054014e-04, 5.48077455e-04,\n",
      "         3.02627781e-03, 1.84070990e-03]])]\n",
      "sigma2_square 0.000789817609334692\n",
      "D [[0.00000000e+00 7.18173560e-05 2.23331022e-03 9.86906937e-04\n",
      "  2.34054014e-04]\n",
      " [7.18173560e-05 0.00000000e+00 1.75216607e-03 5.92728282e-04\n",
      "  5.48077455e-04]\n",
      " [2.23331022e-03 1.75216607e-03 0.00000000e+00 3.86995593e-04\n",
      "  3.02627781e-03]\n",
      " [9.86906937e-04 5.92728282e-04 3.86995593e-04 0.00000000e+00\n",
      "  1.84070990e-03]\n",
      " [2.34054014e-04 5.48077455e-04 3.02627781e-03 1.84070990e-03\n",
      "  0.00000000e+00]]\n",
      "-D/sigma2_square/2 [[-0.         -0.04546452 -1.4138139  -0.62476889 -0.14816966]\n",
      " [-0.04546452 -0.         -1.10922196 -0.37523111 -0.34696457]\n",
      " [-1.4138139  -1.10922196 -0.         -0.24499048 -1.91580802]\n",
      " [-0.62476889 -0.37523111 -0.24499048 -0.         -1.1652753 ]\n",
      " [-0.14816966 -0.34696457 -1.91580802 -1.1652753  -0.        ]]\n",
      "[[1.         0.95555351 0.24321392 0.53538515 0.86228481]\n",
      " [0.95555351 1.         0.32981547 0.68713046 0.70683037]\n",
      " [0.24321392 0.32981547 1.         0.78271199 0.14722283]\n",
      " [0.53538515 0.68713046 0.78271199 1.         0.3118368 ]\n",
      " [0.86228481 0.70683037 0.14722283 0.3118368  1.        ]]\n"
     ]
    }
   ],
   "source": [
    "X = A\n",
    "Y = B\n",
    "c_indx = C\n",
    "\n",
    "\n",
    "width = 0.1\n",
    "T,d = X.shape\n",
    "## normalization\n",
    "X = X - np.matlib.repmat( np.mean(X,0), X.shape[0], 1)\n",
    "X = np.matmul(X, np.diag(1./np.std(X, axis=0, ddof=1)))\n",
    "## normalization\n",
    "Y = Y - np.matlib.repmat( np.mean(Y,0), Y.shape[0], 1)\n",
    "Y = np.matmul(Y, np.diag(1/np.std(Y, axis=0,  ddof=1)))\n",
    "theta = 1/width**2\n",
    "Lambda = 1\n",
    "Wt = 1\n",
    "theta = 1/width**2\n",
    "Kxx, _ = kernel(X,X, [theta,1])\n",
    "Kxx , _ = kernel(X, X, [theta,1])\n",
    "Kyy, _ = kernel(Y, Y, [theta,1])\n",
    "Ktt, _ = kernel(c_indx, c_indx, [1/Wt**2,1])\n",
    "\n",
    "\n",
    "invK = pdinv( np.multiply(Kxx,Ktt) +  Lambda * np.eye(T))\n",
    "\n",
    "Kxx3 = np.linalg.matrix_power(Kxx,3)\n",
    "prod_invK =  np.matmul(np.matmul(invK, Kyy), invK)\n",
    "###now finding Ml\n",
    "Ml = np.matmul(np.matmul(1/T**2*Ktt, np.multiply(Kxx3, prod_invK)), Ktt)\n",
    "# print(Ml)\n",
    "###the square distance\n",
    "D = np.matmul(np.diag(np.diagonal(Ml)),np.ones(Ml.shape)) + np.matmul(np.ones(Ml.shape), np.diag(np.diagonal(Ml))) - 2*Ml\n",
    "# print(D)\n",
    "DD = D[np.where(np.tril(np.ones(D.shape),-1) != 0)]\n",
    "sigma2_square = np.median(np.array(DD))\n",
    "Mg = np.exp(-D/sigma2_square/2)\n",
    "Mg = np.exp(-D/sigma2_square/2)\n",
    "\n",
    "print(\"sorted DD:{}\".format(sorted(DD)))\n",
    "print(\"sigma2_square {}\".format(sigma2_square))\n",
    "print(\"D {}\".format(D))\n",
    "print(\"-D/sigma2_square/2 {}\".format(-D/sigma2_square/2))\n",
    "print(Mg)"
   ]
  },
  {
   "cell_type": "code",
   "execution_count": 61,
   "metadata": {},
   "outputs": [
    {
     "name": "stdout",
     "output_type": "stream",
     "text": [
      "[matrix([[0.00287762, 0.09240317, 0.06364913, 0.04657748, 0.026573  ,\n",
      "         0.00833232, 0.00596218, 0.01702842, 0.14164172, 0.08432525]])]\n",
      "[[0.         0.00287762 0.09240317 0.04657748 0.00596218]\n",
      " [0.00287762 0.         0.06364913 0.026573   0.01702842]\n",
      " [0.09240317 0.06364913 0.         0.00833232 0.14164172]\n",
      " [0.04657748 0.026573   0.00833232 0.         0.08432525]\n",
      " [0.00596218 0.01702842 0.14164172 0.08432525 0.        ]]\n",
      "\n",
      "[[-0.         -0.04546452 -1.4138139  -0.62476889 -0.14816966]\n",
      " [-0.04546452 -0.         -1.10922196 -0.37523111 -0.34696457]\n",
      " [-1.4138139  -1.10922196 -0.         -0.24499048 -1.91580802]\n",
      " [-0.62476889 -0.37523111 -0.24499048 -0.         -1.1652753 ]\n",
      " [-0.14816966 -0.34696457 -1.91580802 -1.1652753  -0.        ]]\n",
      "[[1.         0.96142528 0.28274978 0.52901676 0.92172751]\n",
      " [0.96142528 1.         0.41890452 0.69540225 0.79232292]\n",
      " [0.28274978 0.41890452 1.         0.89234126 0.14423574]\n",
      " [0.52901676 0.69540225 0.89234126 1.         0.31576272]\n",
      " [0.92172751 0.79232292 0.14423574 0.31576272 1.        ]]\n"
     ]
    }
   ],
   "source": [
    "invK2 = pdinv(Ktt +  Lambda * np.eye(T))\n",
    "# print(invK2)\n",
    "Ml2 = np.matmul(Ktt, invK2)\n",
    "Ml2 = np.matmul(Ml2, Kxx)\n",
    "Ml2 = np.matmul(Ml2, invK2)\n",
    "Ml2 = np.matmul(Ml2, Ktt)\n",
    "D2 =np.matmul(np.diag(np.diagonal(Ml2)),np.ones(Ml2.shape)) + np.matmul(np.ones(Ml2.shape), np.diag(np.diagonal(Ml2))) - 2*Ml2\n",
    "# print(D2)\n",
    "# % Gaussian kernel\n",
    "DD2 = D2[np.where(np.tril(np.ones(D2.shape),-1) != 0)]\n",
    "sigma2_square2 = np.median(np.array(DD2))\n",
    "print(sorted(DD2))\n",
    "# sigma2_square2 = median( D2(find(tril(ones(size(D2)),-1))) );\n",
    "Mg2 = np.exp(-D2/sigma2_square2/2)\n",
    "print(D2)\n",
    "print()\n",
    "print(-D/sigma2_square/2)\n",
    "print(Mg2)\n",
    "# %% \n",
    "H = np.eye(T)-1/T*np.ones([T,T])\n",
    "Mg = np.matmul(np.matmul(H, Mg), H)\n",
    "Mg2 = np.matmul(np.matmul(H, Mg2), H)\n",
    "testStat = 1/T**2*np.sum(np.sum(np.multiply(Mg, Mg2)))\n"
   ]
  },
  {
   "cell_type": "code",
   "execution_count": 63,
   "metadata": {},
   "outputs": [
    {
     "name": "stdout",
     "output_type": "stream",
     "text": [
      "sorted DD:[tensor(7.1817e-05, dtype=torch.float64), tensor(0.0002, dtype=torch.float64), tensor(0.0004, dtype=torch.float64), tensor(0.0005, dtype=torch.float64), tensor(0.0006, dtype=torch.float64), tensor(0.0010, dtype=torch.float64), tensor(0.0018, dtype=torch.float64), tensor(0.0018, dtype=torch.float64), tensor(0.0022, dtype=torch.float64), tensor(0.0030, dtype=torch.float64)]\n",
      "sigma2_square 0.0007898176093347475\n",
      "D tensor([[0.0000e+00, 7.1817e-05, 2.2333e-03, 9.8691e-04, 2.3405e-04],\n",
      "        [7.1817e-05, 0.0000e+00, 1.7522e-03, 5.9273e-04, 5.4808e-04],\n",
      "        [2.2333e-03, 1.7522e-03, 0.0000e+00, 3.8700e-04, 3.0263e-03],\n",
      "        [9.8691e-04, 5.9273e-04, 3.8700e-04, 0.0000e+00, 1.8407e-03],\n",
      "        [2.3405e-04, 5.4808e-04, 3.0263e-03, 1.8407e-03, 0.0000e+00]],\n",
      "       dtype=torch.float64)\n",
      "-D/sigma2_square/2 tensor([[-0.0000, -0.0455, -1.4138, -0.6248, -0.1482],\n",
      "        [-0.0455, -0.0000, -1.1092, -0.3752, -0.3470],\n",
      "        [-1.4138, -1.1092, -0.0000, -0.2450, -1.9158],\n",
      "        [-0.6248, -0.3752, -0.2450, -0.0000, -1.1653],\n",
      "        [-0.1482, -0.3470, -1.9158, -1.1653, -0.0000]], dtype=torch.float64)\n",
      "tensor([[1.0000, 0.9556, 0.2432, 0.5354, 0.8623],\n",
      "        [0.9556, 1.0000, 0.3298, 0.6871, 0.7068],\n",
      "        [0.2432, 0.3298, 1.0000, 0.7827, 0.1472],\n",
      "        [0.5354, 0.6871, 0.7827, 1.0000, 0.3118],\n",
      "        [0.8623, 0.7068, 0.1472, 0.3118, 1.0000]], dtype=torch.float64)\n"
     ]
    }
   ],
   "source": [
    "X = AT\n",
    "Y = BT\n",
    "c_indx = CT\n",
    "\n",
    "width = 0.1\n",
    "T,d = X.shape\n",
    "## normalization\n",
    "X = X - torch.mean(X, 0)\n",
    "X = X / torch.std(X, axis=0, unbiased=True)\n",
    "\n",
    "# X = torch.matmul(X, np.diag(1./np.std(X, axis=0, ddof=1)))\n",
    "## normalization\n",
    "Y = Y - torch.mean(Y, 0)\n",
    "Y = Y / torch.std(Y, axis=0, unbiased=True)\n",
    "\n",
    "theta = 1/width**2\n",
    "Lambda = 1\n",
    "Wt = 1\n",
    "theta = 1/width**2\n",
    "Kxx, _ = torch_kernel(X,X, [theta,1])\n",
    "Kxx , _ = torch_kernel(X, X, [theta,1])\n",
    "Kyy, _ = torch_kernel(Y, Y, [theta,1])\n",
    "Ktt, _ = torch_kernel(c_indx, c_indx, [1/Wt**2,1])\n",
    "\n",
    "\n",
    "invK = torch.inverse(torch.mul(Kxx,Ktt) +  Lambda * torch.eye(T))\n",
    "\n",
    "Kxx3 = torch.matmul(torch.matmul(Kxx, Kxx),Kxx)\n",
    "prod_invK =  torch.matmul(torch.matmul(invK, Kyy), invK)\n",
    "###now finding Ml\n",
    "Ml = torch.matmul(torch.matmul(1/T**2*Ktt, torch.mul(Kxx3, prod_invK)), Ktt)\n",
    "# print(Ml)\n",
    "###the square distance\n",
    "D = torch.matmul(torch.diag(torch.diag(Ml)),torch.ones(Ml.shape, dtype=float)) + torch.matmul(torch.ones(Ml.shape, dtype=float), torch.diag(torch.diag(Ml))) - 2*Ml\n",
    "# print(D)\n",
    "DD = D[torch.where(torch.tril(torch.ones(D.shape, dtype=float),-1) != 0)]\n",
    "sigma2_square = torch.quantile(DD, q = 0.5)\n",
    "Mg = torch.exp(-D/sigma2_square/2.0)\n",
    "# print(D.numpy().astype(np.float64))\n",
    "print(\"sorted DD:{}\".format(sorted(DD)))\n",
    "print(\"sigma2_square {}\".format(sigma2_square))\n",
    "print(\"D {}\".format(D))\n",
    "print(\"-D/sigma2_square/2 {}\".format(-D/sigma2_square/2))\n",
    "print(Mg)"
   ]
  },
  {
   "cell_type": "code",
   "execution_count": 29,
   "metadata": {},
   "outputs": [
    {
     "name": "stdout",
     "output_type": "stream",
     "text": [
      "tensor([[-0.0000, -0.2978, -0.1100, -0.4335, -1.8217],\n",
      "        [-0.2978, -0.0000, -0.7618, -0.0129, -0.6706],\n",
      "        [-0.1100, -0.7618, -0.0000, -0.9682, -2.7590],\n",
      "        [-0.4335, -0.0129, -0.9682, -0.0000, -0.5000],\n",
      "        [-1.8217, -0.6706, -2.7590, -0.5000, -0.0000]], dtype=torch.float64)\n",
      "tensor([[1.0000, 0.7424, 0.8959, 0.6483, 0.1617],\n",
      "        [0.7424, 1.0000, 0.4668, 0.9872, 0.5114],\n",
      "        [0.8959, 0.4668, 1.0000, 0.3798, 0.0634],\n",
      "        [0.6483, 0.9872, 0.3798, 1.0000, 0.6065],\n",
      "        [0.1617, 0.5114, 0.0634, 0.6065, 1.0000]], dtype=torch.float64)\n"
     ]
    }
   ],
   "source": [
    "invK2 = torch.inverse(Ktt +  Lambda * torch.eye(T))\n",
    "# print(invK2)\n",
    "Ml2 = torch.matmul(Ktt, invK2)\n",
    "Ml2 = torch.matmul(Ml2, Kxx)\n",
    "Ml2 = torch.matmul(Ml2, invK2)\n",
    "Ml2 = torch.matmul(Ml2, Ktt)\n",
    "D2 =torch.matmul(torch.diag(torch.diag(Ml2)),torch.ones(Ml2.shape, dtype=float)) + torch.matmul(torch.ones(Ml2.shape, dtype=float), torch.diag(torch.diag(Ml2))) - 2*Ml2\n",
    "# print(D2)\n",
    "\n",
    "# % Gaussian kernel\n",
    "DD2 = D2[torch.where(torch.tril(torch.ones(D2.shape),-1) != 0)]\n",
    "sigma2_square2 = torch.quantile(DD2, q=0.5)\n",
    "\n",
    "# sigma2_square2 = median( D2(find(tril(ones(size(D2)),-1))) );\n",
    "print(-D2/sigma2_square2/2)\n",
    "Mg2 = torch.exp(-D2/sigma2_square2/2)\n",
    "print(Mg2)\n",
    "\n",
    "# %% \n",
    "H = torch.eye(T)-1/T*torch.ones([T,T],dtype=float)\n",
    "Mg = torch.matmul(torch.matmul(H, Mg), H)\n",
    "Mg2 = torch.matmul(torch.matmul(H, Mg2), H)\n",
    "testStat = 1/T**2*torch.sum(torch.sum(torch.mul(Mg, Mg2)))"
   ]
  },
  {
   "cell_type": "code",
   "execution_count": 4,
   "metadata": {},
   "outputs": [
    {
     "data": {
      "text/plain": [
       "(tensor(0.0638, dtype=torch.float64),\n",
       " tensor([[ 0.2010,  0.1465, -0.1765, -0.0295, -0.1413],\n",
       "         [ 0.1465,  0.1497, -0.0823, -0.1684, -0.0454],\n",
       "         [-0.1765, -0.0823,  0.2958, -0.2958,  0.2588],\n",
       "         [-0.0295, -0.1684, -0.2958,  0.8028, -0.3091],\n",
       "         [-0.1413, -0.0454,  0.2588, -0.3091,  0.2370]], dtype=torch.float64),\n",
       " tensor([[ 0.1842,  0.1182, -0.2056,  0.0787, -0.1755],\n",
       "         [ 0.1182,  0.1209, -0.0794, -0.1087, -0.0510],\n",
       "         [-0.2056, -0.0794,  0.3335, -0.3497,  0.3012],\n",
       "         [ 0.0787, -0.1087, -0.3497,  0.7329, -0.3531],\n",
       "         [-0.1755, -0.0510,  0.3012, -0.3531,  0.2784]], dtype=torch.float64))"
      ]
     },
     "execution_count": 4,
     "metadata": {},
     "output_type": "execute_result"
    }
   ],
   "source": [
    "torch_infer_nonsta_dir(AT, BT, CT)"
   ]
  },
  {
   "cell_type": "code",
   "execution_count": 5,
   "metadata": {},
   "outputs": [
    {
     "data": {
      "text/plain": [
       "(0.063826910390044,\n",
       " matrix([[ 0.20095125,  0.14647265, -0.1765497 , -0.02954141, -0.14133279],\n",
       "         [ 0.14647265,  0.14971551, -0.08234002, -0.16844106, -0.04540708],\n",
       "         [-0.1765497 , -0.08234002,  0.29580064, -0.2957532 ,  0.25884227],\n",
       "         [-0.02954141, -0.16844106, -0.2957532 ,  0.80280603, -0.30907036],\n",
       "         [-0.14133279, -0.04540708,  0.25884227, -0.30907036,  0.23696795]]),\n",
       " matrix([[ 0.18419595,  0.11820023, -0.20558437,  0.0786597 , -0.17547151],\n",
       "         [ 0.11820023,  0.12091152, -0.07940384, -0.10873531, -0.0509726 ],\n",
       "         [-0.20558437, -0.07940384,  0.33345128, -0.34968609,  0.30122302],\n",
       "         [ 0.0786597 , -0.10873531, -0.34968609,  0.73290387, -0.35314217],\n",
       "         [-0.17547151, -0.0509726 ,  0.30122302, -0.35314217,  0.27836327]]))"
      ]
     },
     "execution_count": 5,
     "metadata": {},
     "output_type": "execute_result"
    }
   ],
   "source": [
    "infer_nonsta_dir(A, B, C)"
   ]
  },
  {
   "cell_type": "code",
   "execution_count": null,
   "metadata": {},
   "outputs": [],
   "source": []
  }
 ],
 "metadata": {
  "kernelspec": {
   "display_name": "Python 3.9.12 ('halo')",
   "language": "python",
   "name": "python3"
  },
  "language_info": {
   "codemirror_mode": {
    "name": "ipython",
    "version": 3
   },
   "file_extension": ".py",
   "mimetype": "text/x-python",
   "name": "python",
   "nbconvert_exporter": "python",
   "pygments_lexer": "ipython3",
   "version": "3.9.12"
  },
  "orig_nbformat": 4,
  "vscode": {
   "interpreter": {
    "hash": "b8353fad07efb87fed686271f8c766cb24580e47ae7007e28a3b0368661d8351"
   }
  }
 },
 "nbformat": 4,
 "nbformat_minor": 2
}
