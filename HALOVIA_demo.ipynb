{
 "cells": [
  {
   "cell_type": "code",
   "execution_count": 1,
   "metadata": {},
   "outputs": [
    {
     "name": "stderr",
     "output_type": "stream",
     "text": [
      "Global seed set to 0\n"
     ]
    }
   ],
   "source": [
    "from typing import Dict, Iterable, Optional\n",
    "\n",
    "import numpy as np\n",
    "import torch\n",
    "from torch.distributions import Normal, Poisson\n",
    "from torch.distributions import kl_divergence as kld\n",
    "from torch import tensor\n",
    "from complementary_models import HALOVIR as HALOVI\n",
    "from complementary_models import HALOVAER as HALOVAE\n",
    "import scanpy as sc\n",
    "import scvi\n",
    "import pandas as pd\n",
    "# torch.autograd.set_detect_anomaly(True)"
   ]
  },
  {
   "cell_type": "code",
   "execution_count": 2,
   "metadata": {},
   "outputs": [],
   "source": [
    "### test whole data with RNA only \n",
    "adata_multi = sc.read_h5ad(\"halo/E18_mouse_Brain/multiomic.h5ad\")\n",
    "adata_multi.obs[\"batch_id\"] = 1\n",
    "adata_multi.var[\"modality\"] =adata_multi.var[\"feature_types\"]\n",
    "adata_mvi = scvi.data.organize_multiome_anndatas(adata_multi)\n",
    "\n",
    "df_meta= pd.read_csv(\"halo/E18_mouse_Brain/RNA/metadata.tsv\",sep = \"\\t\",index_col=0)\n",
    "bins = df_meta.binned.unique()\n",
    "times = {}\n",
    "index = 0\n",
    "for bin in sorted(bins):\n",
    "    times[bin] = index\n",
    "    index += 1\n",
    "\n",
    "def add_time(row, times):\n",
    "    timestamp = times[row.binned]\n",
    "    return timestamp\n",
    "\n",
    "df_meta['time_key'] = df_meta.apply(lambda row: add_time(row, times), axis=1)\n",
    "\n",
    "newindex = []\n",
    "\n",
    "for idx, row in df_meta.iterrows():\n",
    "    newindex.append(idx+\"_paired\")\n",
    "\n",
    "df_meta['Id'] = newindex    \n",
    "\n",
    "df_meta_sub = df_meta[[\"Id\", 'latent_time']]\n",
    "\n",
    "df_meta_sub.set_index(\"Id\", inplace=True)\n",
    "adata_mvi.obs = adata_mvi.obs.join(df_meta_sub, how=\"inner\")\n",
    "sc.pp.filter_genes(adata_mvi, min_cells=int(adata_mvi.shape[0] * 0.01))"
   ]
  },
  {
   "cell_type": "code",
   "execution_count": 3,
   "metadata": {},
   "outputs": [
    {
     "name": "stderr",
     "output_type": "stream",
     "text": [
      "/home/haiyi/anaconda3/envs/halo/lib/python3.9/site-packages/scvi/data/_utils.py:168: UserWarning: Category 0 in adata.obs['_scvi_time_label'] has fewer than 3 cells. Models may not train properly.\n",
      "  warnings.warn(\n"
     ]
    },
    {
     "name": "stdout",
     "output_type": "stream",
     "text": [
      "n_genes :14583\n"
     ]
    }
   ],
   "source": [
    "HALOVI.setup_anndata(adata_mvi, batch_key=\"modality\", time_key='latent_time')\n",
    "model = HALOVI(\n",
    "    adata_mvi,\n",
    "    n_genes=(adata_mvi.var['modality']=='Gene Expression').sum(),\n",
    "    n_regions=(adata_mvi.var['modality']=='Peaks').sum()\n",
    ")"
   ]
  },
  {
   "cell_type": "code",
   "execution_count": 2,
   "metadata": {},
   "outputs": [
    {
     "ename": "NameError",
     "evalue": "name 'model' is not defined",
     "output_type": "error",
     "traceback": [
      "\u001b[0;31m---------------------------------------------------------------------------\u001b[0m",
      "\u001b[0;31mNameError\u001b[0m                                 Traceback (most recent call last)",
      "\u001b[1;32m/home/haiyi/Desktop/HierachicalCausal_Omics/test_HALOVIA.ipynb Cell 4\u001b[0m in \u001b[0;36m<cell line: 1>\u001b[0;34m()\u001b[0m\n\u001b[0;32m----> <a href='vscode-notebook-cell:/home/haiyi/Desktop/HierachicalCausal_Omics/test_HALOVIA.ipynb#X35sZmlsZQ%3D%3D?line=0'>1</a>\u001b[0m model\u001b[39m.\u001b[39mtrain(max_epochs\u001b[39m=\u001b[39m\u001b[39m10\u001b[39m)\n",
      "\u001b[0;31mNameError\u001b[0m: name 'model' is not defined"
     ]
    }
   ],
   "source": [
    "## train both RNA and ATAC\n",
    "model.module.set_train_params(expr_train=True, acc_train=True)\n",
    "model.module.set_finetune_params(0)\n",
    "model.train(max_epochs=400)"
   ]
  },
  {
   "cell_type": "code",
   "execution_count": 1,
   "metadata": {},
   "outputs": [
    {
     "ename": "NameError",
     "evalue": "name 'model' is not defined",
     "output_type": "error",
     "traceback": [
      "\u001b[0;31m---------------------------------------------------------------------------\u001b[0m",
      "\u001b[0;31mNameError\u001b[0m                                 Traceback (most recent call last)",
      "\u001b[1;32m/home/haiyi/Desktop/HierachicalCausal_Omics/test_HALOVIA_demo.ipynb Cell 5\u001b[0m in \u001b[0;36m<cell line: 2>\u001b[0;34m()\u001b[0m\n\u001b[1;32m      <a href='vscode-notebook-cell:/home/haiyi/Desktop/HierachicalCausal_Omics/test_HALOVIA_demo.ipynb#X26sZmlsZQ%3D%3D?line=0'>1</a>\u001b[0m \u001b[39m## fine tune RNA\u001b[39;00m\n\u001b[0;32m----> <a href='vscode-notebook-cell:/home/haiyi/Desktop/HierachicalCausal_Omics/test_HALOVIA_demo.ipynb#X26sZmlsZQ%3D%3D?line=1'>2</a>\u001b[0m model\u001b[39m.\u001b[39mmodule\u001b[39m.\u001b[39mset_train_params(expr_train\u001b[39m=\u001b[39mT, acc_train\u001b[39m=\u001b[39m\u001b[39mFalse\u001b[39;00m)\n\u001b[1;32m      <a href='vscode-notebook-cell:/home/haiyi/Desktop/HierachicalCausal_Omics/test_HALOVIA_demo.ipynb#X26sZmlsZQ%3D%3D?line=2'>3</a>\u001b[0m model\u001b[39m.\u001b[39mmodule\u001b[39m.\u001b[39mset_finetune_params(\u001b[39m0\u001b[39m)\n\u001b[1;32m      <a href='vscode-notebook-cell:/home/haiyi/Desktop/HierachicalCausal_Omics/test_HALOVIA_demo.ipynb#X26sZmlsZQ%3D%3D?line=3'>4</a>\u001b[0m model\u001b[39m.\u001b[39mtrain(max_epochs\u001b[39m=\u001b[39m\u001b[39m400\u001b[39m)\n",
      "\u001b[0;31mNameError\u001b[0m: name 'model' is not defined"
     ]
    }
   ],
   "source": [
    "\n",
    "## fine tune RNA\n",
    "model.module.set_train_params(expr_train=True, acc_train=False)\n",
    "model.module.set_finetune_params(0)\n",
    "model.train(max_epochs=200)"
   ]
  },
  {
   "cell_type": "code",
   "execution_count": 5,
   "metadata": {},
   "outputs": [],
   "source": [
    "## fine tune ATAC\n",
    "model.module.set_train_params(expr_train=False, acc_train=True)\n",
    "model.module.set_finetune_params(0)\n",
    "model.train(max_epochs=200)"
   ]
  },
  {
   "cell_type": "code",
   "execution_count": null,
   "metadata": {},
   "outputs": [],
   "source": [
    "## fine tune constrants\n",
    "## fine tune params==1 --> only finetune \n",
    "model.module.set_train_params(expr_train=False, acc_train=True)\n",
    "model.module.set_finetune_params(1)\n",
    "model.train(max_epochs=200)"
   ]
  },
  {
   "cell_type": "code",
   "execution_count": null,
   "metadata": {},
   "outputs": [],
   "source": [
    "## fine tune all losses : RNA, ATAC, constraints\n",
    "\n",
    "\n",
    "model.module.set_train_params(expr_train=True, acc_train=True)\n",
    "model.module.set_finetune_params(2)\n",
    "model.train(max_epochs=50)"
   ]
  },
  {
   "cell_type": "code",
   "execution_count": null,
   "metadata": {},
   "outputs": [],
   "source": [
    "latent_expr, latent_acc,latent_expr_dep, latent_atac_dep, latent_expr_indep, latent_atac_indep, times  = model.get_latent_representation()\n"
   ]
  },
  {
   "cell_type": "code",
   "execution_count": null,
   "metadata": {},
   "outputs": [],
   "source": [
    "model.save(\"model\")"
   ]
  }
 ],
 "metadata": {
  "kernelspec": {
   "display_name": "Python 3.9.12 ('halo')",
   "language": "python",
   "name": "python3"
  },
  "language_info": {
   "codemirror_mode": {
    "name": "ipython",
    "version": 3
   },
   "file_extension": ".py",
   "mimetype": "text/x-python",
   "name": "python",
   "nbconvert_exporter": "python",
   "pygments_lexer": "ipython3",
   "version": "3.9.12"
  },
  "orig_nbformat": 4,
  "vscode": {
   "interpreter": {
    "hash": "b8353fad07efb87fed686271f8c766cb24580e47ae7007e28a3b0368661d8351"
   }
  }
 },
 "nbformat": 4,
 "nbformat_minor": 2
}
