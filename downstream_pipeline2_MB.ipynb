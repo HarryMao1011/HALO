{
 "cells": [
  {
   "cell_type": "markdown",
   "metadata": {},
   "source": [
    "# Test the HALO Downstreaming Pipelines for regulation potential analysis"
   ]
  },
  {
   "cell_type": "markdown",
   "metadata": {},
   "source": [
    "## Load the library"
   ]
  },
  {
   "cell_type": "code",
   "execution_count": 5,
   "metadata": {},
   "outputs": [],
   "source": [
    "from typing import Dict, Iterable, Optional\n",
    "\n",
    "import numpy as np\n",
    "import torch\n",
    "from torch.distributions import Normal, Poisson\n",
    "from torch.distributions import kl_divergence as kld\n",
    "from torch import tensor\n",
    "import scanpy as sc\n",
    "import anndata\n",
    "import pandas as pd\n",
    "import tools\n",
    "import logging\n",
    "import mira\n",
    "import scanpy as sc\n",
    "import pandas as pd\n",
    "import matplotlib.pyplot as plt\n",
    "import seaborn as sns"
   ]
  },
  {
   "cell_type": "markdown",
   "metadata": {},
   "source": [
    "## You  might need to compute the Mira topic models for downstreaming tasks for Now"
   ]
  },
  {
   "cell_type": "markdown",
   "metadata": {},
   "source": [
    "### If you need to train the MIRA model, see the downstream_pipeline_MIRA_topics.ipynb"
   ]
  },
  {
   "cell_type": "markdown",
   "metadata": {},
   "source": [
    "## Load pretrained model"
   ]
  },
  {
   "cell_type": "code",
   "execution_count": 2,
   "metadata": {},
   "outputs": [],
   "source": [
    "atac_model = mira.topics.AccessibilityTopicModel(counts_layer='counts',\n",
    "                                                 dataset_loader_workers = 3)\n",
    "\n",
    "rna_model = mira.topics.ExpressionTopicModel(\n",
    "    endogenous_key='endog',\n",
    "    exogenous_key='endog',\n",
    "    counts_layer='counts',\n",
    "    seed = 0,\n",
    "    hidden=64, # to make the tutorial faster. In practice, use the default of 128!\n",
    ")               "
   ]
  },
  {
   "cell_type": "code",
   "execution_count": 3,
   "metadata": {},
   "outputs": [
    {
     "name": "stderr",
     "output_type": "stream",
     "text": [
      "/home/haiyi/anaconda3/envs/halo2/lib/python3.7/site-packages/anndata/_core/anndata.py:121: ImplicitModificationWarning: Transforming to str index.\n",
      "  warnings.warn(\"Transforming to str index.\", ImplicitModificationWarning)\n"
     ]
    }
   ],
   "source": [
    "## The original data \n",
    "rna_data = anndata.read_h5ad(\"data/datasets/mouse_brain_rna_interim.h5ad\")\n",
    "atac_data =  anndata.read_h5ad(\"data/datasets/mouse_brain_atac_interim.h5ad\")"
   ]
  },
  {
   "cell_type": "markdown",
   "metadata": {},
   "source": [
    "### You can also load the topic model predicted data\n"
   ]
  },
  {
   "cell_type": "code",
   "execution_count": 7,
   "metadata": {},
   "outputs": [],
   "source": [
    "## you can also load the topic model predicted data\n",
    "rna_data = anndata.read_h5ad(\"data/datasets/mouse_brain_rna_mira.h5ad\")\n",
    "atac_data =  anndata.read_h5ad(\"data/datasets/mouse_brain_atac_mira.h5ad\")"
   ]
  },
  {
   "cell_type": "code",
   "execution_count": 8,
   "metadata": {},
   "outputs": [
    {
     "name": "stderr",
     "output_type": "stream",
     "text": [
      "INFO:mira.topic_model.base:Moving model to CPU for inference.\n",
      "INFO:mira.topic_model.base:Moving model to device: cpu\n",
      "INFO:mira.topic_model.base:Moving model to CPU for inference.\n",
      "INFO:mira.topic_model.base:Moving model to device: cpu\n"
     ]
    }
   ],
   "source": [
    "rna_model = mira.topics.ExpressionTopicModel.load('MIRA/rna_topic_model.pth')\n",
    "atac_model = mira.topics.AccessibilityTopicModel.load('MIRA/atac_topic_model.pth')"
   ]
  },
  {
   "cell_type": "code",
   "execution_count": 28,
   "metadata": {},
   "outputs": [
    {
     "data": {
      "text/plain": [
       "Index(['celltype', 'batch_id', 'modality', 'latent_time', '_scvi_batch',\n",
       "       '_scvi_labels', 'latent_decouple', 'latent_couple', 'latent_1',\n",
       "       'latent_2', 'latent_3', 'latent_4', 'latent_5', 'latent_6', 'latent_7',\n",
       "       'latent_8', 'latent_9', 'latent_10', 'topic_0', 'topic_1', 'topic_2',\n",
       "       'topic_3', 'topic_4', 'topic_5', 'topic_6', 'topic_7', 'topic_8',\n",
       "       'topic_9', 'topic_10', 'topic_11', 'topic_12', 'topic_13', 'topic_14',\n",
       "       'softmax_denom'],\n",
       "      dtype='object')"
      ]
     },
     "execution_count": 28,
     "metadata": {},
     "output_type": "execute_result"
    }
   ],
   "source": [
    "atac_data.obs.columns"
   ]
  },
  {
   "cell_type": "code",
   "execution_count": 32,
   "metadata": {},
   "outputs": [
    {
     "data": {
      "image/png": "[encoded data removed]",
      "text/plain": [
       "<Figure size 640x480 with 1 Axes>"
      ]
     },
     "metadata": {},
     "output_type": "display_data"
    }
   ],
   "source": [
    "rna_latent = rna_data.obs[[ 'topic_0', 'topic_1',\n",
    "       'topic_2', 'topic_3', 'topic_4', 'topic_5', 'topic_6', 'topic_7',\n",
    "       'topic_8', 'topic_9', 'topic_10', 'topic_11', 'topic_12', 'topic_13',\n",
    "       'topic_14']]\n",
    "atac_latent = atac_data.obs[[ 'topic_0', 'topic_1', 'topic_2',\n",
    "       'topic_3', 'topic_4', 'topic_5', 'topic_6', 'topic_7', 'topic_8',\n",
    "       'topic_9', 'topic_10', 'topic_11', 'topic_12', 'topic_13', 'topic_14']]\n",
    "\n",
    "df = pd.concat([rna_latent, atac_latent], axis=1)\n",
    "correlation_matrix = df.corr()\n",
    "correlation_matrix = correlation_matrix.iloc[np.arange(15), np.arange(15,30)]\n",
    "df = pd.DataFrame({\"variable\": \"MIRA\", \"value\": np.abs(correlation_matrix.to_numpy().flatten())})\n",
    "# lower_diagonal_values = lower_triangular_matrix.flatten()\n",
    "ax = sns.boxplot(x='variable', y='value', data=df, palette=\"Dark2\")"
   ]
  },
  {
   "cell_type": "code",
   "execution_count": 33,
   "metadata": {},
   "outputs": [],
   "source": [
    "df.to_csv(\"figs/correlation_benchmark/mira_mouse_brain.csv\")"
   ]
  },
  {
   "cell_type": "markdown",
   "metadata": {},
   "source": [
    "## TSS Annotations"
   ]
  },
  {
   "cell_type": "markdown",
   "metadata": {},
   "source": [
    "### annotate the rna data with Mouse model"
   ]
  },
  {
   "cell_type": "code",
   "execution_count": null,
   "metadata": {},
   "outputs": [],
   "source": [
    "mira.tl.get_distance_to_TSS(atac_data,\n",
    "                            tss_data='data/datasets/mm10_tss_data.bed12',\n",
    "                            genome_file='data/datasets/mm10.chrom.sizes')"
   ]
  },
  {
   "cell_type": "markdown",
   "metadata": {},
   "source": [
    "## Started the PR model"
   ]
  },
  {
   "cell_type": "code",
   "execution_count": 7,
   "metadata": {},
   "outputs": [],
   "source": [
    "rp_args = dict(expr_adata = rna_data, atac_adata= atac_data)\n",
    "rp_genes = [\"ROBO1\", \"CTCF\"]"
   ]
  },
  {
   "cell_type": "code",
   "execution_count": 8,
   "metadata": {},
   "outputs": [],
   "source": [
    "litemodel = mira.rp.LITE_Model(expr_model = rna_model,\n",
    "                              accessibility_model=atac_model,\n",
    "                              counts_layer = 'counts',\n",
    "                              genes = rp_genes)"
   ]
  },
  {
   "cell_type": "code",
   "execution_count": 9,
   "metadata": {},
   "outputs": [
    {
     "name": "stderr",
     "output_type": "stream",
     "text": [
      "Fitting models: 100%|██████████| 2/2 [00:00<00:00, 17.18it/s]\n"
     ]
    },
    {
     "name": "stdout",
     "output_type": "stream",
     "text": [
      "\u001b[2K\r"
     ]
    },
    {
     "data": {
      "text/plain": [
       "<mira.rp_model.rp_model.LITE_Model at 0x7f45a7a2ca50>"
      ]
     },
     "execution_count": 9,
     "metadata": {},
     "output_type": "execute_result"
    }
   ],
   "source": [
    "## Fit the model\n",
    "# litemodel.counts_layer = 'counts'\n",
    "litemodel.fit(expr_adata=rna_data, atac_adata=atac_data, n_workers=4,  callback = mira.rp.SaveCallback(\"rpmodels/mira/\"))"
   ]
  },
  {
   "cell_type": "code",
   "execution_count": 18,
   "metadata": {},
   "outputs": [
    {
     "data": {
      "text/plain": [
       "AnnData object with n_obs × n_vars = 3365 × 14583\n",
       "    obs: 'celltype', 'batch_id', 'modality', 'latent_time', '_scvi_batch', '_scvi_labels'\n",
       "    var: 'gene_ids', 'feature_types', 'modality', 'n_cells'"
      ]
     },
     "execution_count": 18,
     "metadata": {},
     "output_type": "execute_result"
    }
   ],
   "source": [
    "rna_data"
   ]
  },
  {
   "cell_type": "code",
   "execution_count": 11,
   "metadata": {},
   "outputs": [
    {
     "data": {
      "text/html": [
       "<div>\n",
       "<style scoped>\n",
       "    .dataframe tbody tr th:only-of-type {\n",
       "        vertical-align: middle;\n",
       "    }\n",
       "\n",
       "    .dataframe tbody tr th {\n",
       "        vertical-align: top;\n",
       "    }\n",
       "\n",
       "    .dataframe thead th {\n",
       "        text-align: right;\n",
       "    }\n",
       "</style>\n",
       "<table border=\"1\" class=\"dataframe\">\n",
       "  <thead>\n",
       "    <tr style=\"text-align: right;\">\n",
       "      <th></th>\n",
       "      <th>chr</th>\n",
       "      <th>start</th>\n",
       "      <th>end</th>\n",
       "      <th>n_cells</th>\n",
       "      <th>types</th>\n",
       "    </tr>\n",
       "    <tr>\n",
       "      <th>peak_id</th>\n",
       "      <th></th>\n",
       "      <th></th>\n",
       "      <th></th>\n",
       "      <th></th>\n",
       "      <th></th>\n",
       "    </tr>\n",
       "  </thead>\n",
       "  <tbody>\n",
       "    <tr>\n",
       "      <th>1</th>\n",
       "      <td>chr1</td>\n",
       "      <td>3094399</td>\n",
       "      <td>3095523</td>\n",
       "      <td>235</td>\n",
       "      <td>coupled</td>\n",
       "    </tr>\n",
       "    <tr>\n",
       "      <th>2</th>\n",
       "      <td>chr1</td>\n",
       "      <td>3113503</td>\n",
       "      <td>3114077</td>\n",
       "      <td>103</td>\n",
       "      <td>neither</td>\n",
       "    </tr>\n",
       "    <tr>\n",
       "      <th>3</th>\n",
       "      <td>chr1</td>\n",
       "      <td>3119414</td>\n",
       "      <td>3121804</td>\n",
       "      <td>449</td>\n",
       "      <td>neither</td>\n",
       "    </tr>\n",
       "    <tr>\n",
       "      <th>4</th>\n",
       "      <td>chr1</td>\n",
       "      <td>3198296</td>\n",
       "      <td>3198611</td>\n",
       "      <td>46</td>\n",
       "      <td>decoupled</td>\n",
       "    </tr>\n",
       "    <tr>\n",
       "      <th>5</th>\n",
       "      <td>chr1</td>\n",
       "      <td>3210204</td>\n",
       "      <td>3210605</td>\n",
       "      <td>52</td>\n",
       "      <td>neither</td>\n",
       "    </tr>\n",
       "    <tr>\n",
       "      <th>...</th>\n",
       "      <td>...</td>\n",
       "      <td>...</td>\n",
       "      <td>...</td>\n",
       "      <td>...</td>\n",
       "      <td>...</td>\n",
       "    </tr>\n",
       "    <tr>\n",
       "      <th>123879</th>\n",
       "      <td>GL456216.1</td>\n",
       "      <td>37994</td>\n",
       "      <td>39286</td>\n",
       "      <td>266</td>\n",
       "      <td>neither</td>\n",
       "    </tr>\n",
       "    <tr>\n",
       "      <th>123880</th>\n",
       "      <td>GL456216.1</td>\n",
       "      <td>40534</td>\n",
       "      <td>41810</td>\n",
       "      <td>139</td>\n",
       "      <td>coupled</td>\n",
       "    </tr>\n",
       "    <tr>\n",
       "      <th>123881</th>\n",
       "      <td>GL456216.1</td>\n",
       "      <td>49045</td>\n",
       "      <td>49376</td>\n",
       "      <td>35</td>\n",
       "      <td>neither</td>\n",
       "    </tr>\n",
       "    <tr>\n",
       "      <th>123882</th>\n",
       "      <td>JH584292.1</td>\n",
       "      <td>12573</td>\n",
       "      <td>14868</td>\n",
       "      <td>231</td>\n",
       "      <td>coupled</td>\n",
       "    </tr>\n",
       "    <tr>\n",
       "      <th>123883</th>\n",
       "      <td>JH584295.1</td>\n",
       "      <td>0</td>\n",
       "      <td>1976</td>\n",
       "      <td>835</td>\n",
       "      <td>neither</td>\n",
       "    </tr>\n",
       "  </tbody>\n",
       "</table>\n",
       "<p>123883 rows × 5 columns</p>\n",
       "</div>"
      ],
      "text/plain": [
       "                chr    start      end  n_cells      types\n",
       "peak_id                                                  \n",
       "1              chr1  3094399  3095523      235    coupled\n",
       "2              chr1  3113503  3114077      103    neither\n",
       "3              chr1  3119414  3121804      449    neither\n",
       "4              chr1  3198296  3198611       46  decoupled\n",
       "5              chr1  3210204  3210605       52    neither\n",
       "...             ...      ...      ...      ...        ...\n",
       "123879   GL456216.1    37994    39286      266    neither\n",
       "123880   GL456216.1    40534    41810      139    coupled\n",
       "123881   GL456216.1    49045    49376       35    neither\n",
       "123882   JH584292.1    12573    14868      231    coupled\n",
       "123883   JH584295.1        0     1976      835    neither\n",
       "\n",
       "[123883 rows x 5 columns]"
      ]
     },
     "execution_count": 11,
     "metadata": {},
     "output_type": "execute_result"
    }
   ],
   "source": [
    "atac_data.var"
   ]
  },
  {
   "cell_type": "code",
   "execution_count": null,
   "metadata": {},
   "outputs": [],
   "source": []
  }
 ],
 "metadata": {
  "kernelspec": {
   "display_name": "Python 3.7.16 ('halo2')",
   "language": "python",
   "name": "python3"
  },
  "language_info": {
   "codemirror_mode": {
    "name": "ipython",
    "version": 3
   },
   "file_extension": ".py",
   "mimetype": "text/x-python",
   "name": "python",
   "nbconvert_exporter": "python",
   "pygments_lexer": "ipython3",
   "version": "3.7.16"
  },
  "orig_nbformat": 4,
  "vscode": {
   "interpreter": {
    "hash": "b1a2dff3d0af1d2ba6092416114f7f000e7e116c16a32271780d730fd43a1ad4"
   }
  }
 },
 "nbformat": 4,
 "nbformat_minor": 2
}
